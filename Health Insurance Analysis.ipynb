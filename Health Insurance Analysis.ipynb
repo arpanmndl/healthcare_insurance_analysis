{
 "cells": [
  {
   "cell_type": "markdown",
   "id": "a944ce22-b3dd-4f69-bae2-1b17736e749a",
   "metadata": {
    "id": "a944ce22-b3dd-4f69-bae2-1b17736e749a"
   },
   "source": [
    "### 1.\tCollate the 2 excel files to have all the information at one place. Check for missing values and duplicates before joining the 2 datasets."
   ]
  },
  {
   "cell_type": "code",
   "execution_count": 1,
   "id": "3dcde41f-b4df-45e9-902e-1e3598c720b7",
   "metadata": {
    "executionInfo": {
     "elapsed": 916,
     "status": "ok",
     "timestamp": 1667234083278,
     "user": {
      "displayName": "Nimisha Pandey",
      "userId": "15071563106569379314"
     },
     "user_tz": -330
    },
    "id": "3dcde41f-b4df-45e9-902e-1e3598c720b7",
    "tags": []
   },
   "outputs": [],
   "source": [
    "# All libraries/functions required\n",
    "\n",
    "import pandas as pd\n",
    "import numpy as np\n",
    "import matplotlib.pyplot as plt\n",
    "import seaborn as sns\n",
    "from sklearn.preprocessing import OrdinalEncoder\n",
    "import plotly.express as px\n",
    "from statsmodels.formula.api import ols\n",
    "import statsmodels.api  as sm\n",
    "import scipy.stats as stats\n",
    "from statsmodels.stats.multicomp import pairwise_tukeyhsd\n",
    "from sklearn.linear_model import SGDRegressor, Ridge\n",
    "from sklearn.model_selection import KFold, StratifiedKFold, RandomizedSearchCV, train_test_split\n",
    "from sklearn.linear_model import LinearRegression\n",
    "from sklearn.metrics import mean_squared_error as mse, r2_score\n",
    "from sklearn.preprocessing import StandardScaler\n",
    "from sklearn.ensemble import RandomForestRegressor\n",
    "import xgboost as xgb\n",
    "from sklearn.pipeline import Pipeline\n",
    "from xgboost import XGBRegressor\n",
    "from sklearn.model_selection import GridSearchCV"
   ]
  },
  {
   "cell_type": "code",
   "execution_count": 2,
   "id": "f5796005-d544-497e-891a-815f81cd3dec",
   "metadata": {
    "tags": []
   },
   "outputs": [],
   "source": [
    "hosp = pd.read_csv('Hospitalisation details.csv',)\n",
    "medic = pd.read_csv('Medical Examinations.csv',)\n",
    "names = pd.read_excel('Names.xlsx')"
   ]
  },
  {
   "cell_type": "markdown",
   "id": "6b4b6e9a-7e48-4967-ac3c-a647d4a83b3c",
   "metadata": {},
   "source": [
    "## Data inspection using .info()"
   ]
  },
  {
   "cell_type": "code",
   "execution_count": 3,
   "id": "30303bee-7cd0-467f-b71a-f4b8a7d32f8b",
   "metadata": {
    "colab": {
     "base_uri": "https://localhost:8080/"
    },
    "executionInfo": {
     "elapsed": 73,
     "status": "ok",
     "timestamp": 1667228913220,
     "user": {
      "displayName": "Nimisha Pandey",
      "userId": "15071563106569379314"
     },
     "user_tz": -330
    },
    "id": "30303bee-7cd0-467f-b71a-f4b8a7d32f8b",
    "outputId": "baf9c1fa-c25b-4ca2-84a7-0ced25ef1123",
    "tags": []
   },
   "outputs": [
    {
     "name": "stdout",
     "output_type": "stream",
     "text": [
      "<class 'pandas.core.frame.DataFrame'>\n",
      "RangeIndex: 2343 entries, 0 to 2342\n",
      "Data columns (total 9 columns):\n",
      " #   Column         Non-Null Count  Dtype  \n",
      "---  ------         --------------  -----  \n",
      " 0   Customer ID    2343 non-null   object \n",
      " 1   year           2343 non-null   object \n",
      " 2   month          2343 non-null   object \n",
      " 3   date           2343 non-null   int64  \n",
      " 4   children       2343 non-null   int64  \n",
      " 5   charges        2343 non-null   float64\n",
      " 6   Hospital tier  2343 non-null   object \n",
      " 7   City tier      2343 non-null   object \n",
      " 8   State ID       2343 non-null   object \n",
      "dtypes: float64(1), int64(2), object(6)\n",
      "memory usage: 164.9+ KB\n"
     ]
    }
   ],
   "source": [
    "hosp.info()"
   ]
  },
  {
   "cell_type": "code",
   "execution_count": 4,
   "id": "c1ad268f-515a-4034-a420-6924341efd22",
   "metadata": {
    "colab": {
     "base_uri": "https://localhost:8080/"
    },
    "executionInfo": {
     "elapsed": 71,
     "status": "ok",
     "timestamp": 1667228913220,
     "user": {
      "displayName": "Nimisha Pandey",
      "userId": "15071563106569379314"
     },
     "user_tz": -330
    },
    "id": "c1ad268f-515a-4034-a420-6924341efd22",
    "outputId": "e6f422d8-d752-4ba8-f179-7a65481be5c1",
    "tags": []
   },
   "outputs": [
    {
     "name": "stdout",
     "output_type": "stream",
     "text": [
      "<class 'pandas.core.frame.DataFrame'>\n",
      "RangeIndex: 2335 entries, 0 to 2334\n",
      "Data columns (total 8 columns):\n",
      " #   Column                  Non-Null Count  Dtype  \n",
      "---  ------                  --------------  -----  \n",
      " 0   Customer ID             2335 non-null   object \n",
      " 1   BMI                     2335 non-null   float64\n",
      " 2   HBA1C                   2335 non-null   float64\n",
      " 3   Heart Issues            2335 non-null   object \n",
      " 4   Any Transplants         2335 non-null   object \n",
      " 5   Cancer history          2335 non-null   object \n",
      " 6   NumberOfMajorSurgeries  2335 non-null   object \n",
      " 7   smoker                  2335 non-null   object \n",
      "dtypes: float64(2), object(6)\n",
      "memory usage: 146.1+ KB\n"
     ]
    }
   ],
   "source": [
    "medic.info()"
   ]
  },
  {
   "cell_type": "code",
   "execution_count": 5,
   "id": "80f613b8-0c96-4b07-bbac-a41020a34451",
   "metadata": {},
   "outputs": [
    {
     "name": "stdout",
     "output_type": "stream",
     "text": [
      "<class 'pandas.core.frame.DataFrame'>\n",
      "RangeIndex: 2335 entries, 0 to 2334\n",
      "Data columns (total 2 columns):\n",
      " #   Column       Non-Null Count  Dtype \n",
      "---  ------       --------------  ----- \n",
      " 0   Customer ID  2335 non-null   object\n",
      " 1   name         2335 non-null   object\n",
      "dtypes: object(2)\n",
      "memory usage: 36.6+ KB\n"
     ]
    }
   ],
   "source": [
    "names.info()"
   ]
  },
  {
   "cell_type": "code",
   "execution_count": 6,
   "id": "9a4d9d99-5458-4017-bffe-3dd34e18c9ef",
   "metadata": {
    "executionInfo": {
     "elapsed": 68,
     "status": "ok",
     "timestamp": 1667228913221,
     "user": {
      "displayName": "Nimisha Pandey",
      "userId": "15071563106569379314"
     },
     "user_tz": -330
    },
    "id": "9a4d9d99-5458-4017-bffe-3dd34e18c9ef",
    "tags": []
   },
   "outputs": [],
   "source": [
    "master_data = pd.merge(hosp, medic, how = 'inner', on = 'Customer ID')"
   ]
  },
  {
   "cell_type": "code",
   "execution_count": 7,
   "id": "144ef3c6-ce8c-458a-a4e4-325236a0d841",
   "metadata": {
    "colab": {
     "base_uri": "https://localhost:8080/"
    },
    "executionInfo": {
     "elapsed": 68,
     "status": "ok",
     "timestamp": 1667228913222,
     "user": {
      "displayName": "Nimisha Pandey",
      "userId": "15071563106569379314"
     },
     "user_tz": -330
    },
    "id": "144ef3c6-ce8c-458a-a4e4-325236a0d841",
    "outputId": "66390051-c641-4e68-a31f-75921c27793e",
    "tags": []
   },
   "outputs": [
    {
     "name": "stdout",
     "output_type": "stream",
     "text": [
      "<class 'pandas.core.frame.DataFrame'>\n",
      "RangeIndex: 2335 entries, 0 to 2334\n",
      "Data columns (total 16 columns):\n",
      " #   Column                  Non-Null Count  Dtype  \n",
      "---  ------                  --------------  -----  \n",
      " 0   Customer ID             2335 non-null   object \n",
      " 1   year                    2335 non-null   object \n",
      " 2   month                   2335 non-null   object \n",
      " 3   date                    2335 non-null   int64  \n",
      " 4   children                2335 non-null   int64  \n",
      " 5   charges                 2335 non-null   float64\n",
      " 6   Hospital tier           2335 non-null   object \n",
      " 7   City tier               2335 non-null   object \n",
      " 8   State ID                2335 non-null   object \n",
      " 9   BMI                     2335 non-null   float64\n",
      " 10  HBA1C                   2335 non-null   float64\n",
      " 11  Heart Issues            2335 non-null   object \n",
      " 12  Any Transplants         2335 non-null   object \n",
      " 13  Cancer history          2335 non-null   object \n",
      " 14  NumberOfMajorSurgeries  2335 non-null   object \n",
      " 15  smoker                  2335 non-null   object \n",
      "dtypes: float64(3), int64(2), object(11)\n",
      "memory usage: 292.0+ KB\n"
     ]
    }
   ],
   "source": [
    "master_data.info()"
   ]
  },
  {
   "cell_type": "code",
   "execution_count": 8,
   "id": "f2ea7530-c573-40d0-8e70-95eeac7022dd",
   "metadata": {},
   "outputs": [],
   "source": [
    "master_data = master_data.merge(names,on='Customer ID')"
   ]
  },
  {
   "cell_type": "code",
   "execution_count": 9,
   "id": "6e66c9b8",
   "metadata": {},
   "outputs": [
    {
     "data": {
      "text/html": [
       "<div>\n",
       "<style scoped>\n",
       "    .dataframe tbody tr th:only-of-type {\n",
       "        vertical-align: middle;\n",
       "    }\n",
       "\n",
       "    .dataframe tbody tr th {\n",
       "        vertical-align: top;\n",
       "    }\n",
       "\n",
       "    .dataframe thead th {\n",
       "        text-align: right;\n",
       "    }\n",
       "</style>\n",
       "<table border=\"1\" class=\"dataframe\">\n",
       "  <thead>\n",
       "    <tr style=\"text-align: right;\">\n",
       "      <th></th>\n",
       "      <th>Customer ID</th>\n",
       "      <th>year</th>\n",
       "      <th>month</th>\n",
       "      <th>date</th>\n",
       "      <th>children</th>\n",
       "      <th>charges</th>\n",
       "      <th>Hospital tier</th>\n",
       "      <th>City tier</th>\n",
       "      <th>State ID</th>\n",
       "      <th>BMI</th>\n",
       "      <th>HBA1C</th>\n",
       "      <th>Heart Issues</th>\n",
       "      <th>Any Transplants</th>\n",
       "      <th>Cancer history</th>\n",
       "      <th>NumberOfMajorSurgeries</th>\n",
       "      <th>smoker</th>\n",
       "      <th>name</th>\n",
       "    </tr>\n",
       "  </thead>\n",
       "  <tbody>\n",
       "    <tr>\n",
       "      <th>0</th>\n",
       "      <td>Id2335</td>\n",
       "      <td>1992</td>\n",
       "      <td>Jul</td>\n",
       "      <td>9</td>\n",
       "      <td>0</td>\n",
       "      <td>563.84</td>\n",
       "      <td>tier - 2</td>\n",
       "      <td>tier - 3</td>\n",
       "      <td>R1013</td>\n",
       "      <td>17.58</td>\n",
       "      <td>4.51</td>\n",
       "      <td>No</td>\n",
       "      <td>No</td>\n",
       "      <td>No</td>\n",
       "      <td>1</td>\n",
       "      <td>No</td>\n",
       "      <td>German, Mr.  Aaron K</td>\n",
       "    </tr>\n",
       "    <tr>\n",
       "      <th>1</th>\n",
       "      <td>Id2334</td>\n",
       "      <td>1992</td>\n",
       "      <td>Nov</td>\n",
       "      <td>30</td>\n",
       "      <td>0</td>\n",
       "      <td>570.62</td>\n",
       "      <td>tier - 2</td>\n",
       "      <td>tier - 1</td>\n",
       "      <td>R1013</td>\n",
       "      <td>17.60</td>\n",
       "      <td>4.39</td>\n",
       "      <td>No</td>\n",
       "      <td>No</td>\n",
       "      <td>No</td>\n",
       "      <td>1</td>\n",
       "      <td>No</td>\n",
       "      <td>Rosendahl, Mr.  Evan P</td>\n",
       "    </tr>\n",
       "  </tbody>\n",
       "</table>\n",
       "</div>"
      ],
      "text/plain": [
       "  Customer ID  year month  date  children  charges Hospital tier City tier  \\\n",
       "0      Id2335  1992   Jul     9         0   563.84      tier - 2  tier - 3   \n",
       "1      Id2334  1992   Nov    30         0   570.62      tier - 2  tier - 1   \n",
       "\n",
       "  State ID    BMI  HBA1C Heart Issues Any Transplants Cancer history  \\\n",
       "0    R1013  17.58   4.51           No              No             No   \n",
       "1    R1013  17.60   4.39           No              No             No   \n",
       "\n",
       "  NumberOfMajorSurgeries smoker                    name  \n",
       "0                      1     No    German, Mr.  Aaron K  \n",
       "1                      1     No  Rosendahl, Mr.  Evan P  "
      ]
     },
     "execution_count": 9,
     "metadata": {},
     "output_type": "execute_result"
    }
   ],
   "source": [
    "master_data.head(2)"
   ]
  },
  {
   "cell_type": "code",
   "execution_count": 10,
   "id": "5841b679",
   "metadata": {},
   "outputs": [
    {
     "data": {
      "text/plain": [
       "0    tier - 3\n",
       "1    tier - 1\n",
       "2    tier - 1\n",
       "3    tier - 3\n",
       "4    tier - 3\n",
       "Name: City tier, dtype: object"
      ]
     },
     "execution_count": 10,
     "metadata": {},
     "output_type": "execute_result"
    }
   ],
   "source": [
    "master_data[\"City tier\"].head()"
   ]
  },
  {
   "cell_type": "code",
   "execution_count": 11,
   "id": "ebfbd27c-ff98-4559-a0a3-8effc12111db",
   "metadata": {
    "colab": {
     "base_uri": "https://localhost:8080/"
    },
    "executionInfo": {
     "elapsed": 53,
     "status": "ok",
     "timestamp": 1667228913222,
     "user": {
      "displayName": "Nimisha Pandey",
      "userId": "15071563106569379314"
     },
     "user_tz": -330
    },
    "id": "ebfbd27c-ff98-4559-a0a3-8effc12111db",
    "outputId": "1d59dde9-2723-4b81-b7e2-268d350289d2",
    "tags": []
   },
   "outputs": [
    {
     "data": {
      "text/plain": [
       "Index(['customer_id', 'year', 'month', 'date', 'children', 'charges',\n",
       "       'hospital_tier', 'city_tier', 'state_id', 'bmi', 'hba1c',\n",
       "       'heart_issues', 'any_transplants', 'cancer_history',\n",
       "       'numberofmajorsurgeries', 'smoker', 'name'],\n",
       "      dtype='object')"
      ]
     },
     "execution_count": 11,
     "metadata": {},
     "output_type": "execute_result"
    }
   ],
   "source": [
    "master_data.columns = master_data.columns.str.lower()\n",
    "master_data.columns = master_data.columns.str.replace(' ', '_')\n",
    "master_data.columns"
   ]
  },
  {
   "cell_type": "code",
   "execution_count": 12,
   "id": "8565f9e4",
   "metadata": {},
   "outputs": [
    {
     "data": {
      "text/plain": [
       "0       tier - 3\n",
       "1       tier - 1\n",
       "2       tier - 1\n",
       "3       tier - 3\n",
       "4       tier - 3\n",
       "          ...   \n",
       "2330    tier - 2\n",
       "2331    tier - 3\n",
       "2332    tier - 1\n",
       "2333    tier - 3\n",
       "2334    tier - 3\n",
       "Name: city_tier, Length: 2335, dtype: object"
      ]
     },
     "execution_count": 12,
     "metadata": {},
     "output_type": "execute_result"
    }
   ],
   "source": [
    "master_data.city_tier"
   ]
  },
  {
   "cell_type": "markdown",
   "id": "210c8212-58cb-4085-b749-28f2422996d1",
   "metadata": {
    "id": "210c8212-58cb-4085-b749-28f2422996d1"
   },
   "source": [
    "### 2.\tThe data seems to have trivial values in a few variables. These are “?”. Find the percentage of rows which have such value (“?”) in any column. Delete such rows in case you don’t lose significant information. "
   ]
  },
  {
   "cell_type": "code",
   "execution_count": 13,
   "id": "da304c81-cecb-4dcf-883a-eeb2a6b98eb1",
   "metadata": {
    "colab": {
     "base_uri": "https://localhost:8080/"
    },
    "executionInfo": {
     "elapsed": 51,
     "status": "ok",
     "timestamp": 1667228913223,
     "user": {
      "displayName": "Nimisha Pandey",
      "userId": "15071563106569379314"
     },
     "user_tz": -330
    },
    "id": "da304c81-cecb-4dcf-883a-eeb2a6b98eb1",
    "outputId": "3466b036-34c7-48a9-da3f-c552e491d4d4",
    "tags": []
   },
   "outputs": [
    {
     "data": {
      "text/plain": [
       "customer_id               0\n",
       "year                      2\n",
       "month                     3\n",
       "date                      0\n",
       "children                  0\n",
       "charges                   0\n",
       "hospital_tier             1\n",
       "city_tier                 1\n",
       "state_id                  2\n",
       "bmi                       0\n",
       "hba1c                     0\n",
       "heart_issues              0\n",
       "any_transplants           0\n",
       "cancer_history            0\n",
       "numberofmajorsurgeries    0\n",
       "smoker                    2\n",
       "name                      0\n",
       "dtype: int64"
      ]
     },
     "execution_count": 13,
     "metadata": {},
     "output_type": "execute_result"
    }
   ],
   "source": [
    "(master_data == '?').sum()"
   ]
  },
  {
   "cell_type": "code",
   "execution_count": 14,
   "id": "be9ef7bb-1912-42ca-a708-e91fc3a20f5f",
   "metadata": {
    "executionInfo": {
     "elapsed": 61,
     "status": "ok",
     "timestamp": 1667228913236,
     "user": {
      "displayName": "Nimisha Pandey",
      "userId": "15071563106569379314"
     },
     "user_tz": -330
    },
    "id": "be9ef7bb-1912-42ca-a708-e91fc3a20f5f",
    "tags": []
   },
   "outputs": [],
   "source": [
    "# replacing '?' with np.NA for easy access and removal "
   ]
  },
  {
   "cell_type": "code",
   "execution_count": 15,
   "id": "9df05290-2f69-44ef-97ee-93a0fc2ebea0",
   "metadata": {
    "colab": {
     "base_uri": "https://localhost:8080/"
    },
    "executionInfo": {
     "elapsed": 492,
     "status": "ok",
     "timestamp": 1667228913668,
     "user": {
      "displayName": "Nimisha Pandey",
      "userId": "15071563106569379314"
     },
     "user_tz": -330
    },
    "id": "9df05290-2f69-44ef-97ee-93a0fc2ebea0",
    "outputId": "64005516-d353-4f8c-f366-2c81216be31a",
    "tags": []
   },
   "outputs": [
    {
     "data": {
      "text/plain": [
       "11       5.882353\n",
       "13       5.882353\n",
       "17      11.764706\n",
       "542      5.882353\n",
       "1046     5.882353\n",
       "1049     5.882353\n",
       "1700     5.882353\n",
       "1775     5.882353\n",
       "2165     5.882353\n",
       "2332     5.882353\n",
       "dtype: float64"
      ]
     },
     "execution_count": 15,
     "metadata": {},
     "output_type": "execute_result"
    }
   ],
   "source": [
    "miss_perc = (master_data == '?').sum(axis = 1)/master_data.shape[1] * 100\n",
    "miss_perc[miss_perc > 0]"
   ]
  },
  {
   "cell_type": "code",
   "execution_count": 16,
   "id": "ff397390-a4ac-4997-afa1-1a5181c0ca5c",
   "metadata": {
    "colab": {
     "base_uri": "https://localhost:8080/"
    },
    "executionInfo": {
     "elapsed": 5,
     "status": "ok",
     "timestamp": 1667228921778,
     "user": {
      "displayName": "Nimisha Pandey",
      "userId": "15071563106569379314"
     },
     "user_tz": -330
    },
    "id": "ff397390-a4ac-4997-afa1-1a5181c0ca5c",
    "outputId": "fa365e17-d3ef-4d56-f588-45e2a4eef266",
    "tags": []
   },
   "outputs": [
    {
     "data": {
      "text/plain": [
       "Index([11, 13, 17, 542, 1046, 1049, 1700, 1775, 2165, 2332], dtype='int64')"
      ]
     },
     "execution_count": 16,
     "metadata": {},
     "output_type": "execute_result"
    }
   ],
   "source": [
    "miss_perc[miss_perc>0].index"
   ]
  },
  {
   "cell_type": "code",
   "execution_count": 17,
   "id": "951d84e6-1102-4bd3-8f93-22e91743dd16",
   "metadata": {
    "colab": {
     "base_uri": "https://localhost:8080/"
    },
    "executionInfo": {
     "elapsed": 7,
     "status": "ok",
     "timestamp": 1667228922316,
     "user": {
      "displayName": "Nimisha Pandey",
      "userId": "15071563106569379314"
     },
     "user_tz": -330
    },
    "id": "951d84e6-1102-4bd3-8f93-22e91743dd16",
    "outputId": "cc610211-9ad9-4a03-cf80-49ec43be766b",
    "tags": []
   },
   "outputs": [
    {
     "data": {
      "text/plain": [
       "month                     0.128480\n",
       "state_id                  0.085653\n",
       "year                      0.085653\n",
       "smoker                    0.085653\n",
       "city_tier                 0.042827\n",
       "hospital_tier             0.042827\n",
       "customer_id               0.000000\n",
       "children                  0.000000\n",
       "date                      0.000000\n",
       "charges                   0.000000\n",
       "bmi                       0.000000\n",
       "heart_issues              0.000000\n",
       "hba1c                     0.000000\n",
       "any_transplants           0.000000\n",
       "cancer_history            0.000000\n",
       "numberofmajorsurgeries    0.000000\n",
       "name                      0.000000\n",
       "dtype: float64"
      ]
     },
     "execution_count": 17,
     "metadata": {},
     "output_type": "execute_result"
    }
   ],
   "source": [
    "miss_perc_col = (master_data == '?').sum(axis = 0)/master_data.shape[0] * 100\n",
    "miss_perc_col.sort_values(ascending= False)"
   ]
  },
  {
   "cell_type": "code",
   "execution_count": 18,
   "id": "4fe29265-12b8-4e82-afee-fd4db6620666",
   "metadata": {
    "colab": {
     "base_uri": "https://localhost:8080/"
    },
    "executionInfo": {
     "elapsed": 16,
     "status": "ok",
     "timestamp": 1667228923572,
     "user": {
      "displayName": "Nimisha Pandey",
      "userId": "15071563106569379314"
     },
     "user_tz": -330
    },
    "id": "4fe29265-12b8-4e82-afee-fd4db6620666",
    "outputId": "433df98e-20a3-4b71-80d9-a61fca6b1aaa",
    "tags": []
   },
   "outputs": [
    {
     "data": {
      "text/plain": [
       "(2325, 17)"
      ]
     },
     "execution_count": 18,
     "metadata": {},
     "output_type": "execute_result"
    }
   ],
   "source": [
    "master_noq = master_data.drop(index = miss_perc[miss_perc>0].index)\n",
    "master_noq.shape"
   ]
  },
  {
   "cell_type": "code",
   "execution_count": 19,
   "id": "8c66f62a-768a-412c-8804-9a10d5143919",
   "metadata": {
    "colab": {
     "base_uri": "https://localhost:8080/"
    },
    "executionInfo": {
     "elapsed": 15,
     "status": "ok",
     "timestamp": 1667228923573,
     "user": {
      "displayName": "Nimisha Pandey",
      "userId": "15071563106569379314"
     },
     "user_tz": -330
    },
    "id": "8c66f62a-768a-412c-8804-9a10d5143919",
    "outputId": "78b2c594-7e9d-437e-c14c-ebfc41a310e6",
    "tags": []
   },
   "outputs": [
    {
     "data": {
      "text/plain": [
       "customer_id               0\n",
       "year                      0\n",
       "month                     0\n",
       "date                      0\n",
       "children                  0\n",
       "charges                   0\n",
       "hospital_tier             0\n",
       "city_tier                 0\n",
       "state_id                  0\n",
       "bmi                       0\n",
       "hba1c                     0\n",
       "heart_issues              0\n",
       "any_transplants           0\n",
       "cancer_history            0\n",
       "numberofmajorsurgeries    0\n",
       "smoker                    0\n",
       "name                      0\n",
       "dtype: int64"
      ]
     },
     "execution_count": 19,
     "metadata": {},
     "output_type": "execute_result"
    }
   ],
   "source": [
    "master_noq.isna().sum()"
   ]
  },
  {
   "cell_type": "markdown",
   "id": "e89bb4da-25dc-496a-b569-d98a972a9fc3",
   "metadata": {
    "id": "e89bb4da-25dc-496a-b569-d98a972a9fc3"
   },
   "source": [
    "### 3.\t The data has nominal and ordinal categorical variables. How are you going to incorporate these variables in the next steps of modelling. Use necessary transformation methods to deal with nominal and ordinal types of data."
   ]
  },
  {
   "cell_type": "raw",
   "id": "6fa76076-a313-4033-9b98-9ca9fd4760f3",
   "metadata": {
    "id": "6fa76076-a313-4033-9b98-9ca9fd4760f3"
   },
   "source": [
    "nominal categorical = heart_issues any_transplants cancer_history smoker and state_id - generally dummy variables are created\n",
    "ordinal categorical = city tier and hospital tier - numbers are assigned to categories based on rank"
   ]
  },
  {
   "cell_type": "code",
   "execution_count": 20,
   "id": "9119a94e-36cd-41ec-bb18-b08d37fde84d",
   "metadata": {},
   "outputs": [
    {
     "data": {
      "text/html": [
       "<div>\n",
       "<style scoped>\n",
       "    .dataframe tbody tr th:only-of-type {\n",
       "        vertical-align: middle;\n",
       "    }\n",
       "\n",
       "    .dataframe tbody tr th {\n",
       "        vertical-align: top;\n",
       "    }\n",
       "\n",
       "    .dataframe thead th {\n",
       "        text-align: right;\n",
       "    }\n",
       "</style>\n",
       "<table border=\"1\" class=\"dataframe\">\n",
       "  <thead>\n",
       "    <tr style=\"text-align: right;\">\n",
       "      <th></th>\n",
       "      <th>city_tier</th>\n",
       "      <th>hospital_tier</th>\n",
       "    </tr>\n",
       "  </thead>\n",
       "  <tbody>\n",
       "    <tr>\n",
       "      <th>0</th>\n",
       "      <td>tier - 3</td>\n",
       "      <td>tier - 2</td>\n",
       "    </tr>\n",
       "    <tr>\n",
       "      <th>1</th>\n",
       "      <td>tier - 1</td>\n",
       "      <td>tier - 2</td>\n",
       "    </tr>\n",
       "    <tr>\n",
       "      <th>2</th>\n",
       "      <td>tier - 1</td>\n",
       "      <td>tier - 2</td>\n",
       "    </tr>\n",
       "    <tr>\n",
       "      <th>3</th>\n",
       "      <td>tier - 3</td>\n",
       "      <td>tier - 3</td>\n",
       "    </tr>\n",
       "    <tr>\n",
       "      <th>4</th>\n",
       "      <td>tier - 3</td>\n",
       "      <td>tier - 3</td>\n",
       "    </tr>\n",
       "    <tr>\n",
       "      <th>...</th>\n",
       "      <td>...</td>\n",
       "      <td>...</td>\n",
       "    </tr>\n",
       "    <tr>\n",
       "      <th>2329</th>\n",
       "      <td>tier - 3</td>\n",
       "      <td>tier - 1</td>\n",
       "    </tr>\n",
       "    <tr>\n",
       "      <th>2330</th>\n",
       "      <td>tier - 2</td>\n",
       "      <td>tier - 1</td>\n",
       "    </tr>\n",
       "    <tr>\n",
       "      <th>2331</th>\n",
       "      <td>tier - 3</td>\n",
       "      <td>tier - 1</td>\n",
       "    </tr>\n",
       "    <tr>\n",
       "      <th>2333</th>\n",
       "      <td>tier - 3</td>\n",
       "      <td>tier - 2</td>\n",
       "    </tr>\n",
       "    <tr>\n",
       "      <th>2334</th>\n",
       "      <td>tier - 3</td>\n",
       "      <td>tier - 1</td>\n",
       "    </tr>\n",
       "  </tbody>\n",
       "</table>\n",
       "<p>2325 rows × 2 columns</p>\n",
       "</div>"
      ],
      "text/plain": [
       "     city_tier hospital_tier\n",
       "0     tier - 3      tier - 2\n",
       "1     tier - 1      tier - 2\n",
       "2     tier - 1      tier - 2\n",
       "3     tier - 3      tier - 3\n",
       "4     tier - 3      tier - 3\n",
       "...        ...           ...\n",
       "2329  tier - 3      tier - 1\n",
       "2330  tier - 2      tier - 1\n",
       "2331  tier - 3      tier - 1\n",
       "2333  tier - 3      tier - 2\n",
       "2334  tier - 3      tier - 1\n",
       "\n",
       "[2325 rows x 2 columns]"
      ]
     },
     "execution_count": 20,
     "metadata": {},
     "output_type": "execute_result"
    }
   ],
   "source": [
    "master_noq[['city_tier', 'hospital_tier']]"
   ]
  },
  {
   "cell_type": "code",
   "execution_count": 21,
   "id": "989c6795",
   "metadata": {},
   "outputs": [
    {
     "data": {
      "text/plain": [
       "state_id\n",
       "R1013    609\n",
       "R1011    574\n",
       "R1012    572\n",
       "R1024    159\n",
       "R1026     84\n",
       "R1021     70\n",
       "R1016     64\n",
       "R1025     40\n",
       "R1023     38\n",
       "R1017     36\n",
       "R1019     26\n",
       "R1022     14\n",
       "R1014     13\n",
       "R1015     11\n",
       "R1018      9\n",
       "R1020      6\n",
       "Name: count, dtype: int64"
      ]
     },
     "execution_count": 21,
     "metadata": {},
     "output_type": "execute_result"
    }
   ],
   "source": [
    "master_noq.state_id.value_counts()"
   ]
  },
  {
   "cell_type": "code",
   "execution_count": 22,
   "id": "b01aa717-96ed-4bca-9120-8f3dfc30488e",
   "metadata": {
    "colab": {
     "base_uri": "https://localhost:8080/"
    },
    "executionInfo": {
     "elapsed": 5,
     "status": "ok",
     "timestamp": 1667228924747,
     "user": {
      "displayName": "Nimisha Pandey",
      "userId": "15071563106569379314"
     },
     "user_tz": -330
    },
    "id": "b01aa717-96ed-4bca-9120-8f3dfc30488e",
    "outputId": "d2663efb-973b-4870-ddbe-0a432783c936",
    "tags": []
   },
   "outputs": [],
   "source": [
    "# Using ordinalencoder to deal with ordinal categorical variables - city tier and hospital tier\n",
    "\n",
    "ordinal = OrdinalEncoder(categories= [['tier - 3', 'tier - 2', 'tier - 1'],['tier - 3', 'tier - 2', 'tier - 1']])\n",
    "master_noq[['city_tier_ord','hospital_tier_ord']] = ordinal.fit_transform(master_noq[['city_tier', 'hospital_tier']])"
   ]
  },
  {
   "cell_type": "code",
   "execution_count": 23,
   "id": "c7e4af2a-a781-4fe4-9e34-6ab52c5ec800",
   "metadata": {
    "colab": {
     "base_uri": "https://localhost:8080/",
     "height": 175
    },
    "executionInfo": {
     "elapsed": 14,
     "status": "ok",
     "timestamp": 1667228925735,
     "user": {
      "displayName": "Nimisha Pandey",
      "userId": "15071563106569379314"
     },
     "user_tz": -330
    },
    "id": "c7e4af2a-a781-4fe4-9e34-6ab52c5ec800",
    "outputId": "03d55cf7-d872-4a4d-fc7a-3db30196eee4"
   },
   "outputs": [
    {
     "data": {
      "text/html": [
       "<div>\n",
       "<style scoped>\n",
       "    .dataframe tbody tr th:only-of-type {\n",
       "        vertical-align: middle;\n",
       "    }\n",
       "\n",
       "    .dataframe tbody tr th {\n",
       "        vertical-align: top;\n",
       "    }\n",
       "\n",
       "    .dataframe thead th {\n",
       "        text-align: right;\n",
       "    }\n",
       "</style>\n",
       "<table border=\"1\" class=\"dataframe\">\n",
       "  <thead>\n",
       "    <tr style=\"text-align: right;\">\n",
       "      <th>city_tier</th>\n",
       "      <th>tier - 1</th>\n",
       "      <th>tier - 2</th>\n",
       "      <th>tier - 3</th>\n",
       "    </tr>\n",
       "    <tr>\n",
       "      <th>city_tier_ord</th>\n",
       "      <th></th>\n",
       "      <th></th>\n",
       "      <th></th>\n",
       "    </tr>\n",
       "  </thead>\n",
       "  <tbody>\n",
       "    <tr>\n",
       "      <th>0.0</th>\n",
       "      <td>0</td>\n",
       "      <td>0</td>\n",
       "      <td>789</td>\n",
       "    </tr>\n",
       "    <tr>\n",
       "      <th>1.0</th>\n",
       "      <td>0</td>\n",
       "      <td>807</td>\n",
       "      <td>0</td>\n",
       "    </tr>\n",
       "    <tr>\n",
       "      <th>2.0</th>\n",
       "      <td>729</td>\n",
       "      <td>0</td>\n",
       "      <td>0</td>\n",
       "    </tr>\n",
       "  </tbody>\n",
       "</table>\n",
       "</div>"
      ],
      "text/plain": [
       "city_tier      tier - 1  tier - 2  tier - 3\n",
       "city_tier_ord                              \n",
       "0.0                   0         0       789\n",
       "1.0                   0       807         0\n",
       "2.0                 729         0         0"
      ]
     },
     "execution_count": 23,
     "metadata": {},
     "output_type": "execute_result"
    }
   ],
   "source": [
    "pd.crosstab(master_noq['city_tier_ord'],master_noq['city_tier'])"
   ]
  },
  {
   "cell_type": "code",
   "execution_count": 24,
   "id": "f16affab-36f7-4f47-ac6b-628f5c9c19dd",
   "metadata": {
    "colab": {
     "base_uri": "https://localhost:8080/",
     "height": 175
    },
    "executionInfo": {
     "elapsed": 704,
     "status": "ok",
     "timestamp": 1667228927217,
     "user": {
      "displayName": "Nimisha Pandey",
      "userId": "15071563106569379314"
     },
     "user_tz": -330
    },
    "id": "f16affab-36f7-4f47-ac6b-628f5c9c19dd",
    "outputId": "02fa3d72-bea6-4f02-9ded-48351b722a0f"
   },
   "outputs": [
    {
     "data": {
      "text/html": [
       "<div>\n",
       "<style scoped>\n",
       "    .dataframe tbody tr th:only-of-type {\n",
       "        vertical-align: middle;\n",
       "    }\n",
       "\n",
       "    .dataframe tbody tr th {\n",
       "        vertical-align: top;\n",
       "    }\n",
       "\n",
       "    .dataframe thead th {\n",
       "        text-align: right;\n",
       "    }\n",
       "</style>\n",
       "<table border=\"1\" class=\"dataframe\">\n",
       "  <thead>\n",
       "    <tr style=\"text-align: right;\">\n",
       "      <th>hospital_tier</th>\n",
       "      <th>tier - 1</th>\n",
       "      <th>tier - 2</th>\n",
       "      <th>tier - 3</th>\n",
       "    </tr>\n",
       "    <tr>\n",
       "      <th>hospital_tier_ord</th>\n",
       "      <th></th>\n",
       "      <th></th>\n",
       "      <th></th>\n",
       "    </tr>\n",
       "  </thead>\n",
       "  <tbody>\n",
       "    <tr>\n",
       "      <th>0.0</th>\n",
       "      <td>0</td>\n",
       "      <td>0</td>\n",
       "      <td>691</td>\n",
       "    </tr>\n",
       "    <tr>\n",
       "      <th>1.0</th>\n",
       "      <td>0</td>\n",
       "      <td>1334</td>\n",
       "      <td>0</td>\n",
       "    </tr>\n",
       "    <tr>\n",
       "      <th>2.0</th>\n",
       "      <td>300</td>\n",
       "      <td>0</td>\n",
       "      <td>0</td>\n",
       "    </tr>\n",
       "  </tbody>\n",
       "</table>\n",
       "</div>"
      ],
      "text/plain": [
       "hospital_tier      tier - 1  tier - 2  tier - 3\n",
       "hospital_tier_ord                              \n",
       "0.0                       0         0       691\n",
       "1.0                       0      1334         0\n",
       "2.0                     300         0         0"
      ]
     },
     "execution_count": 24,
     "metadata": {},
     "output_type": "execute_result"
    }
   ],
   "source": [
    "pd.crosstab(master_noq['hospital_tier_ord'],master_noq['hospital_tier'])"
   ]
  },
  {
   "cell_type": "raw",
   "id": "70c7854c-24b9-4034-8276-9fd073b095e8",
   "metadata": {},
   "source": [
    "Dummies will be created after further data cleansing"
   ]
  },
  {
   "cell_type": "code",
   "execution_count": 25,
   "id": "6bf49faf-3916-4e66-ae88-2c8e92e122d0",
   "metadata": {},
   "outputs": [
    {
     "data": {
      "text/html": [
       "<div>\n",
       "<style scoped>\n",
       "    .dataframe tbody tr th:only-of-type {\n",
       "        vertical-align: middle;\n",
       "    }\n",
       "\n",
       "    .dataframe tbody tr th {\n",
       "        vertical-align: top;\n",
       "    }\n",
       "\n",
       "    .dataframe thead th {\n",
       "        text-align: right;\n",
       "    }\n",
       "</style>\n",
       "<table border=\"1\" class=\"dataframe\">\n",
       "  <thead>\n",
       "    <tr style=\"text-align: right;\">\n",
       "      <th></th>\n",
       "      <th>customer_id</th>\n",
       "      <th>year</th>\n",
       "      <th>month</th>\n",
       "      <th>date</th>\n",
       "      <th>children</th>\n",
       "      <th>charges</th>\n",
       "      <th>hospital_tier</th>\n",
       "      <th>city_tier</th>\n",
       "      <th>state_id</th>\n",
       "      <th>bmi</th>\n",
       "      <th>hba1c</th>\n",
       "      <th>heart_issues</th>\n",
       "      <th>any_transplants</th>\n",
       "      <th>cancer_history</th>\n",
       "      <th>numberofmajorsurgeries</th>\n",
       "      <th>smoker</th>\n",
       "      <th>name</th>\n",
       "      <th>city_tier_ord</th>\n",
       "      <th>hospital_tier_ord</th>\n",
       "    </tr>\n",
       "  </thead>\n",
       "  <tbody>\n",
       "    <tr>\n",
       "      <th>0</th>\n",
       "      <td>Id2335</td>\n",
       "      <td>1992</td>\n",
       "      <td>Jul</td>\n",
       "      <td>9</td>\n",
       "      <td>0</td>\n",
       "      <td>563.84</td>\n",
       "      <td>tier - 2</td>\n",
       "      <td>tier - 3</td>\n",
       "      <td>R1013</td>\n",
       "      <td>17.58</td>\n",
       "      <td>4.51</td>\n",
       "      <td>No</td>\n",
       "      <td>No</td>\n",
       "      <td>No</td>\n",
       "      <td>1</td>\n",
       "      <td>No</td>\n",
       "      <td>German, Mr.  Aaron K</td>\n",
       "      <td>0.0</td>\n",
       "      <td>1.0</td>\n",
       "    </tr>\n",
       "    <tr>\n",
       "      <th>1</th>\n",
       "      <td>Id2334</td>\n",
       "      <td>1992</td>\n",
       "      <td>Nov</td>\n",
       "      <td>30</td>\n",
       "      <td>0</td>\n",
       "      <td>570.62</td>\n",
       "      <td>tier - 2</td>\n",
       "      <td>tier - 1</td>\n",
       "      <td>R1013</td>\n",
       "      <td>17.60</td>\n",
       "      <td>4.39</td>\n",
       "      <td>No</td>\n",
       "      <td>No</td>\n",
       "      <td>No</td>\n",
       "      <td>1</td>\n",
       "      <td>No</td>\n",
       "      <td>Rosendahl, Mr.  Evan P</td>\n",
       "      <td>2.0</td>\n",
       "      <td>1.0</td>\n",
       "    </tr>\n",
       "    <tr>\n",
       "      <th>2</th>\n",
       "      <td>Id2333</td>\n",
       "      <td>1993</td>\n",
       "      <td>Jun</td>\n",
       "      <td>30</td>\n",
       "      <td>0</td>\n",
       "      <td>600.00</td>\n",
       "      <td>tier - 2</td>\n",
       "      <td>tier - 1</td>\n",
       "      <td>R1013</td>\n",
       "      <td>16.47</td>\n",
       "      <td>6.35</td>\n",
       "      <td>No</td>\n",
       "      <td>No</td>\n",
       "      <td>Yes</td>\n",
       "      <td>1</td>\n",
       "      <td>No</td>\n",
       "      <td>Albano, Ms.  Julie</td>\n",
       "      <td>2.0</td>\n",
       "      <td>1.0</td>\n",
       "    </tr>\n",
       "  </tbody>\n",
       "</table>\n",
       "</div>"
      ],
      "text/plain": [
       "  customer_id  year month  date  children  charges hospital_tier city_tier  \\\n",
       "0      Id2335  1992   Jul     9         0   563.84      tier - 2  tier - 3   \n",
       "1      Id2334  1992   Nov    30         0   570.62      tier - 2  tier - 1   \n",
       "2      Id2333  1993   Jun    30         0   600.00      tier - 2  tier - 1   \n",
       "\n",
       "  state_id    bmi  hba1c heart_issues any_transplants cancer_history  \\\n",
       "0    R1013  17.58   4.51           No              No             No   \n",
       "1    R1013  17.60   4.39           No              No             No   \n",
       "2    R1013  16.47   6.35           No              No            Yes   \n",
       "\n",
       "  numberofmajorsurgeries smoker                    name  city_tier_ord  \\\n",
       "0                      1     No    German, Mr.  Aaron K            0.0   \n",
       "1                      1     No  Rosendahl, Mr.  Evan P            2.0   \n",
       "2                      1     No      Albano, Ms.  Julie            2.0   \n",
       "\n",
       "   hospital_tier_ord  \n",
       "0                1.0  \n",
       "1                1.0  \n",
       "2                1.0  "
      ]
     },
     "execution_count": 25,
     "metadata": {},
     "output_type": "execute_result"
    }
   ],
   "source": [
    "master_noq.head(3)"
   ]
  },
  {
   "cell_type": "markdown",
   "id": "e312eabc-9b2f-457d-ba7a-f41aba5c211b",
   "metadata": {
    "id": "e312eabc-9b2f-457d-ba7a-f41aba5c211b",
    "tags": []
   },
   "source": [
    "### 4.\tState ID has around 16 states. The data does not have proportional representation of all the states. Also creating dummy variables corresponding to all the regions may lead to too many insignificant predictors. Nevertheless, only R1011, R1012 and R1013 are important to look deeper into. Keeping these ideas in mind, come up with a suitable strategy here.  "
   ]
  },
  {
   "cell_type": "code",
   "execution_count": 26,
   "id": "363bfed8-c8c5-42b4-8ab1-3945a447bdd8",
   "metadata": {
    "colab": {
     "base_uri": "https://localhost:8080/"
    },
    "executionInfo": {
     "elapsed": 9,
     "status": "ok",
     "timestamp": 1667228927218,
     "user": {
      "displayName": "Nimisha Pandey",
      "userId": "15071563106569379314"
     },
     "user_tz": -330
    },
    "id": "363bfed8-c8c5-42b4-8ab1-3945a447bdd8",
    "outputId": "1095bcde-57be-4164-edda-eca057e20125",
    "tags": []
   },
   "outputs": [
    {
     "data": {
      "text/plain": [
       "Index(['R1013', 'R1011', 'R1012'], dtype='object', name='state_id')"
      ]
     },
     "execution_count": 26,
     "metadata": {},
     "output_type": "execute_result"
    }
   ],
   "source": [
    "vc = master_noq.state_id.value_counts()   # frequency of each category\n",
    "vc[:3].index                              # picking top 3 most frequent categories"
   ]
  },
  {
   "cell_type": "code",
   "execution_count": 27,
   "id": "835bcafb-da9c-44aa-8262-49b33005d4d8",
   "metadata": {
    "colab": {
     "base_uri": "https://localhost:8080/"
    },
    "executionInfo": {
     "elapsed": 5,
     "status": "ok",
     "timestamp": 1667228928077,
     "user": {
      "displayName": "Nimisha Pandey",
      "userId": "15071563106569379314"
     },
     "user_tz": -330
    },
    "id": "835bcafb-da9c-44aa-8262-49b33005d4d8",
    "outputId": "02539a8e-ef12-4086-d058-0318d2d15db8"
   },
   "outputs": [
    {
     "name": "stdout",
     "output_type": "stream",
     "text": [
      "state_id_R1013\n",
      "state_id_R1011\n",
      "state_id_R1012\n"
     ]
    }
   ],
   "source": [
    "for i in vc[:3].index:\n",
    "    var_name = 'state_id_' +i   # create name for the dummy varible\n",
    "    print(var_name)             \n",
    "    master_noq[var_name] = 0    # giving a dummy value 0 to dummy variable\n",
    "    master_noq.loc[master_noq.state_id == i,var_name] = 1  # replacing 0 by 1 where state id is equal to category of the dummy variable\n",
    "            "
   ]
  },
  {
   "cell_type": "code",
   "execution_count": 28,
   "id": "b6553033-8947-4636-ba81-a48add46369c",
   "metadata": {},
   "outputs": [
    {
     "data": {
      "text/plain": [
       "state_id\n",
       "R1013    609\n",
       "R1011    574\n",
       "R1012    572\n",
       "R1024    159\n",
       "R1026     84\n",
       "R1021     70\n",
       "R1016     64\n",
       "R1025     40\n",
       "R1023     38\n",
       "R1017     36\n",
       "R1019     26\n",
       "R1022     14\n",
       "R1014     13\n",
       "R1015     11\n",
       "R1018      9\n",
       "R1020      6\n",
       "Name: count, dtype: int64"
      ]
     },
     "execution_count": 28,
     "metadata": {},
     "output_type": "execute_result"
    }
   ],
   "source": [
    "master_noq.state_id.value_counts()"
   ]
  },
  {
   "cell_type": "code",
   "execution_count": 29,
   "id": "3f5b9f1f-f22c-46b7-a506-cdc862462593",
   "metadata": {},
   "outputs": [
    {
     "data": {
      "text/plain": [
       "state_id_R1013\n",
       "0    1716\n",
       "1     609\n",
       "Name: count, dtype: int64"
      ]
     },
     "execution_count": 29,
     "metadata": {},
     "output_type": "execute_result"
    }
   ],
   "source": [
    "# checking the no of records corresponding to R1013\n",
    "\n",
    "master_noq['state_id_R1013'].value_counts()"
   ]
  },
  {
   "cell_type": "code",
   "execution_count": 30,
   "id": "4da354e7-e17c-4dd8-8a70-5f038fe28c83",
   "metadata": {
    "colab": {
     "base_uri": "https://localhost:8080/"
    },
    "executionInfo": {
     "elapsed": 8,
     "status": "ok",
     "timestamp": 1667228930067,
     "user": {
      "displayName": "Nimisha Pandey",
      "userId": "15071563106569379314"
     },
     "user_tz": -330
    },
    "id": "4da354e7-e17c-4dd8-8a70-5f038fe28c83",
    "outputId": "b509a263-0a48-4922-9831-ae01bf8a0edf"
   },
   "outputs": [
    {
     "data": {
      "text/plain": [
       "state_id_R1012\n",
       "0    1753\n",
       "1     572\n",
       "Name: count, dtype: int64"
      ]
     },
     "execution_count": 30,
     "metadata": {},
     "output_type": "execute_result"
    }
   ],
   "source": [
    "master_noq['state_id_R1012'].value_counts()"
   ]
  },
  {
   "cell_type": "markdown",
   "id": "fd27569a-0951-43ac-b17f-bb7e67165cc4",
   "metadata": {
    "id": "fd27569a-0951-43ac-b17f-bb7e67165cc4"
   },
   "source": [
    "### 5.\tVariable ‘NumberOfMajorSurvalue_counts seems to have string values as well. You may want to clean this variable. "
   ]
  },
  {
   "cell_type": "code",
   "execution_count": 31,
   "id": "1b8ec606-5c06-4f28-87de-ad4e0476b29e",
   "metadata": {
    "colab": {
     "base_uri": "https://localhost:8080/"
    },
    "executionInfo": {
     "elapsed": 17,
     "status": "ok",
     "timestamp": 1667228930723,
     "user": {
      "displayName": "Nimisha Pandey",
      "userId": "15071563106569379314"
     },
     "user_tz": -330
    },
    "id": "1b8ec606-5c06-4f28-87de-ad4e0476b29e",
    "outputId": "768951d9-1831-480b-b828-3deee5d45bdf"
   },
   "outputs": [
    {
     "data": {
      "text/plain": [
       "array(['1', 'No major surgery', '2', '3'], dtype=object)"
      ]
     },
     "execution_count": 31,
     "metadata": {},
     "output_type": "execute_result"
    }
   ],
   "source": [
    "master_noq.numberofmajorsurgeries.unique()"
   ]
  },
  {
   "cell_type": "code",
   "execution_count": 32,
   "id": "fe8df1b9-400a-4ef9-b3c1-3e372d3d987f",
   "metadata": {
    "executionInfo": {
     "elapsed": 6,
     "status": "ok",
     "timestamp": 1667228931246,
     "user": {
      "displayName": "Nimisha Pandey",
      "userId": "15071563106569379314"
     },
     "user_tz": -330
    },
    "id": "fe8df1b9-400a-4ef9-b3c1-3e372d3d987f"
   },
   "outputs": [],
   "source": [
    "master_noq.loc[master_noq.numberofmajorsurgeries == 'No major surgery','numberofmajorsurgeries' ] = 0"
   ]
  },
  {
   "cell_type": "code",
   "execution_count": 33,
   "id": "7604275f-f4b2-4939-87f6-bdfc90800572",
   "metadata": {
    "executionInfo": {
     "elapsed": 6,
     "status": "ok",
     "timestamp": 1667228931247,
     "user": {
      "displayName": "Nimisha Pandey",
      "userId": "15071563106569379314"
     },
     "user_tz": -330
    },
    "id": "7604275f-f4b2-4939-87f6-bdfc90800572"
   },
   "outputs": [],
   "source": [
    "master_noq.numberofmajorsurgeries = master_noq.numberofmajorsurgeries.astype(int)"
   ]
  },
  {
   "cell_type": "markdown",
   "id": "afbb3f5c-2f0e-4fbe-bf8b-0b936271af33",
   "metadata": {
    "id": "afbb3f5c-2f0e-4fbe-bf8b-0b936271af33",
    "tags": []
   },
   "source": [
    "### 6.\tAge seems to an important factor for this analysis. Based on date of birth information, calculate the age of the patients. "
   ]
  },
  {
   "cell_type": "code",
   "execution_count": 34,
   "id": "93949c1d-1559-4166-8f34-f277485cdb5c",
   "metadata": {
    "executionInfo": {
     "elapsed": 6,
     "status": "ok",
     "timestamp": 1667228931248,
     "user": {
      "displayName": "Nimisha Pandey",
      "userId": "15071563106569379314"
     },
     "user_tz": -330
    },
    "id": "93949c1d-1559-4166-8f34-f277485cdb5c"
   },
   "outputs": [],
   "source": [
    "master_noq.year = master_noq.year.astype(int)"
   ]
  },
  {
   "cell_type": "code",
   "execution_count": 35,
   "id": "fd44aaea-6b11-4459-8183-ae1a1950f7eb",
   "metadata": {
    "executionInfo": {
     "elapsed": 3,
     "status": "ok",
     "timestamp": 1667228932151,
     "user": {
      "displayName": "Nimisha Pandey",
      "userId": "15071563106569379314"
     },
     "user_tz": -330
    },
    "id": "fd44aaea-6b11-4459-8183-ae1a1950f7eb"
   },
   "outputs": [],
   "source": [
    "master_noq['age'] = 2023 - master_noq.year"
   ]
  },
  {
   "cell_type": "markdown",
   "id": "d88e54b7-2872-4f89-ab5a-ace1b42774e1",
   "metadata": {
    "id": "d88e54b7-2872-4f89-ab5a-ace1b42774e1"
   },
   "source": [
    "### 7.\tGender of the patient may be an important factor to decide the hospitalization cost. Salutation provided in the name of the beneficiary can be used to determine the gender. Create a new field for the gender of beneficiary."
   ]
  },
  {
   "cell_type": "code",
   "execution_count": 36,
   "id": "9ebf998e-43ca-4429-a02c-b95e96cf95c6",
   "metadata": {
    "executionInfo": {
     "elapsed": 4,
     "status": "ok",
     "timestamp": 1667228932153,
     "user": {
      "displayName": "Nimisha Pandey",
      "userId": "15071563106569379314"
     },
     "user_tz": -330
    },
    "id": "9ebf998e-43ca-4429-a02c-b95e96cf95c6"
   },
   "outputs": [],
   "source": [
    "master_noq['title'] = master_noq.name.str.split('[,.]').str[1].str.strip()"
   ]
  },
  {
   "cell_type": "code",
   "execution_count": 37,
   "id": "036166a4-027b-4255-98a8-abe1e30b7cab",
   "metadata": {
    "colab": {
     "base_uri": "https://localhost:8080/"
    },
    "executionInfo": {
     "elapsed": 12,
     "status": "ok",
     "timestamp": 1667228932901,
     "user": {
      "displayName": "Nimisha Pandey",
      "userId": "15071563106569379314"
     },
     "user_tz": -330
    },
    "id": "036166a4-027b-4255-98a8-abe1e30b7cab",
    "outputId": "e253e678-61f6-48d8-b539-f3b5e3a38c43"
   },
   "outputs": [
    {
     "data": {
      "text/plain": [
       "title\n",
       "Mr     1160\n",
       "Ms     1023\n",
       "Mrs     142\n",
       "Name: count, dtype: int64"
      ]
     },
     "execution_count": 37,
     "metadata": {},
     "output_type": "execute_result"
    }
   ],
   "source": [
    "master_noq.title.value_counts()"
   ]
  },
  {
   "cell_type": "code",
   "execution_count": 38,
   "id": "d1fca655",
   "metadata": {},
   "outputs": [
    {
     "data": {
      "text/plain": [
       "(2325, 24)"
      ]
     },
     "execution_count": 38,
     "metadata": {},
     "output_type": "execute_result"
    }
   ],
   "source": [
    "master_noq.shape"
   ]
  },
  {
   "cell_type": "code",
   "execution_count": 39,
   "id": "7c25d16c",
   "metadata": {},
   "outputs": [
    {
     "data": {
      "text/plain": [
       "2325"
      ]
     },
     "execution_count": 39,
     "metadata": {},
     "output_type": "execute_result"
    }
   ],
   "source": [
    "1160+1023+142"
   ]
  },
  {
   "cell_type": "code",
   "execution_count": 40,
   "id": "55d7e034-383c-48a9-9140-edf9756ae872",
   "metadata": {
    "executionInfo": {
     "elapsed": 10,
     "status": "ok",
     "timestamp": 1667228932901,
     "user": {
      "displayName": "Nimisha Pandey",
      "userId": "15071563106569379314"
     },
     "user_tz": -330
    },
    "id": "55d7e034-383c-48a9-9140-edf9756ae872"
   },
   "outputs": [],
   "source": [
    "master_noq['gender'] = 'female'\n",
    "master_noq.loc[master_noq.title == 'Mr', 'gender'] = 'male'"
   ]
  },
  {
   "cell_type": "code",
   "execution_count": 41,
   "id": "679fa278-b2e8-4787-b3a8-3ffdacd400cb",
   "metadata": {
    "colab": {
     "base_uri": "https://localhost:8080/",
     "height": 800
    },
    "executionInfo": {
     "elapsed": 11,
     "status": "ok",
     "timestamp": 1667228932902,
     "user": {
      "displayName": "Nimisha Pandey",
      "userId": "15071563106569379314"
     },
     "user_tz": -330
    },
    "id": "679fa278-b2e8-4787-b3a8-3ffdacd400cb",
    "outputId": "40e391ce-d001-4bfe-e12a-1b5b1d463a8c"
   },
   "outputs": [
    {
     "data": {
      "text/html": [
       "<div>\n",
       "<style scoped>\n",
       "    .dataframe tbody tr th:only-of-type {\n",
       "        vertical-align: middle;\n",
       "    }\n",
       "\n",
       "    .dataframe tbody tr th {\n",
       "        vertical-align: top;\n",
       "    }\n",
       "\n",
       "    .dataframe thead th {\n",
       "        text-align: right;\n",
       "    }\n",
       "</style>\n",
       "<table border=\"1\" class=\"dataframe\">\n",
       "  <thead>\n",
       "    <tr style=\"text-align: right;\">\n",
       "      <th></th>\n",
       "      <th>customer_id</th>\n",
       "      <th>year</th>\n",
       "      <th>month</th>\n",
       "      <th>date</th>\n",
       "      <th>children</th>\n",
       "      <th>charges</th>\n",
       "      <th>hospital_tier</th>\n",
       "      <th>city_tier</th>\n",
       "      <th>state_id</th>\n",
       "      <th>bmi</th>\n",
       "      <th>...</th>\n",
       "      <th>smoker</th>\n",
       "      <th>name</th>\n",
       "      <th>city_tier_ord</th>\n",
       "      <th>hospital_tier_ord</th>\n",
       "      <th>state_id_R1013</th>\n",
       "      <th>state_id_R1011</th>\n",
       "      <th>state_id_R1012</th>\n",
       "      <th>age</th>\n",
       "      <th>title</th>\n",
       "      <th>gender</th>\n",
       "    </tr>\n",
       "  </thead>\n",
       "  <tbody>\n",
       "    <tr>\n",
       "      <th>24</th>\n",
       "      <td>Id2311</td>\n",
       "      <td>2001</td>\n",
       "      <td>Aug</td>\n",
       "      <td>19</td>\n",
       "      <td>0</td>\n",
       "      <td>964.71</td>\n",
       "      <td>tier - 3</td>\n",
       "      <td>tier - 2</td>\n",
       "      <td>R1013</td>\n",
       "      <td>25.19</td>\n",
       "      <td>...</td>\n",
       "      <td>No</td>\n",
       "      <td>Keys, Mrs.  Kathleen</td>\n",
       "      <td>1.0</td>\n",
       "      <td>0.0</td>\n",
       "      <td>1</td>\n",
       "      <td>0</td>\n",
       "      <td>0</td>\n",
       "      <td>22</td>\n",
       "      <td>Mrs</td>\n",
       "      <td>female</td>\n",
       "    </tr>\n",
       "    <tr>\n",
       "      <th>172</th>\n",
       "      <td>Id2163</td>\n",
       "      <td>2004</td>\n",
       "      <td>Dec</td>\n",
       "      <td>27</td>\n",
       "      <td>0</td>\n",
       "      <td>1863.45</td>\n",
       "      <td>tier - 3</td>\n",
       "      <td>tier - 1</td>\n",
       "      <td>R1025</td>\n",
       "      <td>27.06</td>\n",
       "      <td>...</td>\n",
       "      <td>No</td>\n",
       "      <td>Stanislav, Mrs.  Grace H</td>\n",
       "      <td>2.0</td>\n",
       "      <td>0.0</td>\n",
       "      <td>0</td>\n",
       "      <td>0</td>\n",
       "      <td>0</td>\n",
       "      <td>19</td>\n",
       "      <td>Mrs</td>\n",
       "      <td>female</td>\n",
       "    </tr>\n",
       "    <tr>\n",
       "      <th>197</th>\n",
       "      <td>Id2138</td>\n",
       "      <td>2004</td>\n",
       "      <td>Jun</td>\n",
       "      <td>12</td>\n",
       "      <td>0</td>\n",
       "      <td>2094.10</td>\n",
       "      <td>tier - 3</td>\n",
       "      <td>tier - 2</td>\n",
       "      <td>R1025</td>\n",
       "      <td>27.74</td>\n",
       "      <td>...</td>\n",
       "      <td>No</td>\n",
       "      <td>Padula, Mrs.  Lauren</td>\n",
       "      <td>1.0</td>\n",
       "      <td>0.0</td>\n",
       "      <td>0</td>\n",
       "      <td>0</td>\n",
       "      <td>0</td>\n",
       "      <td>19</td>\n",
       "      <td>Mrs</td>\n",
       "      <td>female</td>\n",
       "    </tr>\n",
       "    <tr>\n",
       "      <th>328</th>\n",
       "      <td>Id2007</td>\n",
       "      <td>1993</td>\n",
       "      <td>Sep</td>\n",
       "      <td>25</td>\n",
       "      <td>0</td>\n",
       "      <td>3162.02</td>\n",
       "      <td>tier - 2</td>\n",
       "      <td>tier - 3</td>\n",
       "      <td>R1013</td>\n",
       "      <td>25.61</td>\n",
       "      <td>...</td>\n",
       "      <td>No</td>\n",
       "      <td>Martin, Mrs.  Kristen M</td>\n",
       "      <td>0.0</td>\n",
       "      <td>1.0</td>\n",
       "      <td>1</td>\n",
       "      <td>0</td>\n",
       "      <td>0</td>\n",
       "      <td>30</td>\n",
       "      <td>Mrs</td>\n",
       "      <td>female</td>\n",
       "    </tr>\n",
       "    <tr>\n",
       "      <th>348</th>\n",
       "      <td>Id1987</td>\n",
       "      <td>2003</td>\n",
       "      <td>Dec</td>\n",
       "      <td>5</td>\n",
       "      <td>0</td>\n",
       "      <td>3300.70</td>\n",
       "      <td>tier - 2</td>\n",
       "      <td>tier - 2</td>\n",
       "      <td>R1025</td>\n",
       "      <td>30.54</td>\n",
       "      <td>...</td>\n",
       "      <td>No</td>\n",
       "      <td>Mendez-Karr, Mrs.  Cynthia</td>\n",
       "      <td>1.0</td>\n",
       "      <td>1.0</td>\n",
       "      <td>0</td>\n",
       "      <td>0</td>\n",
       "      <td>0</td>\n",
       "      <td>20</td>\n",
       "      <td>Mrs</td>\n",
       "      <td>female</td>\n",
       "    </tr>\n",
       "    <tr>\n",
       "      <th>...</th>\n",
       "      <td>...</td>\n",
       "      <td>...</td>\n",
       "      <td>...</td>\n",
       "      <td>...</td>\n",
       "      <td>...</td>\n",
       "      <td>...</td>\n",
       "      <td>...</td>\n",
       "      <td>...</td>\n",
       "      <td>...</td>\n",
       "      <td>...</td>\n",
       "      <td>...</td>\n",
       "      <td>...</td>\n",
       "      <td>...</td>\n",
       "      <td>...</td>\n",
       "      <td>...</td>\n",
       "      <td>...</td>\n",
       "      <td>...</td>\n",
       "      <td>...</td>\n",
       "      <td>...</td>\n",
       "      <td>...</td>\n",
       "      <td>...</td>\n",
       "    </tr>\n",
       "    <tr>\n",
       "      <th>1790</th>\n",
       "      <td>Id545</td>\n",
       "      <td>1963</td>\n",
       "      <td>Jul</td>\n",
       "      <td>4</td>\n",
       "      <td>0</td>\n",
       "      <td>18208.34</td>\n",
       "      <td>tier - 1</td>\n",
       "      <td>tier - 2</td>\n",
       "      <td>R1026</td>\n",
       "      <td>44.20</td>\n",
       "      <td>...</td>\n",
       "      <td>No</td>\n",
       "      <td>Shigezumi, Mrs.  Teiko</td>\n",
       "      <td>1.0</td>\n",
       "      <td>2.0</td>\n",
       "      <td>0</td>\n",
       "      <td>0</td>\n",
       "      <td>0</td>\n",
       "      <td>60</td>\n",
       "      <td>Mrs</td>\n",
       "      <td>female</td>\n",
       "    </tr>\n",
       "    <tr>\n",
       "      <th>1808</th>\n",
       "      <td>Id527</td>\n",
       "      <td>1963</td>\n",
       "      <td>Dec</td>\n",
       "      <td>6</td>\n",
       "      <td>0</td>\n",
       "      <td>18883.33</td>\n",
       "      <td>tier - 1</td>\n",
       "      <td>tier - 1</td>\n",
       "      <td>R1026</td>\n",
       "      <td>46.19</td>\n",
       "      <td>...</td>\n",
       "      <td>No</td>\n",
       "      <td>Hughey, Mrs.  Ashley E</td>\n",
       "      <td>2.0</td>\n",
       "      <td>2.0</td>\n",
       "      <td>0</td>\n",
       "      <td>0</td>\n",
       "      <td>0</td>\n",
       "      <td>60</td>\n",
       "      <td>Mrs</td>\n",
       "      <td>female</td>\n",
       "    </tr>\n",
       "    <tr>\n",
       "      <th>1811</th>\n",
       "      <td>Id524</td>\n",
       "      <td>1963</td>\n",
       "      <td>Oct</td>\n",
       "      <td>20</td>\n",
       "      <td>0</td>\n",
       "      <td>18954.56</td>\n",
       "      <td>tier - 1</td>\n",
       "      <td>tier - 1</td>\n",
       "      <td>R1026</td>\n",
       "      <td>46.40</td>\n",
       "      <td>...</td>\n",
       "      <td>No</td>\n",
       "      <td>Rogers, Mrs.  Anita L.</td>\n",
       "      <td>2.0</td>\n",
       "      <td>2.0</td>\n",
       "      <td>0</td>\n",
       "      <td>0</td>\n",
       "      <td>0</td>\n",
       "      <td>60</td>\n",
       "      <td>Mrs</td>\n",
       "      <td>female</td>\n",
       "    </tr>\n",
       "    <tr>\n",
       "      <th>1839</th>\n",
       "      <td>Id496</td>\n",
       "      <td>1966</td>\n",
       "      <td>Aug</td>\n",
       "      <td>10</td>\n",
       "      <td>0</td>\n",
       "      <td>19995.29</td>\n",
       "      <td>tier - 1</td>\n",
       "      <td>tier - 3</td>\n",
       "      <td>R1026</td>\n",
       "      <td>51.74</td>\n",
       "      <td>...</td>\n",
       "      <td>No</td>\n",
       "      <td>Oehlke, Mrs.  Jessica</td>\n",
       "      <td>0.0</td>\n",
       "      <td>2.0</td>\n",
       "      <td>0</td>\n",
       "      <td>0</td>\n",
       "      <td>0</td>\n",
       "      <td>57</td>\n",
       "      <td>Mrs</td>\n",
       "      <td>female</td>\n",
       "    </tr>\n",
       "    <tr>\n",
       "      <th>1848</th>\n",
       "      <td>Id487</td>\n",
       "      <td>1962</td>\n",
       "      <td>Jul</td>\n",
       "      <td>2</td>\n",
       "      <td>0</td>\n",
       "      <td>20354.50</td>\n",
       "      <td>tier - 3</td>\n",
       "      <td>tier - 2</td>\n",
       "      <td>R1026</td>\n",
       "      <td>49.77</td>\n",
       "      <td>...</td>\n",
       "      <td>No</td>\n",
       "      <td>Argall, Mrs.  Tara R</td>\n",
       "      <td>1.0</td>\n",
       "      <td>0.0</td>\n",
       "      <td>0</td>\n",
       "      <td>0</td>\n",
       "      <td>0</td>\n",
       "      <td>61</td>\n",
       "      <td>Mrs</td>\n",
       "      <td>female</td>\n",
       "    </tr>\n",
       "  </tbody>\n",
       "</table>\n",
       "<p>142 rows × 25 columns</p>\n",
       "</div>"
      ],
      "text/plain": [
       "     customer_id  year month  date  children   charges hospital_tier  \\\n",
       "24        Id2311  2001   Aug    19         0    964.71      tier - 3   \n",
       "172       Id2163  2004   Dec    27         0   1863.45      tier - 3   \n",
       "197       Id2138  2004   Jun    12         0   2094.10      tier - 3   \n",
       "328       Id2007  1993   Sep    25         0   3162.02      tier - 2   \n",
       "348       Id1987  2003   Dec     5         0   3300.70      tier - 2   \n",
       "...          ...   ...   ...   ...       ...       ...           ...   \n",
       "1790       Id545  1963   Jul     4         0  18208.34      tier - 1   \n",
       "1808       Id527  1963   Dec     6         0  18883.33      tier - 1   \n",
       "1811       Id524  1963   Oct    20         0  18954.56      tier - 1   \n",
       "1839       Id496  1966   Aug    10         0  19995.29      tier - 1   \n",
       "1848       Id487  1962   Jul     2         0  20354.50      tier - 3   \n",
       "\n",
       "     city_tier state_id    bmi  ...  smoker                        name  \\\n",
       "24    tier - 2    R1013  25.19  ...      No        Keys, Mrs.  Kathleen   \n",
       "172   tier - 1    R1025  27.06  ...      No    Stanislav, Mrs.  Grace H   \n",
       "197   tier - 2    R1025  27.74  ...      No        Padula, Mrs.  Lauren   \n",
       "328   tier - 3    R1013  25.61  ...      No     Martin, Mrs.  Kristen M   \n",
       "348   tier - 2    R1025  30.54  ...      No  Mendez-Karr, Mrs.  Cynthia   \n",
       "...        ...      ...    ...  ...     ...                         ...   \n",
       "1790  tier - 2    R1026  44.20  ...      No      Shigezumi, Mrs.  Teiko   \n",
       "1808  tier - 1    R1026  46.19  ...      No      Hughey, Mrs.  Ashley E   \n",
       "1811  tier - 1    R1026  46.40  ...      No      Rogers, Mrs.  Anita L.   \n",
       "1839  tier - 3    R1026  51.74  ...      No       Oehlke, Mrs.  Jessica   \n",
       "1848  tier - 2    R1026  49.77  ...      No        Argall, Mrs.  Tara R   \n",
       "\n",
       "     city_tier_ord hospital_tier_ord  state_id_R1013 state_id_R1011  \\\n",
       "24             1.0               0.0               1              0   \n",
       "172            2.0               0.0               0              0   \n",
       "197            1.0               0.0               0              0   \n",
       "328            0.0               1.0               1              0   \n",
       "348            1.0               1.0               0              0   \n",
       "...            ...               ...             ...            ...   \n",
       "1790           1.0               2.0               0              0   \n",
       "1808           2.0               2.0               0              0   \n",
       "1811           2.0               2.0               0              0   \n",
       "1839           0.0               2.0               0              0   \n",
       "1848           1.0               0.0               0              0   \n",
       "\n",
       "     state_id_R1012  age  title  gender  \n",
       "24                0   22    Mrs  female  \n",
       "172               0   19    Mrs  female  \n",
       "197               0   19    Mrs  female  \n",
       "328               0   30    Mrs  female  \n",
       "348               0   20    Mrs  female  \n",
       "...             ...  ...    ...     ...  \n",
       "1790              0   60    Mrs  female  \n",
       "1808              0   60    Mrs  female  \n",
       "1811              0   60    Mrs  female  \n",
       "1839              0   57    Mrs  female  \n",
       "1848              0   61    Mrs  female  \n",
       "\n",
       "[142 rows x 25 columns]"
      ]
     },
     "execution_count": 41,
     "metadata": {},
     "output_type": "execute_result"
    }
   ],
   "source": [
    "master_noq.loc[master_noq.title == 'Mrs']"
   ]
  },
  {
   "cell_type": "code",
   "execution_count": 42,
   "id": "7821f1f3-4708-4fa1-ae2e-23b4176c155f",
   "metadata": {
    "colab": {
     "base_uri": "https://localhost:8080/"
    },
    "executionInfo": {
     "elapsed": 9,
     "status": "ok",
     "timestamp": 1667228932902,
     "user": {
      "displayName": "Nimisha Pandey",
      "userId": "15071563106569379314"
     },
     "user_tz": -330
    },
    "id": "7821f1f3-4708-4fa1-ae2e-23b4176c155f",
    "outputId": "877d0dd4-6db4-4267-a07c-54b24a2c1ee2"
   },
   "outputs": [
    {
     "data": {
      "text/plain": [
       "0         male\n",
       "1         male\n",
       "2       female\n",
       "3         male\n",
       "4         male\n",
       "         ...  \n",
       "2329      male\n",
       "2330    female\n",
       "2331    female\n",
       "2333      male\n",
       "2334    female\n",
       "Name: gender, Length: 2325, dtype: object"
      ]
     },
     "execution_count": 42,
     "metadata": {},
     "output_type": "execute_result"
    }
   ],
   "source": [
    "master_noq['gender']"
   ]
  },
  {
   "cell_type": "markdown",
   "id": "2e56d616-658d-4c85-a123-2d9f3d0e6c31",
   "metadata": {
    "id": "2e56d616-658d-4c85-a123-2d9f3d0e6c31"
   },
   "source": [
    "### 8.\tVisualize the distribution of cost using histogram, box and whisker and swarm plot. How the distribution is different across gender and different tiers of hospitals. Share your observation.  "
   ]
  },
  {
   "cell_type": "code",
   "execution_count": 43,
   "id": "c64cccfc-e6ed-4135-a598-7caba6058184",
   "metadata": {
    "colab": {
     "base_uri": "https://localhost:8080/",
     "height": 551
    },
    "executionInfo": {
     "elapsed": 1259,
     "status": "ok",
     "timestamp": 1667228934665,
     "user": {
      "displayName": "Nimisha Pandey",
      "userId": "15071563106569379314"
     },
     "user_tz": -330
    },
    "id": "c64cccfc-e6ed-4135-a598-7caba6058184",
    "outputId": "6999d266-b62c-4e94-dc88-b56a0f580ebd"
   },
   "outputs": [
    {
     "data": {
      "image/png": "[encoded data removed]",
      "text/plain": [
       "<Figure size 2500x1000 with 3 Axes>"
      ]
     },
     "metadata": {},
     "output_type": "display_data"
    }
   ],
   "source": [
    "plt.figure(figsize = (25,10))\n",
    "grid = plt.GridSpec(2, 2, wspace=0.4, hspace=0.3)\n",
    "plt.subplot(grid[0, 0])\n",
    "plt.hist(master_noq.charges, bins = 100)\n",
    "plt.subplot(grid[0, 1])\n",
    "master_noq.charges.plot.kde()\n",
    "plt.subplot(grid[1, :])\n",
    "plt.boxplot(master_noq.charges, vert = False)\n",
    "plt.show()"
   ]
  },
  {
   "cell_type": "markdown",
   "id": "cb7c91aa-840a-4cf4-bec3-bcafd16ae278",
   "metadata": {
    "id": "cb7c91aa-840a-4cf4-bec3-bcafd16ae278",
    "tags": []
   },
   "source": [
    "## WRT gender"
   ]
  },
  {
   "cell_type": "code",
   "execution_count": 44,
   "id": "3f3eedef-ece3-4732-8042-d4171e76811f",
   "metadata": {
    "colab": {
     "base_uri": "https://localhost:8080/",
     "height": 334
    },
    "executionInfo": {
     "elapsed": 6,
     "status": "ok",
     "timestamp": 1667228935446,
     "user": {
      "displayName": "Nimisha Pandey",
      "userId": "15071563106569379314"
     },
     "user_tz": -330
    },
    "id": "3f3eedef-ece3-4732-8042-d4171e76811f",
    "outputId": "db4d2322-79f9-4f9f-ca72-7b095500e831"
   },
   "outputs": [
    {
     "data": {
      "image/png": "[encoded data removed]",
      "text/plain": [
       "<Figure size 1500x500 with 1 Axes>"
      ]
     },
     "metadata": {},
     "output_type": "display_data"
    }
   ],
   "source": [
    "plt.figure(figsize = (15,5))\n",
    "sns.boxplot(x = \"charges\",y = \"gender\", data = master_noq)\n",
    "plt.show()"
   ]
  },
  {
   "cell_type": "markdown",
   "id": "0a50b6c4-12a9-48bb-b225-8df61241f8aa",
   "metadata": {
    "id": "0a50b6c4-12a9-48bb-b225-8df61241f8aa"
   },
   "source": [
    "## WRT city tier "
   ]
  },
  {
   "cell_type": "code",
   "execution_count": 45,
   "id": "d669337e-6a96-4b19-a1b8-e52c3494d8ee",
   "metadata": {
    "colab": {
     "base_uri": "https://localhost:8080/",
     "height": 334
    },
    "executionInfo": {
     "elapsed": 1429,
     "status": "ok",
     "timestamp": 1667228936870,
     "user": {
      "displayName": "Nimisha Pandey",
      "userId": "15071563106569379314"
     },
     "user_tz": -330
    },
    "id": "d669337e-6a96-4b19-a1b8-e52c3494d8ee",
    "outputId": "11571f9d-bab8-46c9-b551-3dc0c6ff882d"
   },
   "outputs": [
    {
     "data": {
      "image/png": "[encoded data removed]",
      "text/plain": [
       "<Figure size 1500x500 with 1 Axes>"
      ]
     },
     "metadata": {},
     "output_type": "display_data"
    }
   ],
   "source": [
    "plt.figure(figsize = (15,5))\n",
    "sns.boxplot(x = \"charges\",y = \"city_tier\", data = master_noq)\n",
    "plt.show()"
   ]
  },
  {
   "cell_type": "markdown",
   "id": "0f2d142b-9745-46dc-84a3-36de592a352e",
   "metadata": {
    "id": "0f2d142b-9745-46dc-84a3-36de592a352e"
   },
   "source": [
    "## WRT Hospital tier"
   ]
  },
  {
   "cell_type": "code",
   "execution_count": 46,
   "id": "908871bd-525d-4666-8e69-96c2c2c6d573",
   "metadata": {
    "colab": {
     "base_uri": "https://localhost:8080/",
     "height": 334
    },
    "executionInfo": {
     "elapsed": 47,
     "status": "ok",
     "timestamp": 1667228936873,
     "user": {
      "displayName": "Nimisha Pandey",
      "userId": "15071563106569379314"
     },
     "user_tz": -330
    },
    "id": "908871bd-525d-4666-8e69-96c2c2c6d573",
    "outputId": "49fbc095-923e-45b6-bca7-2f1253e84bd9"
   },
   "outputs": [
    {
     "data": {
      "image/png": "[encoded data removed]",
      "text/plain": [
       "<Figure size 1500x500 with 1 Axes>"
      ]
     },
     "metadata": {},
     "output_type": "display_data"
    }
   ],
   "source": [
    "plt.figure(figsize = (15,5))\n",
    "sns.boxplot(x = \"charges\",y = \"hospital_tier\", data = master_noq)\n",
    "plt.show()"
   ]
  },
  {
   "cell_type": "markdown",
   "id": "e17b54fb-bb86-4b42-a979-35baec4d61ca",
   "metadata": {
    "id": "e17b54fb-bb86-4b42-a979-35baec4d61ca"
   },
   "source": [
    "### 9.\tCreate a radar chart to showcase the median hospitalization cost across different tiers of hospitals."
   ]
  },
  {
   "cell_type": "code",
   "execution_count": 47,
   "id": "a140a362-52a0-4af5-a754-27bae4b0014b",
   "metadata": {
    "executionInfo": {
     "elapsed": 20,
     "status": "ok",
     "timestamp": 1667228937775,
     "user": {
      "displayName": "Nimisha Pandey",
      "userId": "15071563106569379314"
     },
     "user_tz": -330
    },
    "id": "a140a362-52a0-4af5-a754-27bae4b0014b"
   },
   "outputs": [],
   "source": [
    "median = master_noq.groupby('hospital_tier')[['charges']].median().reset_index()"
   ]
  },
  {
   "cell_type": "code",
   "execution_count": 48,
   "id": "c5367f1b-d6fa-4416-99f3-60388eb0463b",
   "metadata": {
    "colab": {
     "base_uri": "https://localhost:8080/",
     "height": 542
    },
    "executionInfo": {
     "elapsed": 22,
     "status": "ok",
     "timestamp": 1667228937779,
     "user": {
      "displayName": "Nimisha Pandey",
      "userId": "15071563106569379314"
     },
     "user_tz": -330
    },
    "id": "c5367f1b-d6fa-4416-99f3-60388eb0463b",
    "outputId": "d1223929-0f47-43ca-c573-2a254cd3f7fe"
   },
   "outputs": [
    {
     "data": {
      "application/vnd.plotly.v1+json": {
       "config": {
        "plotlyServerURL": "https://plot.ly"
       },
       "data": [
        {
         "hovertemplate": "charges=%{r}<br>hospital_tier=%{theta}<extra></extra>",
         "legendgroup": "",
         "line": {
          "color": "#636efa",
          "dash": "solid"
         },
         "marker": {
          "symbol": "circle"
         },
         "mode": "lines",
         "name": "",
         "r": [
          32097.434999999998,
          7168.76,
          10676.83
         ],
         "showlegend": false,
         "subplot": "polar",
         "theta": [
          "tier - 1",
          "tier - 2",
          "tier - 3"
         ],
         "type": "scatterpolar"
        }
       ],
       "layout": {
        "legend": {
         "tracegroupgap": 0
        },
        "margin": {
         "t": 60
        },
        "polar": {
         "angularaxis": {
          "direction": "clockwise",
          "rotation": 90
         },
         "domain": {
          "x": [
           0,
           1
          ],
          "y": [
           0,
           1
          ]
         }
        },
        "template": {
         "data": {
          "bar": [
           {
            "error_x": {
             "color": "#2a3f5f"
            },
            "error_y": {
             "color": "#2a3f5f"
            },
            "marker": {
             "line": {
              "color": "#E5ECF6",
              "width": 0.5
             },
             "pattern": {
              "fillmode": "overlay",
              "size": 10,
              "solidity": 0.2
             }
            },
            "type": "bar"
           }
          ],
          "barpolar": [
           {
            "marker": {
             "line": {
              "color": "#E5ECF6",
              "width": 0.5
             },
             "pattern": {
              "fillmode": "overlay",
              "size": 10,
              "solidity": 0.2
             }
            },
            "type": "barpolar"
           }
          ],
          "carpet": [
           {
            "aaxis": {
             "endlinecolor": "#2a3f5f",
             "gridcolor": "white",
             "linecolor": "white",
             "minorgridcolor": "white",
             "startlinecolor": "#2a3f5f"
            },
            "baxis": {
             "endlinecolor": "#2a3f5f",
             "gridcolor": "white",
             "linecolor": "white",
             "minorgridcolor": "white",
             "startlinecolor": "#2a3f5f"
            },
            "type": "carpet"
           }
          ],
          "choropleth": [
           {
            "colorbar": {
             "outlinewidth": 0,
             "ticks": ""
            },
            "type": "choropleth"
           }
          ],
          "contour": [
           {
            "colorbar": {
             "outlinewidth": 0,
             "ticks": ""
            },
            "colorscale": [
             [
              0,
              "#0d0887"
             ],
             [
              0.1111111111111111,
              "#46039f"
             ],
             [
              0.2222222222222222,
              "#7201a8"
             ],
             [
              0.3333333333333333,
              "#9c179e"
             ],
             [
              0.4444444444444444,
              "#bd3786"
             ],
             [
              0.5555555555555556,
              "#d8576b"
             ],
             [
              0.6666666666666666,
              "#ed7953"
             ],
             [
              0.7777777777777778,
              "#fb9f3a"
             ],
             [
              0.8888888888888888,
              "#fdca26"
             ],
             [
              1,
              "#f0f921"
             ]
            ],
            "type": "contour"
           }
          ],
          "contourcarpet": [
           {
            "colorbar": {
             "outlinewidth": 0,
             "ticks": ""
            },
            "type": "contourcarpet"
           }
          ],
          "heatmap": [
           {
            "colorbar": {
             "outlinewidth": 0,
             "ticks": ""
            },
            "colorscale": [
             [
              0,
              "#0d0887"
             ],
             [
              0.1111111111111111,
              "#46039f"
             ],
             [
              0.2222222222222222,
              "#7201a8"
             ],
             [
              0.3333333333333333,
              "#9c179e"
             ],
             [
              0.4444444444444444,
              "#bd3786"
             ],
             [
              0.5555555555555556,
              "#d8576b"
             ],
             [
              0.6666666666666666,
              "#ed7953"
             ],
             [
              0.7777777777777778,
              "#fb9f3a"
             ],
             [
              0.8888888888888888,
              "#fdca26"
             ],
             [
              1,
              "#f0f921"
             ]
            ],
            "type": "heatmap"
           }
          ],
          "heatmapgl": [
           {
            "colorbar": {
             "outlinewidth": 0,
             "ticks": ""
            },
            "colorscale": [
             [
              0,
              "#0d0887"
             ],
             [
              0.1111111111111111,
              "#46039f"
             ],
             [
              0.2222222222222222,
              "#7201a8"
             ],
             [
              0.3333333333333333,
              "#9c179e"
             ],
             [
              0.4444444444444444,
              "#bd3786"
             ],
             [
              0.5555555555555556,
              "#d8576b"
             ],
             [
              0.6666666666666666,
              "#ed7953"
             ],
             [
              0.7777777777777778,
              "#fb9f3a"
             ],
             [
              0.8888888888888888,
              "#fdca26"
             ],
             [
              1,
              "#f0f921"
             ]
            ],
            "type": "heatmapgl"
           }
          ],
          "histogram": [
           {
            "marker": {
             "pattern": {
              "fillmode": "overlay",
              "size": 10,
              "solidity": 0.2
             }
            },
            "type": "histogram"
           }
          ],
          "histogram2d": [
           {
            "colorbar": {
             "outlinewidth": 0,
             "ticks": ""
            },
            "colorscale": [
             [
              0,
              "#0d0887"
             ],
             [
              0.1111111111111111,
              "#46039f"
             ],
             [
              0.2222222222222222,
              "#7201a8"
             ],
             [
              0.3333333333333333,
              "#9c179e"
             ],
             [
              0.4444444444444444,
              "#bd3786"
             ],
             [
              0.5555555555555556,
              "#d8576b"
             ],
             [
              0.6666666666666666,
              "#ed7953"
             ],
             [
              0.7777777777777778,
              "#fb9f3a"
             ],
             [
              0.8888888888888888,
              "#fdca26"
             ],
             [
              1,
              "#f0f921"
             ]
            ],
            "type": "histogram2d"
           }
          ],
          "histogram2dcontour": [
           {
            "colorbar": {
             "outlinewidth": 0,
             "ticks": ""
            },
            "colorscale": [
             [
              0,
              "#0d0887"
             ],
             [
              0.1111111111111111,
              "#46039f"
             ],
             [
              0.2222222222222222,
              "#7201a8"
             ],
             [
              0.3333333333333333,
              "#9c179e"
             ],
             [
              0.4444444444444444,
              "#bd3786"
             ],
             [
              0.5555555555555556,
              "#d8576b"
             ],
             [
              0.6666666666666666,
              "#ed7953"
             ],
             [
              0.7777777777777778,
              "#fb9f3a"
             ],
             [
              0.8888888888888888,
              "#fdca26"
             ],
             [
              1,
              "#f0f921"
             ]
            ],
            "type": "histogram2dcontour"
           }
          ],
          "mesh3d": [
           {
            "colorbar": {
             "outlinewidth": 0,
             "ticks": ""
            },
            "type": "mesh3d"
           }
          ],
          "parcoords": [
           {
            "line": {
             "colorbar": {
              "outlinewidth": 0,
              "ticks": ""
             }
            },
            "type": "parcoords"
           }
          ],
          "pie": [
           {
            "automargin": true,
            "type": "pie"
           }
          ],
          "scatter": [
           {
            "fillpattern": {
             "fillmode": "overlay",
             "size": 10,
             "solidity": 0.2
            },
            "type": "scatter"
           }
          ],
          "scatter3d": [
           {
            "line": {
             "colorbar": {
              "outlinewidth": 0,
              "ticks": ""
             }
            },
            "marker": {
             "colorbar": {
              "outlinewidth": 0,
              "ticks": ""
             }
            },
            "type": "scatter3d"
           }
          ],
          "scattercarpet": [
           {
            "marker": {
             "colorbar": {
              "outlinewidth": 0,
              "ticks": ""
             }
            },
            "type": "scattercarpet"
           }
          ],
          "scattergeo": [
           {
            "marker": {
             "colorbar": {
              "outlinewidth": 0,
              "ticks": ""
             }
            },
            "type": "scattergeo"
           }
          ],
          "scattergl": [
           {
            "marker": {
             "colorbar": {
              "outlinewidth": 0,
              "ticks": ""
             }
            },
            "type": "scattergl"
           }
          ],
          "scattermapbox": [
           {
            "marker": {
             "colorbar": {
              "outlinewidth": 0,
              "ticks": ""
             }
            },
            "type": "scattermapbox"
           }
          ],
          "scatterpolar": [
           {
            "marker": {
             "colorbar": {
              "outlinewidth": 0,
              "ticks": ""
             }
            },
            "type": "scatterpolar"
           }
          ],
          "scatterpolargl": [
           {
            "marker": {
             "colorbar": {
              "outlinewidth": 0,
              "ticks": ""
             }
            },
            "type": "scatterpolargl"
           }
          ],
          "scatterternary": [
           {
            "marker": {
             "colorbar": {
              "outlinewidth": 0,
              "ticks": ""
             }
            },
            "type": "scatterternary"
           }
          ],
          "surface": [
           {
            "colorbar": {
             "outlinewidth": 0,
             "ticks": ""
            },
            "colorscale": [
             [
              0,
              "#0d0887"
             ],
             [
              0.1111111111111111,
              "#46039f"
             ],
             [
              0.2222222222222222,
              "#7201a8"
             ],
             [
              0.3333333333333333,
              "#9c179e"
             ],
             [
              0.4444444444444444,
              "#bd3786"
             ],
             [
              0.5555555555555556,
              "#d8576b"
             ],
             [
              0.6666666666666666,
              "#ed7953"
             ],
             [
              0.7777777777777778,
              "#fb9f3a"
             ],
             [
              0.8888888888888888,
              "#fdca26"
             ],
             [
              1,
              "#f0f921"
             ]
            ],
            "type": "surface"
           }
          ],
          "table": [
           {
            "cells": {
             "fill": {
              "color": "#EBF0F8"
             },
             "line": {
              "color": "white"
             }
            },
            "header": {
             "fill": {
              "color": "#C8D4E3"
             },
             "line": {
              "color": "white"
             }
            },
            "type": "table"
           }
          ]
         },
         "layout": {
          "annotationdefaults": {
           "arrowcolor": "#2a3f5f",
           "arrowhead": 0,
           "arrowwidth": 1
          },
          "autotypenumbers": "strict",
          "coloraxis": {
           "colorbar": {
            "outlinewidth": 0,
            "ticks": ""
           }
          },
          "colorscale": {
           "diverging": [
            [
             0,
             "#8e0152"
            ],
            [
             0.1,
             "#c51b7d"
            ],
            [
             0.2,
             "#de77ae"
            ],
            [
             0.3,
             "#f1b6da"
            ],
            [
             0.4,
             "#fde0ef"
            ],
            [
             0.5,
             "#f7f7f7"
            ],
            [
             0.6,
             "#e6f5d0"
            ],
            [
             0.7,
             "#b8e186"
            ],
            [
             0.8,
             "#7fbc41"
            ],
            [
             0.9,
             "#4d9221"
            ],
            [
             1,
             "#276419"
            ]
           ],
           "sequential": [
            [
             0,
             "#0d0887"
            ],
            [
             0.1111111111111111,
             "#46039f"
            ],
            [
             0.2222222222222222,
             "#7201a8"
            ],
            [
             0.3333333333333333,
             "#9c179e"
            ],
            [
             0.4444444444444444,
             "#bd3786"
            ],
            [
             0.5555555555555556,
             "#d8576b"
            ],
            [
             0.6666666666666666,
             "#ed7953"
            ],
            [
             0.7777777777777778,
             "#fb9f3a"
            ],
            [
             0.8888888888888888,
             "#fdca26"
            ],
            [
             1,
             "#f0f921"
            ]
           ],
           "sequentialminus": [
            [
             0,
             "#0d0887"
            ],
            [
             0.1111111111111111,
             "#46039f"
            ],
            [
             0.2222222222222222,
             "#7201a8"
            ],
            [
             0.3333333333333333,
             "#9c179e"
            ],
            [
             0.4444444444444444,
             "#bd3786"
            ],
            [
             0.5555555555555556,
             "#d8576b"
            ],
            [
             0.6666666666666666,
             "#ed7953"
            ],
            [
             0.7777777777777778,
             "#fb9f3a"
            ],
            [
             0.8888888888888888,
             "#fdca26"
            ],
            [
             1,
             "#f0f921"
            ]
           ]
          },
          "colorway": [
           "#636efa",
           "#EF553B",
           "#00cc96",
           "#ab63fa",
           "#FFA15A",
           "#19d3f3",
           "#FF6692",
           "#B6E880",
           "#FF97FF",
           "#FECB52"
          ],
          "font": {
           "color": "#2a3f5f"
          },
          "geo": {
           "bgcolor": "white",
           "lakecolor": "white",
           "landcolor": "#E5ECF6",
           "showlakes": true,
           "showland": true,
           "subunitcolor": "white"
          },
          "hoverlabel": {
           "align": "left"
          },
          "hovermode": "closest",
          "mapbox": {
           "style": "light"
          },
          "paper_bgcolor": "white",
          "plot_bgcolor": "#E5ECF6",
          "polar": {
           "angularaxis": {
            "gridcolor": "white",
            "linecolor": "white",
            "ticks": ""
           },
           "bgcolor": "#E5ECF6",
           "radialaxis": {
            "gridcolor": "white",
            "linecolor": "white",
            "ticks": ""
           }
          },
          "scene": {
           "xaxis": {
            "backgroundcolor": "#E5ECF6",
            "gridcolor": "white",
            "gridwidth": 2,
            "linecolor": "white",
            "showbackground": true,
            "ticks": "",
            "zerolinecolor": "white"
           },
           "yaxis": {
            "backgroundcolor": "#E5ECF6",
            "gridcolor": "white",
            "gridwidth": 2,
            "linecolor": "white",
            "showbackground": true,
            "ticks": "",
            "zerolinecolor": "white"
           },
           "zaxis": {
            "backgroundcolor": "#E5ECF6",
            "gridcolor": "white",
            "gridwidth": 2,
            "linecolor": "white",
            "showbackground": true,
            "ticks": "",
            "zerolinecolor": "white"
           }
          },
          "shapedefaults": {
           "line": {
            "color": "#2a3f5f"
           }
          },
          "ternary": {
           "aaxis": {
            "gridcolor": "white",
            "linecolor": "white",
            "ticks": ""
           },
           "baxis": {
            "gridcolor": "white",
            "linecolor": "white",
            "ticks": ""
           },
           "bgcolor": "#E5ECF6",
           "caxis": {
            "gridcolor": "white",
            "linecolor": "white",
            "ticks": ""
           }
          },
          "title": {
           "x": 0.05
          },
          "xaxis": {
           "automargin": true,
           "gridcolor": "white",
           "linecolor": "white",
           "ticks": "",
           "title": {
            "standoff": 15
           },
           "zerolinecolor": "white",
           "zerolinewidth": 2
          },
          "yaxis": {
           "automargin": true,
           "gridcolor": "white",
           "linecolor": "white",
           "ticks": "",
           "title": {
            "standoff": 15
           },
           "zerolinecolor": "white",
           "zerolinewidth": 2
          }
         }
        }
       }
      }
     },
     "metadata": {},
     "output_type": "display_data"
    }
   ],
   "source": [
    "fig = px.line_polar(median, r='charges', theta='hospital_tier') #, line_close=True\n",
    "fig.show()"
   ]
  },
  {
   "cell_type": "markdown",
   "id": "60a1bb6a-0b11-4af6-bf2b-e6b948a6d996",
   "metadata": {
    "id": "60a1bb6a-0b11-4af6-bf2b-e6b948a6d996",
    "tags": []
   },
   "source": [
    "### 10.\tCreate a frequency table and hence a stacked bar-chart to visualize the count of people in different tiers of cities and hospitals.   "
   ]
  },
  {
   "cell_type": "code",
   "execution_count": 49,
   "id": "92445c12-dd27-410e-8510-710301051658",
   "metadata": {},
   "outputs": [
    {
     "data": {
      "text/html": [
       "<div>\n",
       "<style scoped>\n",
       "    .dataframe tbody tr th:only-of-type {\n",
       "        vertical-align: middle;\n",
       "    }\n",
       "\n",
       "    .dataframe tbody tr th {\n",
       "        vertical-align: top;\n",
       "    }\n",
       "\n",
       "    .dataframe thead th {\n",
       "        text-align: right;\n",
       "    }\n",
       "</style>\n",
       "<table border=\"1\" class=\"dataframe\">\n",
       "  <thead>\n",
       "    <tr style=\"text-align: right;\">\n",
       "      <th>hospital_tier</th>\n",
       "      <th>tier - 1</th>\n",
       "      <th>tier - 2</th>\n",
       "      <th>tier - 3</th>\n",
       "    </tr>\n",
       "    <tr>\n",
       "      <th>city_tier</th>\n",
       "      <th></th>\n",
       "      <th></th>\n",
       "      <th></th>\n",
       "    </tr>\n",
       "  </thead>\n",
       "  <tbody>\n",
       "    <tr>\n",
       "      <th>tier - 1</th>\n",
       "      <td>85</td>\n",
       "      <td>403</td>\n",
       "      <td>241</td>\n",
       "    </tr>\n",
       "    <tr>\n",
       "      <th>tier - 2</th>\n",
       "      <td>106</td>\n",
       "      <td>479</td>\n",
       "      <td>222</td>\n",
       "    </tr>\n",
       "    <tr>\n",
       "      <th>tier - 3</th>\n",
       "      <td>109</td>\n",
       "      <td>452</td>\n",
       "      <td>228</td>\n",
       "    </tr>\n",
       "  </tbody>\n",
       "</table>\n",
       "</div>"
      ],
      "text/plain": [
       "hospital_tier  tier - 1  tier - 2  tier - 3\n",
       "city_tier                                  \n",
       "tier - 1             85       403       241\n",
       "tier - 2            106       479       222\n",
       "tier - 3            109       452       228"
      ]
     },
     "execution_count": 49,
     "metadata": {},
     "output_type": "execute_result"
    }
   ],
   "source": [
    "pd.crosstab(master_noq.city_tier, master_noq.hospital_tier)"
   ]
  },
  {
   "cell_type": "code",
   "execution_count": 50,
   "id": "5dc0f183-eb90-43ae-95f7-9477d066e6a2",
   "metadata": {
    "colab": {
     "base_uri": "https://localhost:8080/",
     "height": 320
    },
    "executionInfo": {
     "elapsed": 1380,
     "status": "ok",
     "timestamp": 1667228939139,
     "user": {
      "displayName": "Nimisha Pandey",
      "userId": "15071563106569379314"
     },
     "user_tz": -330
    },
    "id": "5dc0f183-eb90-43ae-95f7-9477d066e6a2",
    "outputId": "fa7d4967-d632-4c32-9df3-970e1510f9b2"
   },
   "outputs": [
    {
     "data": {
      "image/png": "[encoded data removed]",
      "text/plain": [
       "<Figure size 640x480 with 1 Axes>"
      ]
     },
     "metadata": {},
     "output_type": "display_data"
    }
   ],
   "source": [
    "pd.crosstab(master_noq.city_tier, master_noq.hospital_tier).plot.bar(stacked = True)\n",
    "plt.show()"
   ]
  },
  {
   "cell_type": "markdown",
   "id": "90205b62-f283-425d-ac2b-e923b9145bae",
   "metadata": {
    "id": "90205b62-f283-425d-ac2b-e923b9145bae"
   },
   "source": [
    "### 11.\tTest the following null hypotheses:\n",
    "    - Average hospitalization cost across the 3 types of hospitals is not significantly different  \n",
    "    - Average hospitalization cost across the 3 types of cities is not significantly different \n",
    "    - Average hospitalization cost for smokers is not significantly different than non-smokers\n",
    "    - Smoking and Hearth issues are independent"
   ]
  },
  {
   "cell_type": "markdown",
   "id": "8c621a07-7514-4574-bee1-b77707f8a7cc",
   "metadata": {
    "id": "8c621a07-7514-4574-bee1-b77707f8a7cc"
   },
   "source": [
    "#### H0 : Average hospitalization cost across the 3 types of hospitals is not significantly different"
   ]
  },
  {
   "cell_type": "code",
   "execution_count": 51,
   "id": "c8df5763-42db-468f-8402-2f72559454cf",
   "metadata": {
    "colab": {
     "base_uri": "https://localhost:8080/",
     "height": 112
    },
    "executionInfo": {
     "elapsed": 48,
     "status": "ok",
     "timestamp": 1667228939142,
     "user": {
      "displayName": "Nimisha Pandey",
      "userId": "15071563106569379314"
     },
     "user_tz": -330
    },
    "id": "c8df5763-42db-468f-8402-2f72559454cf",
    "outputId": "2573b229-1923-4675-a7ec-f04ff5859b93"
   },
   "outputs": [
    {
     "data": {
      "text/html": [
       "<div>\n",
       "<style scoped>\n",
       "    .dataframe tbody tr th:only-of-type {\n",
       "        vertical-align: middle;\n",
       "    }\n",
       "\n",
       "    .dataframe tbody tr th {\n",
       "        vertical-align: top;\n",
       "    }\n",
       "\n",
       "    .dataframe thead th {\n",
       "        text-align: right;\n",
       "    }\n",
       "</style>\n",
       "<table border=\"1\" class=\"dataframe\">\n",
       "  <thead>\n",
       "    <tr style=\"text-align: right;\">\n",
       "      <th></th>\n",
       "      <th>df</th>\n",
       "      <th>sum_sq</th>\n",
       "      <th>mean_sq</th>\n",
       "      <th>F</th>\n",
       "      <th>PR(&gt;F)</th>\n",
       "    </tr>\n",
       "  </thead>\n",
       "  <tbody>\n",
       "    <tr>\n",
       "      <th>hospital_tier</th>\n",
       "      <td>2.0</td>\n",
       "      <td>9.763011e+10</td>\n",
       "      <td>4.881505e+10</td>\n",
       "      <td>493.989566</td>\n",
       "      <td>1.773822e-179</td>\n",
       "    </tr>\n",
       "    <tr>\n",
       "      <th>Residual</th>\n",
       "      <td>2322.0</td>\n",
       "      <td>2.294554e+11</td>\n",
       "      <td>9.881799e+07</td>\n",
       "      <td>NaN</td>\n",
       "      <td>NaN</td>\n",
       "    </tr>\n",
       "  </tbody>\n",
       "</table>\n",
       "</div>"
      ],
      "text/plain": [
       "                   df        sum_sq       mean_sq           F         PR(>F)\n",
       "hospital_tier     2.0  9.763011e+10  4.881505e+10  493.989566  1.773822e-179\n",
       "Residual       2322.0  2.294554e+11  9.881799e+07         NaN            NaN"
      ]
     },
     "execution_count": 51,
     "metadata": {},
     "output_type": "execute_result"
    }
   ],
   "source": [
    "mod = ols('charges ~ hospital_tier', data = master_noq).fit()\n",
    "res = sm.stats.anova_lm(mod)\n",
    "res"
   ]
  },
  {
   "cell_type": "raw",
   "id": "a4e87214-85d2-4560-ad52-658bfb08471c",
   "metadata": {},
   "source": [
    "Looking at the p_value and further analysis, we can reject the null hypothesis and conclude that\n",
    "\n",
    "Average hospitalization costs across the 3 types of hospitals are significantly different"
   ]
  },
  {
   "cell_type": "markdown",
   "id": "a9a0f5aa-e2d4-4428-9549-ca48a5ddabb3",
   "metadata": {
    "id": "a9a0f5aa-e2d4-4428-9549-ca48a5ddabb3"
   },
   "source": [
    "#### H0 = Average hospitalization cost across the 3 types of cities is not significantly different"
   ]
  },
  {
   "cell_type": "code",
   "execution_count": 52,
   "id": "217105cc-486b-4fdc-98e1-703f5201b88b",
   "metadata": {
    "colab": {
     "base_uri": "https://localhost:8080/",
     "height": 112
    },
    "executionInfo": {
     "elapsed": 28,
     "status": "ok",
     "timestamp": 1667228940028,
     "user": {
      "displayName": "Nimisha Pandey",
      "userId": "15071563106569379314"
     },
     "user_tz": -330
    },
    "id": "217105cc-486b-4fdc-98e1-703f5201b88b",
    "outputId": "654a7367-d050-48e9-ff1b-51959513cd3f"
   },
   "outputs": [
    {
     "data": {
      "text/html": [
       "<div>\n",
       "<style scoped>\n",
       "    .dataframe tbody tr th:only-of-type {\n",
       "        vertical-align: middle;\n",
       "    }\n",
       "\n",
       "    .dataframe tbody tr th {\n",
       "        vertical-align: top;\n",
       "    }\n",
       "\n",
       "    .dataframe thead th {\n",
       "        text-align: right;\n",
       "    }\n",
       "</style>\n",
       "<table border=\"1\" class=\"dataframe\">\n",
       "  <thead>\n",
       "    <tr style=\"text-align: right;\">\n",
       "      <th></th>\n",
       "      <th>df</th>\n",
       "      <th>sum_sq</th>\n",
       "      <th>mean_sq</th>\n",
       "      <th>F</th>\n",
       "      <th>PR(&gt;F)</th>\n",
       "    </tr>\n",
       "  </thead>\n",
       "  <tbody>\n",
       "    <tr>\n",
       "      <th>city_tier</th>\n",
       "      <td>2.0</td>\n",
       "      <td>4.092192e+08</td>\n",
       "      <td>2.046096e+08</td>\n",
       "      <td>1.454356</td>\n",
       "      <td>0.233763</td>\n",
       "    </tr>\n",
       "    <tr>\n",
       "      <th>Residual</th>\n",
       "      <td>2322.0</td>\n",
       "      <td>3.266763e+11</td>\n",
       "      <td>1.406874e+08</td>\n",
       "      <td>NaN</td>\n",
       "      <td>NaN</td>\n",
       "    </tr>\n",
       "  </tbody>\n",
       "</table>\n",
       "</div>"
      ],
      "text/plain": [
       "               df        sum_sq       mean_sq         F    PR(>F)\n",
       "city_tier     2.0  4.092192e+08  2.046096e+08  1.454356  0.233763\n",
       "Residual   2322.0  3.266763e+11  1.406874e+08       NaN       NaN"
      ]
     },
     "execution_count": 52,
     "metadata": {},
     "output_type": "execute_result"
    }
   ],
   "source": [
    "mod = ols('charges ~ city_tier', data = master_noq).fit()\n",
    "res = sm.stats.anova_lm(mod)\n",
    "res"
   ]
  },
  {
   "cell_type": "raw",
   "id": "e2beb475-4e5a-4c91-9c0a-1134a3788131",
   "metadata": {},
   "source": [
    "Looking at the p_value and further analysis, we fail to reject the null hypothesis and conclude that\n",
    "\n",
    "Average hospitalization cost across the 3 types of cities is not significantly different"
   ]
  },
  {
   "cell_type": "markdown",
   "id": "4ba74439-aba3-4848-b54c-196fb6e6e76b",
   "metadata": {
    "id": "4ba74439-aba3-4848-b54c-196fb6e6e76b"
   },
   "source": [
    "#### H0: Average hospitalization cost for smokers is not significantly different than non-smokers"
   ]
  },
  {
   "cell_type": "code",
   "execution_count": 53,
   "id": "b4519ae6-21eb-4c8e-9541-f7e7fcdc00a6",
   "metadata": {
    "colab": {
     "base_uri": "https://localhost:8080/"
    },
    "executionInfo": {
     "elapsed": 28,
     "status": "ok",
     "timestamp": 1667228941456,
     "user": {
      "displayName": "Nimisha Pandey",
      "userId": "15071563106569379314"
     },
     "user_tz": -330
    },
    "id": "b4519ae6-21eb-4c8e-9541-f7e7fcdc00a6",
    "outputId": "4984d184-4861-4701-d2b6-8aacffe68f2c"
   },
   "outputs": [
    {
     "data": {
      "text/plain": [
       "TtestResult(statistic=np.float64(74.15560699695726), pvalue=np.float64(0.0), df=np.float64(2323.0))"
      ]
     },
     "execution_count": 53,
     "metadata": {},
     "output_type": "execute_result"
    }
   ],
   "source": [
    "sample1 = master_noq.loc[master_noq.smoker == 'yes', 'charges']\n",
    "sample2 = master_noq.loc[master_noq.smoker != 'yes', 'charges']\n",
    "stats.ttest_ind(sample1, sample2)"
   ]
  },
  {
   "cell_type": "raw",
   "id": "ce202e63-07c6-42a7-b9ee-c17864169881",
   "metadata": {},
   "source": [
    "Looking at the p_value, we can reject the null hypothesis and conclude that\n",
    "\n",
    "Average hospitalization cost for smokers is significantly different than non-smokers"
   ]
  },
  {
   "cell_type": "markdown",
   "id": "0c268805-e1a2-4f8e-b3b0-11175d351e0e",
   "metadata": {
    "id": "0c268805-e1a2-4f8e-b3b0-11175d351e0e"
   },
   "source": [
    "#### H0 : Smoking and Heart issues are independent4"
   ]
  },
  {
   "cell_type": "code",
   "execution_count": 54,
   "id": "294d214a-b79f-4611-a598-227ad9ee248f",
   "metadata": {
    "executionInfo": {
     "elapsed": 39,
     "status": "ok",
     "timestamp": 1667228941473,
     "user": {
      "displayName": "Nimisha Pandey",
      "userId": "15071563106569379314"
     },
     "user_tz": -330
    },
    "id": "294d214a-b79f-4611-a598-227ad9ee248f"
   },
   "outputs": [],
   "source": [
    "observed_table = pd.crosstab(master_noq.smoker, master_data.heart_issues)"
   ]
  },
  {
   "cell_type": "code",
   "execution_count": 55,
   "id": "271be7d4-607c-4274-b9ba-179f2296cf7b",
   "metadata": {},
   "outputs": [
    {
     "data": {
      "text/html": [
       "<div>\n",
       "<style scoped>\n",
       "    .dataframe tbody tr th:only-of-type {\n",
       "        vertical-align: middle;\n",
       "    }\n",
       "\n",
       "    .dataframe tbody tr th {\n",
       "        vertical-align: top;\n",
       "    }\n",
       "\n",
       "    .dataframe thead th {\n",
       "        text-align: right;\n",
       "    }\n",
       "</style>\n",
       "<table border=\"1\" class=\"dataframe\">\n",
       "  <thead>\n",
       "    <tr style=\"text-align: right;\">\n",
       "      <th>heart_issues</th>\n",
       "      <th>No</th>\n",
       "      <th>yes</th>\n",
       "    </tr>\n",
       "    <tr>\n",
       "      <th>smoker</th>\n",
       "      <th></th>\n",
       "      <th></th>\n",
       "    </tr>\n",
       "  </thead>\n",
       "  <tbody>\n",
       "    <tr>\n",
       "      <th>No</th>\n",
       "      <td>1108</td>\n",
       "      <td>731</td>\n",
       "    </tr>\n",
       "    <tr>\n",
       "      <th>yes</th>\n",
       "      <td>297</td>\n",
       "      <td>189</td>\n",
       "    </tr>\n",
       "  </tbody>\n",
       "</table>\n",
       "</div>"
      ],
      "text/plain": [
       "heart_issues    No  yes\n",
       "smoker                 \n",
       "No            1108  731\n",
       "yes            297  189"
      ]
     },
     "execution_count": 55,
     "metadata": {},
     "output_type": "execute_result"
    }
   ],
   "source": [
    "observed_table"
   ]
  },
  {
   "cell_type": "code",
   "execution_count": 56,
   "id": "35afe3f6-5796-40fd-8300-1466da4bd887",
   "metadata": {
    "executionInfo": {
     "elapsed": 6,
     "status": "ok",
     "timestamp": 1667228942002,
     "user": {
      "displayName": "Nimisha Pandey",
      "userId": "15071563106569379314"
     },
     "user_tz": -330
    },
    "id": "35afe3f6-5796-40fd-8300-1466da4bd887"
   },
   "outputs": [],
   "source": [
    "chi, p, df, expected = stats.chi2_contingency(observed_table)"
   ]
  },
  {
   "cell_type": "code",
   "execution_count": 57,
   "id": "4685b0f0-4b7a-4d17-82e0-49b3e1064f57",
   "metadata": {},
   "outputs": [
    {
     "data": {
      "text/plain": [
       "(np.float64(0.08588150449910657),\n",
       " np.float64(0.7694797581780767),\n",
       " 1,\n",
       " array([[1111.30967742,  727.69032258],\n",
       "        [ 293.69032258,  192.30967742]]))"
      ]
     },
     "execution_count": 57,
     "metadata": {},
     "output_type": "execute_result"
    }
   ],
   "source": [
    "chi, p, df, expected"
   ]
  },
  {
   "cell_type": "raw",
   "id": "efeaa8f7-6623-4cba-aabb-61177442360c",
   "metadata": {},
   "source": [
    "Looking at the p_value, we fail to reject the null hypothesis and conclude that\n",
    "\n",
    "Smoking and Heart issues are independent"
   ]
  },
  {
   "cell_type": "markdown",
   "id": "736340de-9578-460b-8228-667ee1011ffb",
   "metadata": {
    "id": "736340de-9578-460b-8228-667ee1011ffb",
    "tags": []
   },
   "source": [
    "## 12.\tCheck the correlation between predictors to identify highly correlated predictors. Visualize using a heatmap."
   ]
  },
  {
   "cell_type": "raw",
   "id": "4e64440d-8a5f-4b8d-b0be-b31d1a2d0a7b",
   "metadata": {
    "id": "4e64440d-8a5f-4b8d-b0be-b31d1a2d0a7b"
   },
   "source": [
    "eliminate redundant vars like year, month and date, city_tier and hospital_tier as new vars already created\n"
   ]
  },
  {
   "cell_type": "code",
   "execution_count": 58,
   "id": "12a1f0ac-a8df-4fd1-b4ac-206ffd74e08d",
   "metadata": {
    "colab": {
     "base_uri": "https://localhost:8080/"
    },
    "executionInfo": {
     "elapsed": 10,
     "status": "ok",
     "timestamp": 1667228944006,
     "user": {
      "displayName": "Nimisha Pandey",
      "userId": "15071563106569379314"
     },
     "user_tz": -330
    },
    "id": "12a1f0ac-a8df-4fd1-b4ac-206ffd74e08d",
    "outputId": "13505043-3807-405c-b980-792edbe8cb3f"
   },
   "outputs": [
    {
     "data": {
      "text/plain": [
       "Index(['customer_id', 'year', 'month', 'date', 'children', 'charges',\n",
       "       'hospital_tier', 'city_tier', 'state_id', 'bmi', 'hba1c',\n",
       "       'heart_issues', 'any_transplants', 'cancer_history',\n",
       "       'numberofmajorsurgeries', 'smoker', 'name', 'city_tier_ord',\n",
       "       'hospital_tier_ord', 'state_id_R1013', 'state_id_R1011',\n",
       "       'state_id_R1012', 'age', 'title', 'gender'],\n",
       "      dtype='object')"
      ]
     },
     "execution_count": 58,
     "metadata": {},
     "output_type": "execute_result"
    }
   ],
   "source": [
    "master_noq.columns "
   ]
  },
  {
   "cell_type": "code",
   "execution_count": 59,
   "id": "2ffdd50b-0d99-4a6c-9924-4c8bc01bc935",
   "metadata": {
    "executionInfo": {
     "elapsed": 8,
     "status": "ok",
     "timestamp": 1667228944009,
     "user": {
      "displayName": "Nimisha Pandey",
      "userId": "15071563106569379314"
     },
     "user_tz": -330
    },
    "id": "2ffdd50b-0d99-4a6c-9924-4c8bc01bc935"
   },
   "outputs": [],
   "source": [
    "data = master_noq.drop(columns = ['customer_id','name', 'year', 'month', 'date','hospital_tier',\n",
    "       'city_tier', 'state_id' , 'title'])"
   ]
  },
  {
   "cell_type": "code",
   "execution_count": 60,
   "id": "d78744db-07b5-4b7d-9bde-1326af2dd5d4",
   "metadata": {
    "executionInfo": {
     "elapsed": 8,
     "status": "ok",
     "timestamp": 1667228944743,
     "user": {
      "displayName": "Nimisha Pandey",
      "userId": "15071563106569379314"
     },
     "user_tz": -330
    },
    "id": "d78744db-07b5-4b7d-9bde-1326af2dd5d4"
   },
   "outputs": [],
   "source": [
    "corr_plot = data.select_dtypes(exclude='object').corr()\n",
    "ma = np.ones_like(corr_plot)\n",
    "ma[np.tril_indices_from(ma)] = 0"
   ]
  },
  {
   "cell_type": "code",
   "execution_count": 61,
   "id": "fa474927-f142-4237-afb3-f02dc16e76cb",
   "metadata": {
    "colab": {
     "base_uri": "https://localhost:8080/",
     "height": 437
    },
    "executionInfo": {
     "elapsed": 1179,
     "status": "ok",
     "timestamp": 1667228945915,
     "user": {
      "displayName": "Nimisha Pandey",
      "userId": "15071563106569379314"
     },
     "user_tz": -330
    },
    "id": "fa474927-f142-4237-afb3-f02dc16e76cb",
    "outputId": "7e94b343-e81d-4a35-b164-de867399d2c7"
   },
   "outputs": [
    {
     "data": {
      "image/png": "[encoded data removed]",
      "text/plain": [
       "<Figure size 1800x500 with 2 Axes>"
      ]
     },
     "metadata": {},
     "output_type": "display_data"
    }
   ],
   "source": [
    "plt.figure(figsize = (18,5))\n",
    "sns.heatmap(corr_plot, annot= True , mask = ma, cmap='PuRd')\n",
    "plt.show()"
   ]
  },
  {
   "cell_type": "markdown",
   "id": "f4601546-d293-4fcb-ab00-bedc863cd897",
   "metadata": {
    "id": "03094220-c59d-4c1d-911d-bcf7703e5bf0"
   },
   "source": [
    "#### 13. Final Model Development and Evaluation :\n",
    "Perform stratified 5-fold cross validation technique for final prediction and validation. Make sure to use standardization, hyperparameter tuning effectively. There must be effective use of sklearn-pipelines. \n",
    "a. Create 5 fold in the data. You may want to create a variable to identify the folds. "
   ]
  },
  {
   "cell_type": "code",
   "execution_count": 62,
   "id": "181c0302-d8e4-49ac-a927-c8d5a6e3fc50",
   "metadata": {
    "executionInfo": {
     "elapsed": 11,
     "status": "ok",
     "timestamp": 1667228946639,
     "user": {
      "displayName": "Nimisha Pandey",
      "userId": "15071563106569379314"
     },
     "user_tz": -330
    },
    "id": "181c0302-d8e4-49ac-a927-c8d5a6e3fc50",
    "tags": []
   },
   "outputs": [],
   "source": [
    "data_2 = pd.get_dummies(data, drop_first=True)\n",
    "data_2.reset_index(drop=True, inplace = True)"
   ]
  },
  {
   "cell_type": "code",
   "execution_count": 63,
   "id": "d511d3d3-53a4-42d6-a028-3d4402378bf6",
   "metadata": {
    "colab": {
     "base_uri": "https://localhost:8080/",
     "height": 270
    },
    "executionInfo": {
     "elapsed": 12,
     "status": "ok",
     "timestamp": 1667228946640,
     "user": {
      "displayName": "Nimisha Pandey",
      "userId": "15071563106569379314"
     },
     "user_tz": -330
    },
    "id": "d511d3d3-53a4-42d6-a028-3d4402378bf6",
    "outputId": "3c9d13f5-0519-4b37-fe2a-6fb85d231115",
    "tags": []
   },
   "outputs": [
    {
     "data": {
      "text/html": [
       "<div>\n",
       "<style scoped>\n",
       "    .dataframe tbody tr th:only-of-type {\n",
       "        vertical-align: middle;\n",
       "    }\n",
       "\n",
       "    .dataframe tbody tr th {\n",
       "        vertical-align: top;\n",
       "    }\n",
       "\n",
       "    .dataframe thead th {\n",
       "        text-align: right;\n",
       "    }\n",
       "</style>\n",
       "<table border=\"1\" class=\"dataframe\">\n",
       "  <thead>\n",
       "    <tr style=\"text-align: right;\">\n",
       "      <th></th>\n",
       "      <th>children</th>\n",
       "      <th>charges</th>\n",
       "      <th>bmi</th>\n",
       "      <th>hba1c</th>\n",
       "      <th>numberofmajorsurgeries</th>\n",
       "      <th>city_tier_ord</th>\n",
       "      <th>hospital_tier_ord</th>\n",
       "      <th>state_id_R1013</th>\n",
       "      <th>state_id_R1011</th>\n",
       "      <th>state_id_R1012</th>\n",
       "      <th>age</th>\n",
       "      <th>heart_issues_yes</th>\n",
       "      <th>any_transplants_yes</th>\n",
       "      <th>cancer_history_Yes</th>\n",
       "      <th>smoker_yes</th>\n",
       "      <th>gender_male</th>\n",
       "    </tr>\n",
       "  </thead>\n",
       "  <tbody>\n",
       "    <tr>\n",
       "      <th>0</th>\n",
       "      <td>0</td>\n",
       "      <td>563.84</td>\n",
       "      <td>17.58</td>\n",
       "      <td>4.51</td>\n",
       "      <td>1</td>\n",
       "      <td>0.0</td>\n",
       "      <td>1.0</td>\n",
       "      <td>1</td>\n",
       "      <td>0</td>\n",
       "      <td>0</td>\n",
       "      <td>31</td>\n",
       "      <td>False</td>\n",
       "      <td>False</td>\n",
       "      <td>False</td>\n",
       "      <td>False</td>\n",
       "      <td>True</td>\n",
       "    </tr>\n",
       "    <tr>\n",
       "      <th>1</th>\n",
       "      <td>0</td>\n",
       "      <td>570.62</td>\n",
       "      <td>17.60</td>\n",
       "      <td>4.39</td>\n",
       "      <td>1</td>\n",
       "      <td>2.0</td>\n",
       "      <td>1.0</td>\n",
       "      <td>1</td>\n",
       "      <td>0</td>\n",
       "      <td>0</td>\n",
       "      <td>31</td>\n",
       "      <td>False</td>\n",
       "      <td>False</td>\n",
       "      <td>False</td>\n",
       "      <td>False</td>\n",
       "      <td>True</td>\n",
       "    </tr>\n",
       "    <tr>\n",
       "      <th>2</th>\n",
       "      <td>0</td>\n",
       "      <td>600.00</td>\n",
       "      <td>16.47</td>\n",
       "      <td>6.35</td>\n",
       "      <td>1</td>\n",
       "      <td>2.0</td>\n",
       "      <td>1.0</td>\n",
       "      <td>1</td>\n",
       "      <td>0</td>\n",
       "      <td>0</td>\n",
       "      <td>30</td>\n",
       "      <td>False</td>\n",
       "      <td>False</td>\n",
       "      <td>True</td>\n",
       "      <td>False</td>\n",
       "      <td>False</td>\n",
       "    </tr>\n",
       "    <tr>\n",
       "      <th>3</th>\n",
       "      <td>0</td>\n",
       "      <td>604.54</td>\n",
       "      <td>17.70</td>\n",
       "      <td>6.28</td>\n",
       "      <td>1</td>\n",
       "      <td>0.0</td>\n",
       "      <td>0.0</td>\n",
       "      <td>1</td>\n",
       "      <td>0</td>\n",
       "      <td>0</td>\n",
       "      <td>31</td>\n",
       "      <td>False</td>\n",
       "      <td>False</td>\n",
       "      <td>False</td>\n",
       "      <td>False</td>\n",
       "      <td>True</td>\n",
       "    </tr>\n",
       "    <tr>\n",
       "      <th>4</th>\n",
       "      <td>0</td>\n",
       "      <td>637.26</td>\n",
       "      <td>22.34</td>\n",
       "      <td>5.57</td>\n",
       "      <td>1</td>\n",
       "      <td>0.0</td>\n",
       "      <td>0.0</td>\n",
       "      <td>1</td>\n",
       "      <td>0</td>\n",
       "      <td>0</td>\n",
       "      <td>25</td>\n",
       "      <td>False</td>\n",
       "      <td>False</td>\n",
       "      <td>False</td>\n",
       "      <td>False</td>\n",
       "      <td>True</td>\n",
       "    </tr>\n",
       "  </tbody>\n",
       "</table>\n",
       "</div>"
      ],
      "text/plain": [
       "   children  charges    bmi  hba1c  numberofmajorsurgeries  city_tier_ord  \\\n",
       "0         0   563.84  17.58   4.51                       1            0.0   \n",
       "1         0   570.62  17.60   4.39                       1            2.0   \n",
       "2         0   600.00  16.47   6.35                       1            2.0   \n",
       "3         0   604.54  17.70   6.28                       1            0.0   \n",
       "4         0   637.26  22.34   5.57                       1            0.0   \n",
       "\n",
       "   hospital_tier_ord  state_id_R1013  state_id_R1011  state_id_R1012  age  \\\n",
       "0                1.0               1               0               0   31   \n",
       "1                1.0               1               0               0   31   \n",
       "2                1.0               1               0               0   30   \n",
       "3                0.0               1               0               0   31   \n",
       "4                0.0               1               0               0   25   \n",
       "\n",
       "   heart_issues_yes  any_transplants_yes  cancer_history_Yes  smoker_yes  \\\n",
       "0             False                False               False       False   \n",
       "1             False                False               False       False   \n",
       "2             False                False                True       False   \n",
       "3             False                False               False       False   \n",
       "4             False                False               False       False   \n",
       "\n",
       "   gender_male  \n",
       "0         True  \n",
       "1         True  \n",
       "2        False  \n",
       "3         True  \n",
       "4         True  "
      ]
     },
     "execution_count": 63,
     "metadata": {},
     "output_type": "execute_result"
    }
   ],
   "source": [
    "data_2.head()"
   ]
  },
  {
   "cell_type": "code",
   "execution_count": 64,
   "id": "11fd31a1-3883-4a79-92a0-18e14d813e25",
   "metadata": {
    "colab": {
     "base_uri": "https://localhost:8080/",
     "height": 270
    },
    "executionInfo": {
     "elapsed": 10,
     "status": "ok",
     "timestamp": 1667228946640,
     "user": {
      "displayName": "Nimisha Pandey",
      "userId": "15071563106569379314"
     },
     "user_tz": -330
    },
    "id": "11fd31a1-3883-4a79-92a0-18e14d813e25",
    "outputId": "5abbab1d-93d9-4626-be7a-541a727a7558",
    "tags": []
   },
   "outputs": [
    {
     "data": {
      "text/html": [
       "<div>\n",
       "<style scoped>\n",
       "    .dataframe tbody tr th:only-of-type {\n",
       "        vertical-align: middle;\n",
       "    }\n",
       "\n",
       "    .dataframe tbody tr th {\n",
       "        vertical-align: top;\n",
       "    }\n",
       "\n",
       "    .dataframe thead th {\n",
       "        text-align: right;\n",
       "    }\n",
       "</style>\n",
       "<table border=\"1\" class=\"dataframe\">\n",
       "  <thead>\n",
       "    <tr style=\"text-align: right;\">\n",
       "      <th></th>\n",
       "      <th>children</th>\n",
       "      <th>bmi</th>\n",
       "      <th>hba1c</th>\n",
       "      <th>numberofmajorsurgeries</th>\n",
       "      <th>city_tier_ord</th>\n",
       "      <th>hospital_tier_ord</th>\n",
       "      <th>state_id_R1013</th>\n",
       "      <th>state_id_R1011</th>\n",
       "      <th>state_id_R1012</th>\n",
       "      <th>age</th>\n",
       "      <th>heart_issues_yes</th>\n",
       "      <th>any_transplants_yes</th>\n",
       "      <th>cancer_history_Yes</th>\n",
       "      <th>smoker_yes</th>\n",
       "      <th>gender_male</th>\n",
       "      <th>charges</th>\n",
       "    </tr>\n",
       "  </thead>\n",
       "  <tbody>\n",
       "    <tr>\n",
       "      <th>0</th>\n",
       "      <td>0</td>\n",
       "      <td>17.58</td>\n",
       "      <td>4.51</td>\n",
       "      <td>1</td>\n",
       "      <td>0.0</td>\n",
       "      <td>1.0</td>\n",
       "      <td>1</td>\n",
       "      <td>0</td>\n",
       "      <td>0</td>\n",
       "      <td>31</td>\n",
       "      <td>False</td>\n",
       "      <td>False</td>\n",
       "      <td>False</td>\n",
       "      <td>False</td>\n",
       "      <td>True</td>\n",
       "      <td>563.84</td>\n",
       "    </tr>\n",
       "    <tr>\n",
       "      <th>1</th>\n",
       "      <td>0</td>\n",
       "      <td>17.60</td>\n",
       "      <td>4.39</td>\n",
       "      <td>1</td>\n",
       "      <td>2.0</td>\n",
       "      <td>1.0</td>\n",
       "      <td>1</td>\n",
       "      <td>0</td>\n",
       "      <td>0</td>\n",
       "      <td>31</td>\n",
       "      <td>False</td>\n",
       "      <td>False</td>\n",
       "      <td>False</td>\n",
       "      <td>False</td>\n",
       "      <td>True</td>\n",
       "      <td>570.62</td>\n",
       "    </tr>\n",
       "    <tr>\n",
       "      <th>2</th>\n",
       "      <td>0</td>\n",
       "      <td>16.47</td>\n",
       "      <td>6.35</td>\n",
       "      <td>1</td>\n",
       "      <td>2.0</td>\n",
       "      <td>1.0</td>\n",
       "      <td>1</td>\n",
       "      <td>0</td>\n",
       "      <td>0</td>\n",
       "      <td>30</td>\n",
       "      <td>False</td>\n",
       "      <td>False</td>\n",
       "      <td>True</td>\n",
       "      <td>False</td>\n",
       "      <td>False</td>\n",
       "      <td>600.00</td>\n",
       "    </tr>\n",
       "    <tr>\n",
       "      <th>3</th>\n",
       "      <td>0</td>\n",
       "      <td>17.70</td>\n",
       "      <td>6.28</td>\n",
       "      <td>1</td>\n",
       "      <td>0.0</td>\n",
       "      <td>0.0</td>\n",
       "      <td>1</td>\n",
       "      <td>0</td>\n",
       "      <td>0</td>\n",
       "      <td>31</td>\n",
       "      <td>False</td>\n",
       "      <td>False</td>\n",
       "      <td>False</td>\n",
       "      <td>False</td>\n",
       "      <td>True</td>\n",
       "      <td>604.54</td>\n",
       "    </tr>\n",
       "    <tr>\n",
       "      <th>4</th>\n",
       "      <td>0</td>\n",
       "      <td>22.34</td>\n",
       "      <td>5.57</td>\n",
       "      <td>1</td>\n",
       "      <td>0.0</td>\n",
       "      <td>0.0</td>\n",
       "      <td>1</td>\n",
       "      <td>0</td>\n",
       "      <td>0</td>\n",
       "      <td>25</td>\n",
       "      <td>False</td>\n",
       "      <td>False</td>\n",
       "      <td>False</td>\n",
       "      <td>False</td>\n",
       "      <td>True</td>\n",
       "      <td>637.26</td>\n",
       "    </tr>\n",
       "  </tbody>\n",
       "</table>\n",
       "</div>"
      ],
      "text/plain": [
       "   children    bmi  hba1c  numberofmajorsurgeries  city_tier_ord  \\\n",
       "0         0  17.58   4.51                       1            0.0   \n",
       "1         0  17.60   4.39                       1            2.0   \n",
       "2         0  16.47   6.35                       1            2.0   \n",
       "3         0  17.70   6.28                       1            0.0   \n",
       "4         0  22.34   5.57                       1            0.0   \n",
       "\n",
       "   hospital_tier_ord  state_id_R1013  state_id_R1011  state_id_R1012  age  \\\n",
       "0                1.0               1               0               0   31   \n",
       "1                1.0               1               0               0   31   \n",
       "2                1.0               1               0               0   30   \n",
       "3                0.0               1               0               0   31   \n",
       "4                0.0               1               0               0   25   \n",
       "\n",
       "   heart_issues_yes  any_transplants_yes  cancer_history_Yes  smoker_yes  \\\n",
       "0             False                False               False       False   \n",
       "1             False                False               False       False   \n",
       "2             False                False                True       False   \n",
       "3             False                False               False       False   \n",
       "4             False                False               False       False   \n",
       "\n",
       "   gender_male  charges  \n",
       "0         True   563.84  \n",
       "1         True   570.62  \n",
       "2        False   600.00  \n",
       "3         True   604.54  \n",
       "4         True   637.26  "
      ]
     },
     "execution_count": 64,
     "metadata": {},
     "output_type": "execute_result"
    }
   ],
   "source": [
    "# rearrange data to put 'charges' as first column or last\n",
    "model_data = data_2.drop(columns = 'charges')\n",
    "model_data.head()\n",
    "model_data['charges'] = data_2.charges\n",
    "model_data.head()"
   ]
  },
  {
   "cell_type": "code",
   "execution_count": 65,
   "id": "b6549608-efe3-44f5-8dd5-b5ee7d736e01",
   "metadata": {},
   "outputs": [],
   "source": [
    "model_data.columns = model_data.columns.str.lower()"
   ]
  },
  {
   "cell_type": "raw",
   "id": "e593ab6d-34d9-4095-8392-bd313ba29636",
   "metadata": {
    "id": "e593ab6d-34d9-4095-8392-bd313ba29636"
   },
   "source": [
    "## b.\tRun a ‘for’ loop for each fold. In each iteration 4/5 of the data is used for training a model and the remaining 1/5 is used to validate it.\n",
    "c.\tCreate 5 different models and 5 different validation scores(Root mean squared error values)"
   ]
  },
  {
   "cell_type": "raw",
   "id": "876cea47-fd89-4fc1-8fab-4aaeba430738",
   "metadata": {
    "id": "876cea47-fd89-4fc1-8fab-4aaeba430738"
   },
   "source": [
    "## [(500.633, 16365.488] < (16365.488, 32167.135] < (32167.135, 47968.782] < (47968.782, 63770.43]]"
   ]
  },
  {
   "cell_type": "code",
   "execution_count": 66,
   "id": "b4c5e3c2-79f4-4838-a658-eab284feb600",
   "metadata": {},
   "outputs": [
    {
     "data": {
      "text/plain": [
       "Index(['children', 'bmi', 'hba1c', 'numberofmajorsurgeries', 'city_tier_ord',\n",
       "       'hospital_tier_ord', 'state_id_r1013', 'state_id_r1011',\n",
       "       'state_id_r1012', 'age', 'heart_issues_yes', 'any_transplants_yes',\n",
       "       'cancer_history_yes', 'smoker_yes', 'gender_male', 'charges'],\n",
       "      dtype='object')"
      ]
     },
     "execution_count": 66,
     "metadata": {},
     "output_type": "execute_result"
    }
   ],
   "source": [
    "model_data.columns"
   ]
  },
  {
   "cell_type": "code",
   "execution_count": 67,
   "id": "5a6124dd-2b37-44d4-9570-474cb5eacf49",
   "metadata": {
    "executionInfo": {
     "elapsed": 6,
     "status": "ok",
     "timestamp": 1667228948709,
     "user": {
      "displayName": "Nimisha Pandey",
      "userId": "15071563106569379314"
     },
     "user_tz": -330
    },
    "id": "5a6124dd-2b37-44d4-9570-474cb5eacf49",
    "tags": []
   },
   "outputs": [],
   "source": [
    "# converting y to categorical for stratified k fold\n",
    "y = model_data['charges']\n",
    "X = model_data.drop(columns = 'charges')"
   ]
  },
  {
   "cell_type": "code",
   "execution_count": 68,
   "id": "2572a00e-c46c-4e73-92ce-b3dd3ab1f1ba",
   "metadata": {},
   "outputs": [
    {
     "data": {
      "text/html": [
       "<div>\n",
       "<style scoped>\n",
       "    .dataframe tbody tr th:only-of-type {\n",
       "        vertical-align: middle;\n",
       "    }\n",
       "\n",
       "    .dataframe tbody tr th {\n",
       "        vertical-align: top;\n",
       "    }\n",
       "\n",
       "    .dataframe thead th {\n",
       "        text-align: right;\n",
       "    }\n",
       "</style>\n",
       "<table border=\"1\" class=\"dataframe\">\n",
       "  <thead>\n",
       "    <tr style=\"text-align: right;\">\n",
       "      <th></th>\n",
       "      <th>children</th>\n",
       "      <th>bmi</th>\n",
       "      <th>hba1c</th>\n",
       "      <th>numberofmajorsurgeries</th>\n",
       "      <th>city_tier_ord</th>\n",
       "      <th>hospital_tier_ord</th>\n",
       "      <th>state_id_r1013</th>\n",
       "      <th>state_id_r1011</th>\n",
       "      <th>state_id_r1012</th>\n",
       "      <th>age</th>\n",
       "      <th>heart_issues_yes</th>\n",
       "      <th>any_transplants_yes</th>\n",
       "      <th>cancer_history_yes</th>\n",
       "      <th>smoker_yes</th>\n",
       "      <th>gender_male</th>\n",
       "    </tr>\n",
       "  </thead>\n",
       "  <tbody>\n",
       "    <tr>\n",
       "      <th>0</th>\n",
       "      <td>0</td>\n",
       "      <td>17.58</td>\n",
       "      <td>4.51</td>\n",
       "      <td>1</td>\n",
       "      <td>0.0</td>\n",
       "      <td>1.0</td>\n",
       "      <td>1</td>\n",
       "      <td>0</td>\n",
       "      <td>0</td>\n",
       "      <td>31</td>\n",
       "      <td>False</td>\n",
       "      <td>False</td>\n",
       "      <td>False</td>\n",
       "      <td>False</td>\n",
       "      <td>True</td>\n",
       "    </tr>\n",
       "    <tr>\n",
       "      <th>1</th>\n",
       "      <td>0</td>\n",
       "      <td>17.60</td>\n",
       "      <td>4.39</td>\n",
       "      <td>1</td>\n",
       "      <td>2.0</td>\n",
       "      <td>1.0</td>\n",
       "      <td>1</td>\n",
       "      <td>0</td>\n",
       "      <td>0</td>\n",
       "      <td>31</td>\n",
       "      <td>False</td>\n",
       "      <td>False</td>\n",
       "      <td>False</td>\n",
       "      <td>False</td>\n",
       "      <td>True</td>\n",
       "    </tr>\n",
       "    <tr>\n",
       "      <th>2</th>\n",
       "      <td>0</td>\n",
       "      <td>16.47</td>\n",
       "      <td>6.35</td>\n",
       "      <td>1</td>\n",
       "      <td>2.0</td>\n",
       "      <td>1.0</td>\n",
       "      <td>1</td>\n",
       "      <td>0</td>\n",
       "      <td>0</td>\n",
       "      <td>30</td>\n",
       "      <td>False</td>\n",
       "      <td>False</td>\n",
       "      <td>True</td>\n",
       "      <td>False</td>\n",
       "      <td>False</td>\n",
       "    </tr>\n",
       "    <tr>\n",
       "      <th>3</th>\n",
       "      <td>0</td>\n",
       "      <td>17.70</td>\n",
       "      <td>6.28</td>\n",
       "      <td>1</td>\n",
       "      <td>0.0</td>\n",
       "      <td>0.0</td>\n",
       "      <td>1</td>\n",
       "      <td>0</td>\n",
       "      <td>0</td>\n",
       "      <td>31</td>\n",
       "      <td>False</td>\n",
       "      <td>False</td>\n",
       "      <td>False</td>\n",
       "      <td>False</td>\n",
       "      <td>True</td>\n",
       "    </tr>\n",
       "    <tr>\n",
       "      <th>4</th>\n",
       "      <td>0</td>\n",
       "      <td>22.34</td>\n",
       "      <td>5.57</td>\n",
       "      <td>1</td>\n",
       "      <td>0.0</td>\n",
       "      <td>0.0</td>\n",
       "      <td>1</td>\n",
       "      <td>0</td>\n",
       "      <td>0</td>\n",
       "      <td>25</td>\n",
       "      <td>False</td>\n",
       "      <td>False</td>\n",
       "      <td>False</td>\n",
       "      <td>False</td>\n",
       "      <td>True</td>\n",
       "    </tr>\n",
       "  </tbody>\n",
       "</table>\n",
       "</div>"
      ],
      "text/plain": [
       "   children    bmi  hba1c  numberofmajorsurgeries  city_tier_ord  \\\n",
       "0         0  17.58   4.51                       1            0.0   \n",
       "1         0  17.60   4.39                       1            2.0   \n",
       "2         0  16.47   6.35                       1            2.0   \n",
       "3         0  17.70   6.28                       1            0.0   \n",
       "4         0  22.34   5.57                       1            0.0   \n",
       "\n",
       "   hospital_tier_ord  state_id_r1013  state_id_r1011  state_id_r1012  age  \\\n",
       "0                1.0               1               0               0   31   \n",
       "1                1.0               1               0               0   31   \n",
       "2                1.0               1               0               0   30   \n",
       "3                0.0               1               0               0   31   \n",
       "4                0.0               1               0               0   25   \n",
       "\n",
       "   heart_issues_yes  any_transplants_yes  cancer_history_yes  smoker_yes  \\\n",
       "0             False                False               False       False   \n",
       "1             False                False               False       False   \n",
       "2             False                False                True       False   \n",
       "3             False                False               False       False   \n",
       "4             False                False               False       False   \n",
       "\n",
       "   gender_male  \n",
       "0         True  \n",
       "1         True  \n",
       "2        False  \n",
       "3         True  \n",
       "4         True  "
      ]
     },
     "execution_count": 68,
     "metadata": {},
     "output_type": "execute_result"
    }
   ],
   "source": [
    "X.head()"
   ]
  },
  {
   "cell_type": "code",
   "execution_count": 69,
   "id": "6ae3253b-9e3b-4f5c-8788-e40d79e1d3a4",
   "metadata": {},
   "outputs": [],
   "source": [
    "#scoring='neg_root_mean_squared_error'"
   ]
  },
  {
   "cell_type": "code",
   "execution_count": 70,
   "id": "def5972a-6785-4994-8c18-cde23921d2be",
   "metadata": {},
   "outputs": [],
   "source": [
    "#Setting up a pipeline\n",
    "pipeline = Pipeline(steps=[('scaler', StandardScaler()), ('regressor', Ridge())])"
   ]
  },
  {
   "cell_type": "code",
   "execution_count": 71,
   "id": "3f4e1e9e-a1c3-42d0-b9d2-6ddd38e5a1ab",
   "metadata": {},
   "outputs": [],
   "source": [
    "# Defining the parameters for hyperparameter tuning\n",
    "parameters = {'regressor__alpha': [0.001, 0.01, 0.1, 1, 10, 100]}"
   ]
  },
  {
   "cell_type": "code",
   "execution_count": 72,
   "id": "0cdae368-7589-405d-8c2d-29242e5be022",
   "metadata": {},
   "outputs": [],
   "source": [
    "# Creating the KFold object\n",
    "kfold = KFold(n_splits=5, shuffle=True, random_state=42)"
   ]
  },
  {
   "cell_type": "code",
   "execution_count": 73,
   "id": "0dd2cd6a-6734-45c8-861b-9c55d25cb488",
   "metadata": {},
   "outputs": [],
   "source": [
    "# Creating the grid search object\n",
    "model_ridge = GridSearchCV(pipeline, parameters, cv=kfold, scoring='neg_mean_squared_error')\n"
   ]
  },
  {
   "cell_type": "code",
   "execution_count": 74,
   "id": "a7e7e519-d1b8-47d6-ad40-0f767469dd57",
   "metadata": {},
   "outputs": [
    {
     "data": {
      "text/html": [
       "<style>#sk-container-id-1 {\n",
       "  /* Definition of color scheme common for light and dark mode */\n",
       "  --sklearn-color-text: black;\n",
       "  --sklearn-color-line: gray;\n",
       "  /* Definition of color scheme for unfitted estimators */\n",
       "  --sklearn-color-unfitted-level-0: #fff5e6;\n",
       "  --sklearn-color-unfitted-level-1: #f6e4d2;\n",
       "  --sklearn-color-unfitted-level-2: #ffe0b3;\n",
       "  --sklearn-color-unfitted-level-3: chocolate;\n",
       "  /* Definition of color scheme for fitted estimators */\n",
       "  --sklearn-color-fitted-level-0: #f0f8ff;\n",
       "  --sklearn-color-fitted-level-1: #d4ebff;\n",
       "  --sklearn-color-fitted-level-2: #b3dbfd;\n",
       "  --sklearn-color-fitted-level-3: cornflowerblue;\n",
       "\n",
       "  /* Specific color for light theme */\n",
       "  --sklearn-color-text-on-default-background: var(--sg-text-color, var(--theme-code-foreground, var(--jp-content-font-color1, black)));\n",
       "  --sklearn-color-background: var(--sg-background-color, var(--theme-background, var(--jp-layout-color0, white)));\n",
       "  --sklearn-color-border-box: var(--sg-text-color, var(--theme-code-foreground, var(--jp-content-font-color1, black)));\n",
       "  --sklearn-color-icon: #696969;\n",
       "\n",
       "  @media (prefers-color-scheme: dark) {\n",
       "    /* Redefinition of color scheme for dark theme */\n",
       "    --sklearn-color-text-on-default-background: var(--sg-text-color, var(--theme-code-foreground, var(--jp-content-font-color1, white)));\n",
       "    --sklearn-color-background: var(--sg-background-color, var(--theme-background, var(--jp-layout-color0, #111)));\n",
       "    --sklearn-color-border-box: var(--sg-text-color, var(--theme-code-foreground, var(--jp-content-font-color1, white)));\n",
       "    --sklearn-color-icon: #878787;\n",
       "  }\n",
       "}\n",
       "\n",
       "#sk-container-id-1 {\n",
       "  color: var(--sklearn-color-text);\n",
       "}\n",
       "\n",
       "#sk-container-id-1 pre {\n",
       "  padding: 0;\n",
       "}\n",
       "\n",
       "#sk-container-id-1 input.sk-hidden--visually {\n",
       "  border: 0;\n",
       "  clip: rect(1px 1px 1px 1px);\n",
       "  clip: rect(1px, 1px, 1px, 1px);\n",
       "  height: 1px;\n",
       "  margin: -1px;\n",
       "  overflow: hidden;\n",
       "  padding: 0;\n",
       "  position: absolute;\n",
       "  width: 1px;\n",
       "}\n",
       "\n",
       "#sk-container-id-1 div.sk-dashed-wrapped {\n",
       "  border: 1px dashed var(--sklearn-color-line);\n",
       "  margin: 0 0.4em 0.5em 0.4em;\n",
       "  box-sizing: border-box;\n",
       "  padding-bottom: 0.4em;\n",
       "  background-color: var(--sklearn-color-background);\n",
       "}\n",
       "\n",
       "#sk-container-id-1 div.sk-container {\n",
       "  /* jupyter's `normalize.less` sets `[hidden] { display: none; }`\n",
       "     but bootstrap.min.css set `[hidden] { display: none !important; }`\n",
       "     so we also need the `!important` here to be able to override the\n",
       "     default hidden behavior on the sphinx rendered scikit-learn.org.\n",
       "     See: https://github.com/scikit-learn/scikit-learn/issues/21755 */\n",
       "  display: inline-block !important;\n",
       "  position: relative;\n",
       "}\n",
       "\n",
       "#sk-container-id-1 div.sk-text-repr-fallback {\n",
       "  display: none;\n",
       "}\n",
       "\n",
       "div.sk-parallel-item,\n",
       "div.sk-serial,\n",
       "div.sk-item {\n",
       "  /* draw centered vertical line to link estimators */\n",
       "  background-image: linear-gradient(var(--sklearn-color-text-on-default-background), var(--sklearn-color-text-on-default-background));\n",
       "  background-size: 2px 100%;\n",
       "  background-repeat: no-repeat;\n",
       "  background-position: center center;\n",
       "}\n",
       "\n",
       "/* Parallel-specific style estimator block */\n",
       "\n",
       "#sk-container-id-1 div.sk-parallel-item::after {\n",
       "  content: \"\";\n",
       "  width: 100%;\n",
       "  border-bottom: 2px solid var(--sklearn-color-text-on-default-background);\n",
       "  flex-grow: 1;\n",
       "}\n",
       "\n",
       "#sk-container-id-1 div.sk-parallel {\n",
       "  display: flex;\n",
       "  align-items: stretch;\n",
       "  justify-content: center;\n",
       "  background-color: var(--sklearn-color-background);\n",
       "  position: relative;\n",
       "}\n",
       "\n",
       "#sk-container-id-1 div.sk-parallel-item {\n",
       "  display: flex;\n",
       "  flex-direction: column;\n",
       "}\n",
       "\n",
       "#sk-container-id-1 div.sk-parallel-item:first-child::after {\n",
       "  align-self: flex-end;\n",
       "  width: 50%;\n",
       "}\n",
       "\n",
       "#sk-container-id-1 div.sk-parallel-item:last-child::after {\n",
       "  align-self: flex-start;\n",
       "  width: 50%;\n",
       "}\n",
       "\n",
       "#sk-container-id-1 div.sk-parallel-item:only-child::after {\n",
       "  width: 0;\n",
       "}\n",
       "\n",
       "/* Serial-specific style estimator block */\n",
       "\n",
       "#sk-container-id-1 div.sk-serial {\n",
       "  display: flex;\n",
       "  flex-direction: column;\n",
       "  align-items: center;\n",
       "  background-color: var(--sklearn-color-background);\n",
       "  padding-right: 1em;\n",
       "  padding-left: 1em;\n",
       "}\n",
       "\n",
       "\n",
       "/* Toggleable style: style used for estimator/Pipeline/ColumnTransformer box that is\n",
       "clickable and can be expanded/collapsed.\n",
       "- Pipeline and ColumnTransformer use this feature and define the default style\n",
       "- Estimators will overwrite some part of the style using the `sk-estimator` class\n",
       "*/\n",
       "\n",
       "/* Pipeline and ColumnTransformer style (default) */\n",
       "\n",
       "#sk-container-id-1 div.sk-toggleable {\n",
       "  /* Default theme specific background. It is overwritten whether we have a\n",
       "  specific estimator or a Pipeline/ColumnTransformer */\n",
       "  background-color: var(--sklearn-color-background);\n",
       "}\n",
       "\n",
       "/* Toggleable label */\n",
       "#sk-container-id-1 label.sk-toggleable__label {\n",
       "  cursor: pointer;\n",
       "  display: block;\n",
       "  width: 100%;\n",
       "  margin-bottom: 0;\n",
       "  padding: 0.5em;\n",
       "  box-sizing: border-box;\n",
       "  text-align: center;\n",
       "}\n",
       "\n",
       "#sk-container-id-1 label.sk-toggleable__label-arrow:before {\n",
       "  /* Arrow on the left of the label */\n",
       "  content: \"▸\";\n",
       "  float: left;\n",
       "  margin-right: 0.25em;\n",
       "  color: var(--sklearn-color-icon);\n",
       "}\n",
       "\n",
       "#sk-container-id-1 label.sk-toggleable__label-arrow:hover:before {\n",
       "  color: var(--sklearn-color-text);\n",
       "}\n",
       "\n",
       "/* Toggleable content - dropdown */\n",
       "\n",
       "#sk-container-id-1 div.sk-toggleable__content {\n",
       "  max-height: 0;\n",
       "  max-width: 0;\n",
       "  overflow: hidden;\n",
       "  text-align: left;\n",
       "  /* unfitted */\n",
       "  background-color: var(--sklearn-color-unfitted-level-0);\n",
       "}\n",
       "\n",
       "#sk-container-id-1 div.sk-toggleable__content.fitted {\n",
       "  /* fitted */\n",
       "  background-color: var(--sklearn-color-fitted-level-0);\n",
       "}\n",
       "\n",
       "#sk-container-id-1 div.sk-toggleable__content pre {\n",
       "  margin: 0.2em;\n",
       "  border-radius: 0.25em;\n",
       "  color: var(--sklearn-color-text);\n",
       "  /* unfitted */\n",
       "  background-color: var(--sklearn-color-unfitted-level-0);\n",
       "}\n",
       "\n",
       "#sk-container-id-1 div.sk-toggleable__content.fitted pre {\n",
       "  /* unfitted */\n",
       "  background-color: var(--sklearn-color-fitted-level-0);\n",
       "}\n",
       "\n",
       "#sk-container-id-1 input.sk-toggleable__control:checked~div.sk-toggleable__content {\n",
       "  /* Expand drop-down */\n",
       "  max-height: 200px;\n",
       "  max-width: 100%;\n",
       "  overflow: auto;\n",
       "}\n",
       "\n",
       "#sk-container-id-1 input.sk-toggleable__control:checked~label.sk-toggleable__label-arrow:before {\n",
       "  content: \"▾\";\n",
       "}\n",
       "\n",
       "/* Pipeline/ColumnTransformer-specific style */\n",
       "\n",
       "#sk-container-id-1 div.sk-label input.sk-toggleable__control:checked~label.sk-toggleable__label {\n",
       "  color: var(--sklearn-color-text);\n",
       "  background-color: var(--sklearn-color-unfitted-level-2);\n",
       "}\n",
       "\n",
       "#sk-container-id-1 div.sk-label.fitted input.sk-toggleable__control:checked~label.sk-toggleable__label {\n",
       "  background-color: var(--sklearn-color-fitted-level-2);\n",
       "}\n",
       "\n",
       "/* Estimator-specific style */\n",
       "\n",
       "/* Colorize estimator box */\n",
       "#sk-container-id-1 div.sk-estimator input.sk-toggleable__control:checked~label.sk-toggleable__label {\n",
       "  /* unfitted */\n",
       "  background-color: var(--sklearn-color-unfitted-level-2);\n",
       "}\n",
       "\n",
       "#sk-container-id-1 div.sk-estimator.fitted input.sk-toggleable__control:checked~label.sk-toggleable__label {\n",
       "  /* fitted */\n",
       "  background-color: var(--sklearn-color-fitted-level-2);\n",
       "}\n",
       "\n",
       "#sk-container-id-1 div.sk-label label.sk-toggleable__label,\n",
       "#sk-container-id-1 div.sk-label label {\n",
       "  /* The background is the default theme color */\n",
       "  color: var(--sklearn-color-text-on-default-background);\n",
       "}\n",
       "\n",
       "/* On hover, darken the color of the background */\n",
       "#sk-container-id-1 div.sk-label:hover label.sk-toggleable__label {\n",
       "  color: var(--sklearn-color-text);\n",
       "  background-color: var(--sklearn-color-unfitted-level-2);\n",
       "}\n",
       "\n",
       "/* Label box, darken color on hover, fitted */\n",
       "#sk-container-id-1 div.sk-label.fitted:hover label.sk-toggleable__label.fitted {\n",
       "  color: var(--sklearn-color-text);\n",
       "  background-color: var(--sklearn-color-fitted-level-2);\n",
       "}\n",
       "\n",
       "/* Estimator label */\n",
       "\n",
       "#sk-container-id-1 div.sk-label label {\n",
       "  font-family: monospace;\n",
       "  font-weight: bold;\n",
       "  display: inline-block;\n",
       "  line-height: 1.2em;\n",
       "}\n",
       "\n",
       "#sk-container-id-1 div.sk-label-container {\n",
       "  text-align: center;\n",
       "}\n",
       "\n",
       "/* Estimator-specific */\n",
       "#sk-container-id-1 div.sk-estimator {\n",
       "  font-family: monospace;\n",
       "  border: 1px dotted var(--sklearn-color-border-box);\n",
       "  border-radius: 0.25em;\n",
       "  box-sizing: border-box;\n",
       "  margin-bottom: 0.5em;\n",
       "  /* unfitted */\n",
       "  background-color: var(--sklearn-color-unfitted-level-0);\n",
       "}\n",
       "\n",
       "#sk-container-id-1 div.sk-estimator.fitted {\n",
       "  /* fitted */\n",
       "  background-color: var(--sklearn-color-fitted-level-0);\n",
       "}\n",
       "\n",
       "/* on hover */\n",
       "#sk-container-id-1 div.sk-estimator:hover {\n",
       "  /* unfitted */\n",
       "  background-color: var(--sklearn-color-unfitted-level-2);\n",
       "}\n",
       "\n",
       "#sk-container-id-1 div.sk-estimator.fitted:hover {\n",
       "  /* fitted */\n",
       "  background-color: var(--sklearn-color-fitted-level-2);\n",
       "}\n",
       "\n",
       "/* Specification for estimator info (e.g. \"i\" and \"?\") */\n",
       "\n",
       "/* Common style for \"i\" and \"?\" */\n",
       "\n",
       ".sk-estimator-doc-link,\n",
       "a:link.sk-estimator-doc-link,\n",
       "a:visited.sk-estimator-doc-link {\n",
       "  float: right;\n",
       "  font-size: smaller;\n",
       "  line-height: 1em;\n",
       "  font-family: monospace;\n",
       "  background-color: var(--sklearn-color-background);\n",
       "  border-radius: 1em;\n",
       "  height: 1em;\n",
       "  width: 1em;\n",
       "  text-decoration: none !important;\n",
       "  margin-left: 1ex;\n",
       "  /* unfitted */\n",
       "  border: var(--sklearn-color-unfitted-level-1) 1pt solid;\n",
       "  color: var(--sklearn-color-unfitted-level-1);\n",
       "}\n",
       "\n",
       ".sk-estimator-doc-link.fitted,\n",
       "a:link.sk-estimator-doc-link.fitted,\n",
       "a:visited.sk-estimator-doc-link.fitted {\n",
       "  /* fitted */\n",
       "  border: var(--sklearn-color-fitted-level-1) 1pt solid;\n",
       "  color: var(--sklearn-color-fitted-level-1);\n",
       "}\n",
       "\n",
       "/* On hover */\n",
       "div.sk-estimator:hover .sk-estimator-doc-link:hover,\n",
       ".sk-estimator-doc-link:hover,\n",
       "div.sk-label-container:hover .sk-estimator-doc-link:hover,\n",
       ".sk-estimator-doc-link:hover {\n",
       "  /* unfitted */\n",
       "  background-color: var(--sklearn-color-unfitted-level-3);\n",
       "  color: var(--sklearn-color-background);\n",
       "  text-decoration: none;\n",
       "}\n",
       "\n",
       "div.sk-estimator.fitted:hover .sk-estimator-doc-link.fitted:hover,\n",
       ".sk-estimator-doc-link.fitted:hover,\n",
       "div.sk-label-container:hover .sk-estimator-doc-link.fitted:hover,\n",
       ".sk-estimator-doc-link.fitted:hover {\n",
       "  /* fitted */\n",
       "  background-color: var(--sklearn-color-fitted-level-3);\n",
       "  color: var(--sklearn-color-background);\n",
       "  text-decoration: none;\n",
       "}\n",
       "\n",
       "/* Span, style for the box shown on hovering the info icon */\n",
       ".sk-estimator-doc-link span {\n",
       "  display: none;\n",
       "  z-index: 9999;\n",
       "  position: relative;\n",
       "  font-weight: normal;\n",
       "  right: .2ex;\n",
       "  padding: .5ex;\n",
       "  margin: .5ex;\n",
       "  width: min-content;\n",
       "  min-width: 20ex;\n",
       "  max-width: 50ex;\n",
       "  color: var(--sklearn-color-text);\n",
       "  box-shadow: 2pt 2pt 4pt #999;\n",
       "  /* unfitted */\n",
       "  background: var(--sklearn-color-unfitted-level-0);\n",
       "  border: .5pt solid var(--sklearn-color-unfitted-level-3);\n",
       "}\n",
       "\n",
       ".sk-estimator-doc-link.fitted span {\n",
       "  /* fitted */\n",
       "  background: var(--sklearn-color-fitted-level-0);\n",
       "  border: var(--sklearn-color-fitted-level-3);\n",
       "}\n",
       "\n",
       ".sk-estimator-doc-link:hover span {\n",
       "  display: block;\n",
       "}\n",
       "\n",
       "/* \"?\"-specific style due to the `<a>` HTML tag */\n",
       "\n",
       "#sk-container-id-1 a.estimator_doc_link {\n",
       "  float: right;\n",
       "  font-size: 1rem;\n",
       "  line-height: 1em;\n",
       "  font-family: monospace;\n",
       "  background-color: var(--sklearn-color-background);\n",
       "  border-radius: 1rem;\n",
       "  height: 1rem;\n",
       "  width: 1rem;\n",
       "  text-decoration: none;\n",
       "  /* unfitted */\n",
       "  color: var(--sklearn-color-unfitted-level-1);\n",
       "  border: var(--sklearn-color-unfitted-level-1) 1pt solid;\n",
       "}\n",
       "\n",
       "#sk-container-id-1 a.estimator_doc_link.fitted {\n",
       "  /* fitted */\n",
       "  border: var(--sklearn-color-fitted-level-1) 1pt solid;\n",
       "  color: var(--sklearn-color-fitted-level-1);\n",
       "}\n",
       "\n",
       "/* On hover */\n",
       "#sk-container-id-1 a.estimator_doc_link:hover {\n",
       "  /* unfitted */\n",
       "  background-color: var(--sklearn-color-unfitted-level-3);\n",
       "  color: var(--sklearn-color-background);\n",
       "  text-decoration: none;\n",
       "}\n",
       "\n",
       "#sk-container-id-1 a.estimator_doc_link.fitted:hover {\n",
       "  /* fitted */\n",
       "  background-color: var(--sklearn-color-fitted-level-3);\n",
       "}\n",
       "</style><div id=\"sk-container-id-1\" class=\"sk-top-container\"><div class=\"sk-text-repr-fallback\"><pre>GridSearchCV(cv=KFold(n_splits=5, random_state=42, shuffle=True),\n",
       "             estimator=Pipeline(steps=[(&#x27;scaler&#x27;, StandardScaler()),\n",
       "                                       (&#x27;regressor&#x27;, Ridge())]),\n",
       "             param_grid={&#x27;regressor__alpha&#x27;: [0.001, 0.01, 0.1, 1, 10, 100]},\n",
       "             scoring=&#x27;neg_mean_squared_error&#x27;)</pre><b>In a Jupyter environment, please rerun this cell to show the HTML representation or trust the notebook. <br />On GitHub, the HTML representation is unable to render, please try loading this page with nbviewer.org.</b></div><div class=\"sk-container\" hidden><div class=\"sk-item sk-dashed-wrapped\"><div class=\"sk-label-container\"><div class=\"sk-label fitted sk-toggleable\"><input class=\"sk-toggleable__control sk-hidden--visually\" id=\"sk-estimator-id-1\" type=\"checkbox\" ><label for=\"sk-estimator-id-1\" class=\"sk-toggleable__label fitted sk-toggleable__label-arrow fitted\">&nbsp;&nbsp;GridSearchCV<a class=\"sk-estimator-doc-link fitted\" rel=\"noreferrer\" target=\"_blank\" href=\"https://scikit-learn.org/1.5/modules/generated/sklearn.model_selection.GridSearchCV.html\">?<span>Documentation for GridSearchCV</span></a><span class=\"sk-estimator-doc-link fitted\">i<span>Fitted</span></span></label><div class=\"sk-toggleable__content fitted\"><pre>GridSearchCV(cv=KFold(n_splits=5, random_state=42, shuffle=True),\n",
       "             estimator=Pipeline(steps=[(&#x27;scaler&#x27;, StandardScaler()),\n",
       "                                       (&#x27;regressor&#x27;, Ridge())]),\n",
       "             param_grid={&#x27;regressor__alpha&#x27;: [0.001, 0.01, 0.1, 1, 10, 100]},\n",
       "             scoring=&#x27;neg_mean_squared_error&#x27;)</pre></div> </div></div><div class=\"sk-parallel\"><div class=\"sk-parallel-item\"><div class=\"sk-item\"><div class=\"sk-label-container\"><div class=\"sk-label fitted sk-toggleable\"><input class=\"sk-toggleable__control sk-hidden--visually\" id=\"sk-estimator-id-2\" type=\"checkbox\" ><label for=\"sk-estimator-id-2\" class=\"sk-toggleable__label fitted sk-toggleable__label-arrow fitted\">best_estimator_: Pipeline</label><div class=\"sk-toggleable__content fitted\"><pre>Pipeline(steps=[(&#x27;scaler&#x27;, StandardScaler()), (&#x27;regressor&#x27;, Ridge(alpha=10))])</pre></div> </div></div><div class=\"sk-serial\"><div class=\"sk-item\"><div class=\"sk-serial\"><div class=\"sk-item\"><div class=\"sk-estimator fitted sk-toggleable\"><input class=\"sk-toggleable__control sk-hidden--visually\" id=\"sk-estimator-id-3\" type=\"checkbox\" ><label for=\"sk-estimator-id-3\" class=\"sk-toggleable__label fitted sk-toggleable__label-arrow fitted\">&nbsp;StandardScaler<a class=\"sk-estimator-doc-link fitted\" rel=\"noreferrer\" target=\"_blank\" href=\"https://scikit-learn.org/1.5/modules/generated/sklearn.preprocessing.StandardScaler.html\">?<span>Documentation for StandardScaler</span></a></label><div class=\"sk-toggleable__content fitted\"><pre>StandardScaler()</pre></div> </div></div><div class=\"sk-item\"><div class=\"sk-estimator fitted sk-toggleable\"><input class=\"sk-toggleable__control sk-hidden--visually\" id=\"sk-estimator-id-4\" type=\"checkbox\" ><label for=\"sk-estimator-id-4\" class=\"sk-toggleable__label fitted sk-toggleable__label-arrow fitted\">&nbsp;Ridge<a class=\"sk-estimator-doc-link fitted\" rel=\"noreferrer\" target=\"_blank\" href=\"https://scikit-learn.org/1.5/modules/generated/sklearn.linear_model.Ridge.html\">?<span>Documentation for Ridge</span></a></label><div class=\"sk-toggleable__content fitted\"><pre>Ridge(alpha=10)</pre></div> </div></div></div></div></div></div></div></div></div></div></div>"
      ],
      "text/plain": [
       "GridSearchCV(cv=KFold(n_splits=5, random_state=42, shuffle=True),\n",
       "             estimator=Pipeline(steps=[('scaler', StandardScaler()),\n",
       "                                       ('regressor', Ridge())]),\n",
       "             param_grid={'regressor__alpha': [0.001, 0.01, 0.1, 1, 10, 100]},\n",
       "             scoring='neg_mean_squared_error')"
      ]
     },
     "execution_count": 74,
     "metadata": {},
     "output_type": "execute_result"
    }
   ],
   "source": [
    "model_ridge.fit(X, y)"
   ]
  },
  {
   "cell_type": "code",
   "execution_count": 75,
   "id": "d95ab487-2b6a-4e2a-a5f9-ff5ea6e3530c",
   "metadata": {},
   "outputs": [
    {
     "data": {
      "text/plain": [
       "{'regressor__alpha': 10}"
      ]
     },
     "execution_count": 75,
     "metadata": {},
     "output_type": "execute_result"
    }
   ],
   "source": [
    "# Getting the best parameters and the best model\n",
    "model_ridge.best_params_"
   ]
  },
  {
   "cell_type": "code",
   "execution_count": 76,
   "id": "fb1d77f0-3cec-4a71-8832-2f9ff6cdb04e",
   "metadata": {},
   "outputs": [
    {
     "data": {
      "text/html": [
       "<style>#sk-container-id-2 {\n",
       "  /* Definition of color scheme common for light and dark mode */\n",
       "  --sklearn-color-text: black;\n",
       "  --sklearn-color-line: gray;\n",
       "  /* Definition of color scheme for unfitted estimators */\n",
       "  --sklearn-color-unfitted-level-0: #fff5e6;\n",
       "  --sklearn-color-unfitted-level-1: #f6e4d2;\n",
       "  --sklearn-color-unfitted-level-2: #ffe0b3;\n",
       "  --sklearn-color-unfitted-level-3: chocolate;\n",
       "  /* Definition of color scheme for fitted estimators */\n",
       "  --sklearn-color-fitted-level-0: #f0f8ff;\n",
       "  --sklearn-color-fitted-level-1: #d4ebff;\n",
       "  --sklearn-color-fitted-level-2: #b3dbfd;\n",
       "  --sklearn-color-fitted-level-3: cornflowerblue;\n",
       "\n",
       "  /* Specific color for light theme */\n",
       "  --sklearn-color-text-on-default-background: var(--sg-text-color, var(--theme-code-foreground, var(--jp-content-font-color1, black)));\n",
       "  --sklearn-color-background: var(--sg-background-color, var(--theme-background, var(--jp-layout-color0, white)));\n",
       "  --sklearn-color-border-box: var(--sg-text-color, var(--theme-code-foreground, var(--jp-content-font-color1, black)));\n",
       "  --sklearn-color-icon: #696969;\n",
       "\n",
       "  @media (prefers-color-scheme: dark) {\n",
       "    /* Redefinition of color scheme for dark theme */\n",
       "    --sklearn-color-text-on-default-background: var(--sg-text-color, var(--theme-code-foreground, var(--jp-content-font-color1, white)));\n",
       "    --sklearn-color-background: var(--sg-background-color, var(--theme-background, var(--jp-layout-color0, #111)));\n",
       "    --sklearn-color-border-box: var(--sg-text-color, var(--theme-code-foreground, var(--jp-content-font-color1, white)));\n",
       "    --sklearn-color-icon: #878787;\n",
       "  }\n",
       "}\n",
       "\n",
       "#sk-container-id-2 {\n",
       "  color: var(--sklearn-color-text);\n",
       "}\n",
       "\n",
       "#sk-container-id-2 pre {\n",
       "  padding: 0;\n",
       "}\n",
       "\n",
       "#sk-container-id-2 input.sk-hidden--visually {\n",
       "  border: 0;\n",
       "  clip: rect(1px 1px 1px 1px);\n",
       "  clip: rect(1px, 1px, 1px, 1px);\n",
       "  height: 1px;\n",
       "  margin: -1px;\n",
       "  overflow: hidden;\n",
       "  padding: 0;\n",
       "  position: absolute;\n",
       "  width: 1px;\n",
       "}\n",
       "\n",
       "#sk-container-id-2 div.sk-dashed-wrapped {\n",
       "  border: 1px dashed var(--sklearn-color-line);\n",
       "  margin: 0 0.4em 0.5em 0.4em;\n",
       "  box-sizing: border-box;\n",
       "  padding-bottom: 0.4em;\n",
       "  background-color: var(--sklearn-color-background);\n",
       "}\n",
       "\n",
       "#sk-container-id-2 div.sk-container {\n",
       "  /* jupyter's `normalize.less` sets `[hidden] { display: none; }`\n",
       "     but bootstrap.min.css set `[hidden] { display: none !important; }`\n",
       "     so we also need the `!important` here to be able to override the\n",
       "     default hidden behavior on the sphinx rendered scikit-learn.org.\n",
       "     See: https://github.com/scikit-learn/scikit-learn/issues/21755 */\n",
       "  display: inline-block !important;\n",
       "  position: relative;\n",
       "}\n",
       "\n",
       "#sk-container-id-2 div.sk-text-repr-fallback {\n",
       "  display: none;\n",
       "}\n",
       "\n",
       "div.sk-parallel-item,\n",
       "div.sk-serial,\n",
       "div.sk-item {\n",
       "  /* draw centered vertical line to link estimators */\n",
       "  background-image: linear-gradient(var(--sklearn-color-text-on-default-background), var(--sklearn-color-text-on-default-background));\n",
       "  background-size: 2px 100%;\n",
       "  background-repeat: no-repeat;\n",
       "  background-position: center center;\n",
       "}\n",
       "\n",
       "/* Parallel-specific style estimator block */\n",
       "\n",
       "#sk-container-id-2 div.sk-parallel-item::after {\n",
       "  content: \"\";\n",
       "  width: 100%;\n",
       "  border-bottom: 2px solid var(--sklearn-color-text-on-default-background);\n",
       "  flex-grow: 1;\n",
       "}\n",
       "\n",
       "#sk-container-id-2 div.sk-parallel {\n",
       "  display: flex;\n",
       "  align-items: stretch;\n",
       "  justify-content: center;\n",
       "  background-color: var(--sklearn-color-background);\n",
       "  position: relative;\n",
       "}\n",
       "\n",
       "#sk-container-id-2 div.sk-parallel-item {\n",
       "  display: flex;\n",
       "  flex-direction: column;\n",
       "}\n",
       "\n",
       "#sk-container-id-2 div.sk-parallel-item:first-child::after {\n",
       "  align-self: flex-end;\n",
       "  width: 50%;\n",
       "}\n",
       "\n",
       "#sk-container-id-2 div.sk-parallel-item:last-child::after {\n",
       "  align-self: flex-start;\n",
       "  width: 50%;\n",
       "}\n",
       "\n",
       "#sk-container-id-2 div.sk-parallel-item:only-child::after {\n",
       "  width: 0;\n",
       "}\n",
       "\n",
       "/* Serial-specific style estimator block */\n",
       "\n",
       "#sk-container-id-2 div.sk-serial {\n",
       "  display: flex;\n",
       "  flex-direction: column;\n",
       "  align-items: center;\n",
       "  background-color: var(--sklearn-color-background);\n",
       "  padding-right: 1em;\n",
       "  padding-left: 1em;\n",
       "}\n",
       "\n",
       "\n",
       "/* Toggleable style: style used for estimator/Pipeline/ColumnTransformer box that is\n",
       "clickable and can be expanded/collapsed.\n",
       "- Pipeline and ColumnTransformer use this feature and define the default style\n",
       "- Estimators will overwrite some part of the style using the `sk-estimator` class\n",
       "*/\n",
       "\n",
       "/* Pipeline and ColumnTransformer style (default) */\n",
       "\n",
       "#sk-container-id-2 div.sk-toggleable {\n",
       "  /* Default theme specific background. It is overwritten whether we have a\n",
       "  specific estimator or a Pipeline/ColumnTransformer */\n",
       "  background-color: var(--sklearn-color-background);\n",
       "}\n",
       "\n",
       "/* Toggleable label */\n",
       "#sk-container-id-2 label.sk-toggleable__label {\n",
       "  cursor: pointer;\n",
       "  display: block;\n",
       "  width: 100%;\n",
       "  margin-bottom: 0;\n",
       "  padding: 0.5em;\n",
       "  box-sizing: border-box;\n",
       "  text-align: center;\n",
       "}\n",
       "\n",
       "#sk-container-id-2 label.sk-toggleable__label-arrow:before {\n",
       "  /* Arrow on the left of the label */\n",
       "  content: \"▸\";\n",
       "  float: left;\n",
       "  margin-right: 0.25em;\n",
       "  color: var(--sklearn-color-icon);\n",
       "}\n",
       "\n",
       "#sk-container-id-2 label.sk-toggleable__label-arrow:hover:before {\n",
       "  color: var(--sklearn-color-text);\n",
       "}\n",
       "\n",
       "/* Toggleable content - dropdown */\n",
       "\n",
       "#sk-container-id-2 div.sk-toggleable__content {\n",
       "  max-height: 0;\n",
       "  max-width: 0;\n",
       "  overflow: hidden;\n",
       "  text-align: left;\n",
       "  /* unfitted */\n",
       "  background-color: var(--sklearn-color-unfitted-level-0);\n",
       "}\n",
       "\n",
       "#sk-container-id-2 div.sk-toggleable__content.fitted {\n",
       "  /* fitted */\n",
       "  background-color: var(--sklearn-color-fitted-level-0);\n",
       "}\n",
       "\n",
       "#sk-container-id-2 div.sk-toggleable__content pre {\n",
       "  margin: 0.2em;\n",
       "  border-radius: 0.25em;\n",
       "  color: var(--sklearn-color-text);\n",
       "  /* unfitted */\n",
       "  background-color: var(--sklearn-color-unfitted-level-0);\n",
       "}\n",
       "\n",
       "#sk-container-id-2 div.sk-toggleable__content.fitted pre {\n",
       "  /* unfitted */\n",
       "  background-color: var(--sklearn-color-fitted-level-0);\n",
       "}\n",
       "\n",
       "#sk-container-id-2 input.sk-toggleable__control:checked~div.sk-toggleable__content {\n",
       "  /* Expand drop-down */\n",
       "  max-height: 200px;\n",
       "  max-width: 100%;\n",
       "  overflow: auto;\n",
       "}\n",
       "\n",
       "#sk-container-id-2 input.sk-toggleable__control:checked~label.sk-toggleable__label-arrow:before {\n",
       "  content: \"▾\";\n",
       "}\n",
       "\n",
       "/* Pipeline/ColumnTransformer-specific style */\n",
       "\n",
       "#sk-container-id-2 div.sk-label input.sk-toggleable__control:checked~label.sk-toggleable__label {\n",
       "  color: var(--sklearn-color-text);\n",
       "  background-color: var(--sklearn-color-unfitted-level-2);\n",
       "}\n",
       "\n",
       "#sk-container-id-2 div.sk-label.fitted input.sk-toggleable__control:checked~label.sk-toggleable__label {\n",
       "  background-color: var(--sklearn-color-fitted-level-2);\n",
       "}\n",
       "\n",
       "/* Estimator-specific style */\n",
       "\n",
       "/* Colorize estimator box */\n",
       "#sk-container-id-2 div.sk-estimator input.sk-toggleable__control:checked~label.sk-toggleable__label {\n",
       "  /* unfitted */\n",
       "  background-color: var(--sklearn-color-unfitted-level-2);\n",
       "}\n",
       "\n",
       "#sk-container-id-2 div.sk-estimator.fitted input.sk-toggleable__control:checked~label.sk-toggleable__label {\n",
       "  /* fitted */\n",
       "  background-color: var(--sklearn-color-fitted-level-2);\n",
       "}\n",
       "\n",
       "#sk-container-id-2 div.sk-label label.sk-toggleable__label,\n",
       "#sk-container-id-2 div.sk-label label {\n",
       "  /* The background is the default theme color */\n",
       "  color: var(--sklearn-color-text-on-default-background);\n",
       "}\n",
       "\n",
       "/* On hover, darken the color of the background */\n",
       "#sk-container-id-2 div.sk-label:hover label.sk-toggleable__label {\n",
       "  color: var(--sklearn-color-text);\n",
       "  background-color: var(--sklearn-color-unfitted-level-2);\n",
       "}\n",
       "\n",
       "/* Label box, darken color on hover, fitted */\n",
       "#sk-container-id-2 div.sk-label.fitted:hover label.sk-toggleable__label.fitted {\n",
       "  color: var(--sklearn-color-text);\n",
       "  background-color: var(--sklearn-color-fitted-level-2);\n",
       "}\n",
       "\n",
       "/* Estimator label */\n",
       "\n",
       "#sk-container-id-2 div.sk-label label {\n",
       "  font-family: monospace;\n",
       "  font-weight: bold;\n",
       "  display: inline-block;\n",
       "  line-height: 1.2em;\n",
       "}\n",
       "\n",
       "#sk-container-id-2 div.sk-label-container {\n",
       "  text-align: center;\n",
       "}\n",
       "\n",
       "/* Estimator-specific */\n",
       "#sk-container-id-2 div.sk-estimator {\n",
       "  font-family: monospace;\n",
       "  border: 1px dotted var(--sklearn-color-border-box);\n",
       "  border-radius: 0.25em;\n",
       "  box-sizing: border-box;\n",
       "  margin-bottom: 0.5em;\n",
       "  /* unfitted */\n",
       "  background-color: var(--sklearn-color-unfitted-level-0);\n",
       "}\n",
       "\n",
       "#sk-container-id-2 div.sk-estimator.fitted {\n",
       "  /* fitted */\n",
       "  background-color: var(--sklearn-color-fitted-level-0);\n",
       "}\n",
       "\n",
       "/* on hover */\n",
       "#sk-container-id-2 div.sk-estimator:hover {\n",
       "  /* unfitted */\n",
       "  background-color: var(--sklearn-color-unfitted-level-2);\n",
       "}\n",
       "\n",
       "#sk-container-id-2 div.sk-estimator.fitted:hover {\n",
       "  /* fitted */\n",
       "  background-color: var(--sklearn-color-fitted-level-2);\n",
       "}\n",
       "\n",
       "/* Specification for estimator info (e.g. \"i\" and \"?\") */\n",
       "\n",
       "/* Common style for \"i\" and \"?\" */\n",
       "\n",
       ".sk-estimator-doc-link,\n",
       "a:link.sk-estimator-doc-link,\n",
       "a:visited.sk-estimator-doc-link {\n",
       "  float: right;\n",
       "  font-size: smaller;\n",
       "  line-height: 1em;\n",
       "  font-family: monospace;\n",
       "  background-color: var(--sklearn-color-background);\n",
       "  border-radius: 1em;\n",
       "  height: 1em;\n",
       "  width: 1em;\n",
       "  text-decoration: none !important;\n",
       "  margin-left: 1ex;\n",
       "  /* unfitted */\n",
       "  border: var(--sklearn-color-unfitted-level-1) 1pt solid;\n",
       "  color: var(--sklearn-color-unfitted-level-1);\n",
       "}\n",
       "\n",
       ".sk-estimator-doc-link.fitted,\n",
       "a:link.sk-estimator-doc-link.fitted,\n",
       "a:visited.sk-estimator-doc-link.fitted {\n",
       "  /* fitted */\n",
       "  border: var(--sklearn-color-fitted-level-1) 1pt solid;\n",
       "  color: var(--sklearn-color-fitted-level-1);\n",
       "}\n",
       "\n",
       "/* On hover */\n",
       "div.sk-estimator:hover .sk-estimator-doc-link:hover,\n",
       ".sk-estimator-doc-link:hover,\n",
       "div.sk-label-container:hover .sk-estimator-doc-link:hover,\n",
       ".sk-estimator-doc-link:hover {\n",
       "  /* unfitted */\n",
       "  background-color: var(--sklearn-color-unfitted-level-3);\n",
       "  color: var(--sklearn-color-background);\n",
       "  text-decoration: none;\n",
       "}\n",
       "\n",
       "div.sk-estimator.fitted:hover .sk-estimator-doc-link.fitted:hover,\n",
       ".sk-estimator-doc-link.fitted:hover,\n",
       "div.sk-label-container:hover .sk-estimator-doc-link.fitted:hover,\n",
       ".sk-estimator-doc-link.fitted:hover {\n",
       "  /* fitted */\n",
       "  background-color: var(--sklearn-color-fitted-level-3);\n",
       "  color: var(--sklearn-color-background);\n",
       "  text-decoration: none;\n",
       "}\n",
       "\n",
       "/* Span, style for the box shown on hovering the info icon */\n",
       ".sk-estimator-doc-link span {\n",
       "  display: none;\n",
       "  z-index: 9999;\n",
       "  position: relative;\n",
       "  font-weight: normal;\n",
       "  right: .2ex;\n",
       "  padding: .5ex;\n",
       "  margin: .5ex;\n",
       "  width: min-content;\n",
       "  min-width: 20ex;\n",
       "  max-width: 50ex;\n",
       "  color: var(--sklearn-color-text);\n",
       "  box-shadow: 2pt 2pt 4pt #999;\n",
       "  /* unfitted */\n",
       "  background: var(--sklearn-color-unfitted-level-0);\n",
       "  border: .5pt solid var(--sklearn-color-unfitted-level-3);\n",
       "}\n",
       "\n",
       ".sk-estimator-doc-link.fitted span {\n",
       "  /* fitted */\n",
       "  background: var(--sklearn-color-fitted-level-0);\n",
       "  border: var(--sklearn-color-fitted-level-3);\n",
       "}\n",
       "\n",
       ".sk-estimator-doc-link:hover span {\n",
       "  display: block;\n",
       "}\n",
       "\n",
       "/* \"?\"-specific style due to the `<a>` HTML tag */\n",
       "\n",
       "#sk-container-id-2 a.estimator_doc_link {\n",
       "  float: right;\n",
       "  font-size: 1rem;\n",
       "  line-height: 1em;\n",
       "  font-family: monospace;\n",
       "  background-color: var(--sklearn-color-background);\n",
       "  border-radius: 1rem;\n",
       "  height: 1rem;\n",
       "  width: 1rem;\n",
       "  text-decoration: none;\n",
       "  /* unfitted */\n",
       "  color: var(--sklearn-color-unfitted-level-1);\n",
       "  border: var(--sklearn-color-unfitted-level-1) 1pt solid;\n",
       "}\n",
       "\n",
       "#sk-container-id-2 a.estimator_doc_link.fitted {\n",
       "  /* fitted */\n",
       "  border: var(--sklearn-color-fitted-level-1) 1pt solid;\n",
       "  color: var(--sklearn-color-fitted-level-1);\n",
       "}\n",
       "\n",
       "/* On hover */\n",
       "#sk-container-id-2 a.estimator_doc_link:hover {\n",
       "  /* unfitted */\n",
       "  background-color: var(--sklearn-color-unfitted-level-3);\n",
       "  color: var(--sklearn-color-background);\n",
       "  text-decoration: none;\n",
       "}\n",
       "\n",
       "#sk-container-id-2 a.estimator_doc_link.fitted:hover {\n",
       "  /* fitted */\n",
       "  background-color: var(--sklearn-color-fitted-level-3);\n",
       "}\n",
       "</style><div id=\"sk-container-id-2\" class=\"sk-top-container\"><div class=\"sk-text-repr-fallback\"><pre>Pipeline(steps=[(&#x27;scaler&#x27;, StandardScaler()), (&#x27;regressor&#x27;, Ridge(alpha=10))])</pre><b>In a Jupyter environment, please rerun this cell to show the HTML representation or trust the notebook. <br />On GitHub, the HTML representation is unable to render, please try loading this page with nbviewer.org.</b></div><div class=\"sk-container\" hidden><div class=\"sk-item sk-dashed-wrapped\"><div class=\"sk-label-container\"><div class=\"sk-label fitted sk-toggleable\"><input class=\"sk-toggleable__control sk-hidden--visually\" id=\"sk-estimator-id-5\" type=\"checkbox\" ><label for=\"sk-estimator-id-5\" class=\"sk-toggleable__label fitted sk-toggleable__label-arrow fitted\">&nbsp;&nbsp;Pipeline<a class=\"sk-estimator-doc-link fitted\" rel=\"noreferrer\" target=\"_blank\" href=\"https://scikit-learn.org/1.5/modules/generated/sklearn.pipeline.Pipeline.html\">?<span>Documentation for Pipeline</span></a><span class=\"sk-estimator-doc-link fitted\">i<span>Fitted</span></span></label><div class=\"sk-toggleable__content fitted\"><pre>Pipeline(steps=[(&#x27;scaler&#x27;, StandardScaler()), (&#x27;regressor&#x27;, Ridge(alpha=10))])</pre></div> </div></div><div class=\"sk-serial\"><div class=\"sk-item\"><div class=\"sk-estimator fitted sk-toggleable\"><input class=\"sk-toggleable__control sk-hidden--visually\" id=\"sk-estimator-id-6\" type=\"checkbox\" ><label for=\"sk-estimator-id-6\" class=\"sk-toggleable__label fitted sk-toggleable__label-arrow fitted\">&nbsp;StandardScaler<a class=\"sk-estimator-doc-link fitted\" rel=\"noreferrer\" target=\"_blank\" href=\"https://scikit-learn.org/1.5/modules/generated/sklearn.preprocessing.StandardScaler.html\">?<span>Documentation for StandardScaler</span></a></label><div class=\"sk-toggleable__content fitted\"><pre>StandardScaler()</pre></div> </div></div><div class=\"sk-item\"><div class=\"sk-estimator fitted sk-toggleable\"><input class=\"sk-toggleable__control sk-hidden--visually\" id=\"sk-estimator-id-7\" type=\"checkbox\" ><label for=\"sk-estimator-id-7\" class=\"sk-toggleable__label fitted sk-toggleable__label-arrow fitted\">&nbsp;Ridge<a class=\"sk-estimator-doc-link fitted\" rel=\"noreferrer\" target=\"_blank\" href=\"https://scikit-learn.org/1.5/modules/generated/sklearn.linear_model.Ridge.html\">?<span>Documentation for Ridge</span></a></label><div class=\"sk-toggleable__content fitted\"><pre>Ridge(alpha=10)</pre></div> </div></div></div></div></div></div>"
      ],
      "text/plain": [
       "Pipeline(steps=[('scaler', StandardScaler()), ('regressor', Ridge(alpha=10))])"
      ]
     },
     "execution_count": 76,
     "metadata": {},
     "output_type": "execute_result"
    }
   ],
   "source": [
    "model_ridge.best_estimator_"
   ]
  },
  {
   "cell_type": "markdown",
   "id": "2f3f9944-43f8-426e-85c7-18d5f5e11bab",
   "metadata": {},
   "source": [
    "## Gradient Boosting Algorithm"
   ]
  },
  {
   "cell_type": "code",
   "execution_count": 77,
   "id": "2b02fd76-e99d-49f1-a8f8-8e9574c61acb",
   "metadata": {},
   "outputs": [],
   "source": [
    "from sklearn.ensemble import GradientBoostingRegressor"
   ]
  },
  {
   "cell_type": "code",
   "execution_count": 78,
   "id": "31f2c439-31f7-4d27-86b6-f353c741113d",
   "metadata": {
    "colab": {
     "base_uri": "https://localhost:8080/"
    },
    "executionInfo": {
     "elapsed": 19180,
     "status": "ok",
     "timestamp": 1667229405387,
     "user": {
      "displayName": "Nimisha Pandey",
      "userId": "15071563106569379314"
     },
     "user_tz": -330
    },
    "id": "zXGDwmPx22dy",
    "outputId": "47c12c86-2072-490a-c696-720c85f490a3"
   },
   "outputs": [
    {
     "name": "stdout",
     "output_type": "stream",
     "text": [
      "[5.90716288e-03 1.15114472e-01 4.26565830e-03 1.04663487e-04\n",
      " 3.11202795e-04 2.23516356e-02 4.37893395e-03 7.27246020e-03\n",
      " 4.86825060e-05 8.99198619e-02 7.43786656e-06 1.09264565e-05\n",
      " 2.91256819e-04 7.49632782e-01 3.82862749e-04]\n"
     ]
    }
   ],
   "source": [
    "# Assuming df is your DataFrame\n",
    "# Use df appropriately to prepare X (input) and y (output)\n",
    "\n",
    "# Split the data into training and testing sets\n",
    "# (Make sure to replace X and y with your data appropriately)\n",
    "X_train,X_test,y_train,y_test = train_test_split(X,y)\n",
    "# Train the XGBoost model\n",
    "model = GradientBoostingRegressor()\n",
    "model.fit(X_train, y_train)\n",
    "\n",
    "\n",
    "# You can print the feature importances if needed\n",
    "print(model.feature_importances_)\n",
    "\n",
    "# Identify redundant variables based on the importance scores"
   ]
  },
  {
   "cell_type": "markdown",
   "id": "8565152e-6c29-4282-9bb0-80a06369ce70",
   "metadata": {},
   "source": [
    "#### Variable Importance"
   ]
  },
  {
   "cell_type": "code",
   "execution_count": 79,
   "id": "461d95da-f557-497a-898c-1846dadabdc8",
   "metadata": {},
   "outputs": [
    {
     "data": {
      "text/html": [
       "<div>\n",
       "<style scoped>\n",
       "    .dataframe tbody tr th:only-of-type {\n",
       "        vertical-align: middle;\n",
       "    }\n",
       "\n",
       "    .dataframe tbody tr th {\n",
       "        vertical-align: top;\n",
       "    }\n",
       "\n",
       "    .dataframe thead th {\n",
       "        text-align: right;\n",
       "    }\n",
       "</style>\n",
       "<table border=\"1\" class=\"dataframe\">\n",
       "  <thead>\n",
       "    <tr style=\"text-align: right;\">\n",
       "      <th></th>\n",
       "      <th>Features</th>\n",
       "      <th>Importance</th>\n",
       "    </tr>\n",
       "  </thead>\n",
       "  <tbody>\n",
       "    <tr>\n",
       "      <th>13</th>\n",
       "      <td>smoker_yes</td>\n",
       "      <td>0.749633</td>\n",
       "    </tr>\n",
       "    <tr>\n",
       "      <th>1</th>\n",
       "      <td>bmi</td>\n",
       "      <td>0.115114</td>\n",
       "    </tr>\n",
       "    <tr>\n",
       "      <th>9</th>\n",
       "      <td>age</td>\n",
       "      <td>0.089920</td>\n",
       "    </tr>\n",
       "    <tr>\n",
       "      <th>5</th>\n",
       "      <td>hospital_tier_ord</td>\n",
       "      <td>0.022352</td>\n",
       "    </tr>\n",
       "    <tr>\n",
       "      <th>7</th>\n",
       "      <td>state_id_r1011</td>\n",
       "      <td>0.007272</td>\n",
       "    </tr>\n",
       "    <tr>\n",
       "      <th>0</th>\n",
       "      <td>children</td>\n",
       "      <td>0.005907</td>\n",
       "    </tr>\n",
       "    <tr>\n",
       "      <th>6</th>\n",
       "      <td>state_id_r1013</td>\n",
       "      <td>0.004379</td>\n",
       "    </tr>\n",
       "    <tr>\n",
       "      <th>2</th>\n",
       "      <td>hba1c</td>\n",
       "      <td>0.004266</td>\n",
       "    </tr>\n",
       "    <tr>\n",
       "      <th>14</th>\n",
       "      <td>gender_male</td>\n",
       "      <td>0.000383</td>\n",
       "    </tr>\n",
       "    <tr>\n",
       "      <th>4</th>\n",
       "      <td>city_tier_ord</td>\n",
       "      <td>0.000311</td>\n",
       "    </tr>\n",
       "    <tr>\n",
       "      <th>12</th>\n",
       "      <td>cancer_history_yes</td>\n",
       "      <td>0.000291</td>\n",
       "    </tr>\n",
       "    <tr>\n",
       "      <th>3</th>\n",
       "      <td>numberofmajorsurgeries</td>\n",
       "      <td>0.000105</td>\n",
       "    </tr>\n",
       "    <tr>\n",
       "      <th>8</th>\n",
       "      <td>state_id_r1012</td>\n",
       "      <td>0.000049</td>\n",
       "    </tr>\n",
       "    <tr>\n",
       "      <th>11</th>\n",
       "      <td>any_transplants_yes</td>\n",
       "      <td>0.000011</td>\n",
       "    </tr>\n",
       "    <tr>\n",
       "      <th>10</th>\n",
       "      <td>heart_issues_yes</td>\n",
       "      <td>0.000007</td>\n",
       "    </tr>\n",
       "  </tbody>\n",
       "</table>\n",
       "</div>"
      ],
      "text/plain": [
       "                  Features  Importance\n",
       "13              smoker_yes    0.749633\n",
       "1                      bmi    0.115114\n",
       "9                      age    0.089920\n",
       "5        hospital_tier_ord    0.022352\n",
       "7           state_id_r1011    0.007272\n",
       "0                 children    0.005907\n",
       "6           state_id_r1013    0.004379\n",
       "2                    hba1c    0.004266\n",
       "14             gender_male    0.000383\n",
       "4            city_tier_ord    0.000311\n",
       "12      cancer_history_yes    0.000291\n",
       "3   numberofmajorsurgeries    0.000105\n",
       "8           state_id_r1012    0.000049\n",
       "11     any_transplants_yes    0.000011\n",
       "10        heart_issues_yes    0.000007"
      ]
     },
     "execution_count": 79,
     "metadata": {},
     "output_type": "execute_result"
    }
   ],
   "source": [
    "pd.DataFrame({'Features':model.feature_names_in_,'Importance':model.feature_importances_}).sort_values(\"Importance\",ascending=False)"
   ]
  },
  {
   "cell_type": "code",
   "execution_count": 80,
   "id": "2e8856b1-018a-497b-a94c-33b918022785",
   "metadata": {},
   "outputs": [
    {
     "data": {
      "text/plain": [
       "0.9358575424973825"
      ]
     },
     "execution_count": 80,
     "metadata": {},
     "output_type": "execute_result"
    }
   ],
   "source": [
    "# train score\n",
    "model.score(X_train,y_train)"
   ]
  },
  {
   "cell_type": "code",
   "execution_count": 81,
   "id": "04971557-0422-4224-a7de-6446031839c0",
   "metadata": {},
   "outputs": [
    {
     "data": {
      "text/plain": [
       "0.9125064256478321"
      ]
     },
     "execution_count": 81,
     "metadata": {},
     "output_type": "execute_result"
    }
   ],
   "source": [
    "# test score\n",
    "model.score(X_test,y_test)"
   ]
  },
  {
   "cell_type": "markdown",
   "id": "a2b8a931-4a55-4c80-8577-a5a3c96d96a3",
   "metadata": {
    "tags": []
   },
   "source": [
    "## 15. Predict the hospitalization cost for Christopher, Ms. Jayna (Date of birth – 12/28/1988, height 170 cm and weight 85 kgs). She resides in a tier1 city (state : stateid = R1011) with husband and 2 of her kids. She is tested non-diabetic ( hbA1c = 5.8). She smokes but otherwise she is healthy, no transplants and no major surgeries so far. Her father had lung cancer and that was the reason of his early demise. Hospitalization cost to predicted considering tier1 hospitals.  \n",
    "\n",
    "Find predicted  hospitalization cost based on all the 5 models. The predicted value should be mean of all the 5 predicted values from the 5 models.\n"
   ]
  },
  {
   "cell_type": "code",
   "execution_count": 82,
   "id": "5385f47b-504c-4df0-be56-84d13bec0164",
   "metadata": {},
   "outputs": [
    {
     "data": {
      "text/plain": [
       "Index(['children', 'bmi', 'hba1c', 'numberofmajorsurgeries', 'city_tier_ord',\n",
       "       'hospital_tier_ord', 'state_id_r1013', 'state_id_r1011',\n",
       "       'state_id_r1012', 'age', 'heart_issues_yes', 'any_transplants_yes',\n",
       "       'cancer_history_yes', 'smoker_yes', 'gender_male', 'charges'],\n",
       "      dtype='object')"
      ]
     },
     "execution_count": 82,
     "metadata": {},
     "output_type": "execute_result"
    }
   ],
   "source": [
    "model_data.columns"
   ]
  },
  {
   "cell_type": "code",
   "execution_count": 83,
   "id": "ee1c0f84-7498-434d-84b9-cc226d55bf71",
   "metadata": {
    "tags": []
   },
   "outputs": [],
   "source": [
    "pred_data = pd.DataFrame({'Name' : ['Christopher, Ms. Jayna'],\n",
    "                      'DOB' : ['12/28/1988'],\n",
    "                      'city_tier' : ['tier - 1'], 'children' :[ 2],\n",
    "                       'HbA1c' : [5.8], \n",
    "                       'smoker_yes' : [1],\n",
    "                       'heart_issues_yes' : [0],\n",
    "                       'any_transplants_yes' : [0],\n",
    "                       'numberofmajorsurgeries' :[ 0],\n",
    "                       'cancer_history_yes' : [1],\n",
    "                       'hospital_tier' : ['tier - 1'],\n",
    "                       'bmi' : [85/(1.70 **2)],\n",
    "                       'state_id_R1011' : [1]\n",
    "                      })"
   ]
  },
  {
   "cell_type": "code",
   "execution_count": 84,
   "id": "eacb72a0-b414-4a93-bd61-b5f8d680f62f",
   "metadata": {
    "tags": []
   },
   "outputs": [
    {
     "data": {
      "text/html": [
       "<div>\n",
       "<style scoped>\n",
       "    .dataframe tbody tr th:only-of-type {\n",
       "        vertical-align: middle;\n",
       "    }\n",
       "\n",
       "    .dataframe tbody tr th {\n",
       "        vertical-align: top;\n",
       "    }\n",
       "\n",
       "    .dataframe thead th {\n",
       "        text-align: right;\n",
       "    }\n",
       "</style>\n",
       "<table border=\"1\" class=\"dataframe\">\n",
       "  <thead>\n",
       "    <tr style=\"text-align: right;\">\n",
       "      <th></th>\n",
       "      <th>Name</th>\n",
       "      <th>DOB</th>\n",
       "      <th>city_tier</th>\n",
       "      <th>children</th>\n",
       "      <th>HbA1c</th>\n",
       "      <th>smoker_yes</th>\n",
       "      <th>heart_issues_yes</th>\n",
       "      <th>any_transplants_yes</th>\n",
       "      <th>numberofmajorsurgeries</th>\n",
       "      <th>cancer_history_yes</th>\n",
       "      <th>hospital_tier</th>\n",
       "      <th>bmi</th>\n",
       "      <th>state_id_R1011</th>\n",
       "    </tr>\n",
       "  </thead>\n",
       "  <tbody>\n",
       "    <tr>\n",
       "      <th>0</th>\n",
       "      <td>Christopher, Ms. Jayna</td>\n",
       "      <td>12/28/1988</td>\n",
       "      <td>tier - 1</td>\n",
       "      <td>2</td>\n",
       "      <td>5.8</td>\n",
       "      <td>1</td>\n",
       "      <td>0</td>\n",
       "      <td>0</td>\n",
       "      <td>0</td>\n",
       "      <td>1</td>\n",
       "      <td>tier - 1</td>\n",
       "      <td>29.411765</td>\n",
       "      <td>1</td>\n",
       "    </tr>\n",
       "  </tbody>\n",
       "</table>\n",
       "</div>"
      ],
      "text/plain": [
       "                     Name         DOB city_tier  children  HbA1c  smoker_yes  \\\n",
       "0  Christopher, Ms. Jayna  12/28/1988  tier - 1         2    5.8           1   \n",
       "\n",
       "   heart_issues_yes  any_transplants_yes  numberofmajorsurgeries  \\\n",
       "0                 0                    0                       0   \n",
       "\n",
       "   cancer_history_yes hospital_tier        bmi  state_id_R1011  \n",
       "0                   1      tier - 1  29.411765               1  "
      ]
     },
     "execution_count": 84,
     "metadata": {},
     "output_type": "execute_result"
    }
   ],
   "source": [
    "pred_data"
   ]
  },
  {
   "cell_type": "code",
   "execution_count": 85,
   "id": "3a814669-ecdd-4cf8-8f4f-1da486d060a3",
   "metadata": {},
   "outputs": [],
   "source": [
    "pred_data.columns = pred_data.columns.str.lower()    \n",
    "    "
   ]
  },
  {
   "cell_type": "code",
   "execution_count": 86,
   "id": "98756b6d-117d-41b3-b27c-4bd342f6d128",
   "metadata": {},
   "outputs": [],
   "source": [
    "# we will create columns according to the final model data already created"
   ]
  },
  {
   "cell_type": "code",
   "execution_count": 87,
   "id": "66301e88-8128-4526-8f7b-b4f0d58d6181",
   "metadata": {},
   "outputs": [],
   "source": [
    "pred_data['gender_male']  = 0\n",
    "pred_data.loc[pred_data.name.str.split('[,.]').str[1] == 'Mr', 'gender_male'] = 1\n",
    "pred_data.drop(columns = 'name', inplace = True)"
   ]
  },
  {
   "cell_type": "code",
   "execution_count": 88,
   "id": "b9fd8759-6fdd-43a4-889b-6f5b7fda2c34",
   "metadata": {},
   "outputs": [
    {
     "data": {
      "text/html": [
       "<div>\n",
       "<style scoped>\n",
       "    .dataframe tbody tr th:only-of-type {\n",
       "        vertical-align: middle;\n",
       "    }\n",
       "\n",
       "    .dataframe tbody tr th {\n",
       "        vertical-align: top;\n",
       "    }\n",
       "\n",
       "    .dataframe thead th {\n",
       "        text-align: right;\n",
       "    }\n",
       "</style>\n",
       "<table border=\"1\" class=\"dataframe\">\n",
       "  <thead>\n",
       "    <tr style=\"text-align: right;\">\n",
       "      <th></th>\n",
       "      <th>dob</th>\n",
       "      <th>city_tier</th>\n",
       "      <th>children</th>\n",
       "      <th>hba1c</th>\n",
       "      <th>smoker_yes</th>\n",
       "      <th>heart_issues_yes</th>\n",
       "      <th>any_transplants_yes</th>\n",
       "      <th>numberofmajorsurgeries</th>\n",
       "      <th>cancer_history_yes</th>\n",
       "      <th>hospital_tier</th>\n",
       "      <th>bmi</th>\n",
       "      <th>state_id_r1011</th>\n",
       "      <th>gender_male</th>\n",
       "    </tr>\n",
       "  </thead>\n",
       "  <tbody>\n",
       "    <tr>\n",
       "      <th>0</th>\n",
       "      <td>12/28/1988</td>\n",
       "      <td>tier - 1</td>\n",
       "      <td>2</td>\n",
       "      <td>5.8</td>\n",
       "      <td>1</td>\n",
       "      <td>0</td>\n",
       "      <td>0</td>\n",
       "      <td>0</td>\n",
       "      <td>1</td>\n",
       "      <td>tier - 1</td>\n",
       "      <td>29.411765</td>\n",
       "      <td>1</td>\n",
       "      <td>0</td>\n",
       "    </tr>\n",
       "  </tbody>\n",
       "</table>\n",
       "</div>"
      ],
      "text/plain": [
       "          dob city_tier  children  hba1c  smoker_yes  heart_issues_yes  \\\n",
       "0  12/28/1988  tier - 1         2    5.8           1                 0   \n",
       "\n",
       "   any_transplants_yes  numberofmajorsurgeries  cancer_history_yes  \\\n",
       "0                    0                       0                   1   \n",
       "\n",
       "  hospital_tier        bmi  state_id_r1011  gender_male  \n",
       "0      tier - 1  29.411765               1            0  "
      ]
     },
     "execution_count": 88,
     "metadata": {},
     "output_type": "execute_result"
    }
   ],
   "source": [
    "pred_data"
   ]
  },
  {
   "cell_type": "code",
   "execution_count": 89,
   "id": "e4f97abb-cce9-4376-88c1-fbe6a7e6ac63",
   "metadata": {},
   "outputs": [],
   "source": [
    "#pred_data['age'] =2023 - pred_data.dob.astype(np.datetime64).dt.year"
   ]
  },
  {
   "cell_type": "code",
   "execution_count": 90,
   "id": "d92ab937-9c2d-4291-b9fa-8c60608c46b6",
   "metadata": {},
   "outputs": [],
   "source": [
    "pred_data.drop(columns = 'dob', inplace = True)"
   ]
  },
  {
   "cell_type": "code",
   "execution_count": 91,
   "id": "374a268f-86d7-4e93-88e8-fbe5e861edfb",
   "metadata": {},
   "outputs": [],
   "source": [
    "pred_data[['city_tier_ord', 'hospital_tier_ord']] = ordinal.transform(pred_data[['city_tier', 'hospital_tier']])"
   ]
  },
  {
   "cell_type": "code",
   "execution_count": 92,
   "id": "4c2d0074-9050-44a4-906d-b290988e30b4",
   "metadata": {},
   "outputs": [],
   "source": [
    "pred_data.drop(columns =['city_tier', 'hospital_tier'], inplace = True )"
   ]
  },
  {
   "cell_type": "code",
   "execution_count": 93,
   "id": "f9696ea2-00d4-4a3d-8bfb-05d91f0083a1",
   "metadata": {},
   "outputs": [],
   "source": [
    "# initializing the missing columns with 0 and not include charges"
   ]
  },
  {
   "cell_type": "code",
   "execution_count": 94,
   "id": "3129c9ed-eb4a-4ffe-9b6e-463eb2facc84",
   "metadata": {},
   "outputs": [],
   "source": [
    "for col in model_data.columns:\n",
    "    if col not in pred_data.columns and col != 'charges':\n",
    "        pred_data[col] = 0"
   ]
  },
  {
   "cell_type": "code",
   "execution_count": 95,
   "id": "fbb24dd3-4571-4332-a708-816c9faac989",
   "metadata": {},
   "outputs": [
    {
     "data": {
      "text/html": [
       "<div>\n",
       "<style scoped>\n",
       "    .dataframe tbody tr th:only-of-type {\n",
       "        vertical-align: middle;\n",
       "    }\n",
       "\n",
       "    .dataframe tbody tr th {\n",
       "        vertical-align: top;\n",
       "    }\n",
       "\n",
       "    .dataframe thead th {\n",
       "        text-align: right;\n",
       "    }\n",
       "</style>\n",
       "<table border=\"1\" class=\"dataframe\">\n",
       "  <thead>\n",
       "    <tr style=\"text-align: right;\">\n",
       "      <th></th>\n",
       "      <th>children</th>\n",
       "      <th>hba1c</th>\n",
       "      <th>smoker_yes</th>\n",
       "      <th>heart_issues_yes</th>\n",
       "      <th>any_transplants_yes</th>\n",
       "      <th>numberofmajorsurgeries</th>\n",
       "      <th>cancer_history_yes</th>\n",
       "      <th>bmi</th>\n",
       "      <th>state_id_r1011</th>\n",
       "      <th>gender_male</th>\n",
       "      <th>city_tier_ord</th>\n",
       "      <th>hospital_tier_ord</th>\n",
       "      <th>state_id_r1013</th>\n",
       "      <th>state_id_r1012</th>\n",
       "      <th>age</th>\n",
       "    </tr>\n",
       "  </thead>\n",
       "  <tbody>\n",
       "    <tr>\n",
       "      <th>0</th>\n",
       "      <td>2</td>\n",
       "      <td>5.8</td>\n",
       "      <td>1</td>\n",
       "      <td>0</td>\n",
       "      <td>0</td>\n",
       "      <td>0</td>\n",
       "      <td>1</td>\n",
       "      <td>29.411765</td>\n",
       "      <td>1</td>\n",
       "      <td>0</td>\n",
       "      <td>2.0</td>\n",
       "      <td>2.0</td>\n",
       "      <td>0</td>\n",
       "      <td>0</td>\n",
       "      <td>0</td>\n",
       "    </tr>\n",
       "  </tbody>\n",
       "</table>\n",
       "</div>"
      ],
      "text/plain": [
       "   children  hba1c  smoker_yes  heart_issues_yes  any_transplants_yes  \\\n",
       "0         2    5.8           1                 0                    0   \n",
       "\n",
       "   numberofmajorsurgeries  cancer_history_yes        bmi  state_id_r1011  \\\n",
       "0                       0                   1  29.411765               1   \n",
       "\n",
       "   gender_male  city_tier_ord  hospital_tier_ord  state_id_r1013  \\\n",
       "0            0            2.0                2.0               0   \n",
       "\n",
       "   state_id_r1012  age  \n",
       "0               0    0  "
      ]
     },
     "execution_count": 95,
     "metadata": {},
     "output_type": "execute_result"
    }
   ],
   "source": [
    "pred_data"
   ]
  },
  {
   "cell_type": "code",
   "execution_count": 96,
   "id": "ad997a12-ab7c-4e18-936c-865aea0c68f6",
   "metadata": {},
   "outputs": [
    {
     "data": {
      "text/plain": [
       "Index(['children', 'bmi', 'hba1c', 'numberofmajorsurgeries', 'city_tier_ord',\n",
       "       'hospital_tier_ord', 'state_id_r1013', 'state_id_r1011',\n",
       "       'state_id_r1012', 'age', 'heart_issues_yes', 'any_transplants_yes',\n",
       "       'cancer_history_yes', 'smoker_yes', 'gender_male', 'charges'],\n",
       "      dtype='object')"
      ]
     },
     "execution_count": 96,
     "metadata": {},
     "output_type": "execute_result"
    }
   ],
   "source": [
    "### Apply Gradient BOOST model for predi\n",
    "model_data.columns"
   ]
  },
  {
   "cell_type": "code",
   "execution_count": 97,
   "id": "76087611-39cc-48db-99b2-0d06f41c2fbe",
   "metadata": {},
   "outputs": [
    {
     "data": {
      "text/plain": [
       "Index(['children', 'hba1c', 'smoker_yes', 'heart_issues_yes',\n",
       "       'any_transplants_yes', 'numberofmajorsurgeries', 'cancer_history_yes',\n",
       "       'bmi', 'state_id_r1011', 'gender_male', 'city_tier_ord',\n",
       "       'hospital_tier_ord', 'state_id_r1013', 'state_id_r1012', 'age'],\n",
       "      dtype='object')"
      ]
     },
     "execution_count": 97,
     "metadata": {},
     "output_type": "execute_result"
    }
   ],
   "source": [
    "pred_data.columns"
   ]
  },
  {
   "cell_type": "code",
   "execution_count": 98,
   "id": "9d671de2-495f-4d1f-a576-eb3bc02c66c5",
   "metadata": {},
   "outputs": [],
   "source": [
    "pred_data=pred_data[model_data.drop(columns='charges').columns]"
   ]
  },
  {
   "cell_type": "code",
   "execution_count": 99,
   "id": "de82093c-4300-4aa1-9feb-60a76c8ce61a",
   "metadata": {},
   "outputs": [
    {
     "data": {
      "text/plain": [
       "array([26682.74689192])"
      ]
     },
     "execution_count": 99,
     "metadata": {},
     "output_type": "execute_result"
    }
   ],
   "source": [
    "model.predict(pred_data)"
   ]
  }
 ],
 "metadata": {
  "colab": {
   "collapsed_sections": [],
   "provenance": [
    {
     "file_id": "1-5SIq_QSPaZKYEPWsiF2E70WQMJWQllY",
     "timestamp": 1667218099230
    }
   ]
  },
  "kernelspec": {
   "display_name": "Python 3 (ipykernel)",
   "language": "python",
   "name": "python3"
  },
  "language_info": {
   "codemirror_mode": {
    "name": "ipython",
    "version": 3
   },
   "file_extension": ".py",
   "mimetype": "text/x-python",
   "name": "python",
   "nbconvert_exporter": "python",
   "pygments_lexer": "ipython3",
   "version": "3.12.5"
  }
 },
 "nbformat": 4,
 "nbformat_minor": 5
}
